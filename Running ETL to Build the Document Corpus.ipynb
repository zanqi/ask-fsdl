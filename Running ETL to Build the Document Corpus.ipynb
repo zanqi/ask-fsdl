{
  "cells": [
    {
      "attachments": {},
      "cell_type": "markdown",
      "metadata": {},
      "source": [
        "# Running ETL to Build the Document Corpus"
      ]
    },
    {
      "attachments": {},
      "cell_type": "markdown",
      "metadata": {},
      "source": [
        "This notebook walks through the process for setting up the corpus of Full Stack documents that the bot searches over.\n",
        "\n",
        "In each case, we have to\n",
        "- Extract data from its natural habitat, like YouTube or GitHub\n",
        "- Transform it into a format that is useful for our purposes\n",
        "- Load it into our database in that format\n",
        "\n",
        "hence the acronym \"ETL\"."
      ]
    },
    {
      "cell_type": "code",
      "execution_count": 1,
      "metadata": {},
      "outputs": [
        {
          "name": "stdout",
          "output_type": "stream",
          "text": [
            "\u001b[1;38;5;214m###\n",
            "# \ud83e\udd5e:\u001b[0m Loaded config from .env.dev\n",
            "\u001b[1;38;5;214m###\u001b[0m\n",
            "python -m pip install -qqq -r requirements.txt\n",
            "\u001b[1;38;5;214m###\n",
            "# \ud83e\udd5e:\u001b[0m If you haven't gotten a Modal token yet, run make modal-token\n",
            "\u001b[1;38;5;214m###\u001b[0m\n",
            "Verifying token against \u001b[4;34mhttps://api.modal.com\u001b[0m\n",
            "\u001b[32mToken verified successfully\u001b[0m\n",
            "Token written to \u001b[35m/Users/zanqiliang/\u001b[0m\u001b[95m.modal.toml\u001b[0m\n",
            "bash tasks/setup_environment_modal.sh \n",
            "\u001b[1;38;5;214m###\n",
            "# \ud83e\udd5e:\u001b[0m Setting up modal environment dev\n",
            "\u001b[1;38;5;214m###\u001b[0m\n",
            "\u001b[31m\u256d\u2500\u001b[0m\u001b[31m\u2500\u2500\u2500\u2500\u2500\u2500\u2500\u2500\u2500\u2500\u2500\u2500\u2500\u2500\u2500\u2500\u2500\u2500\u2500\u2500\u001b[0m\u001b[31m \u001b[0m\u001b[1;31mTraceback \u001b[0m\u001b[1;2;31m(most recent call last)\u001b[0m\u001b[31m \u001b[0m\u001b[31m\u2500\u2500\u2500\u2500\u2500\u2500\u2500\u2500\u2500\u2500\u2500\u2500\u2500\u2500\u2500\u2500\u2500\u2500\u2500\u2500\u2500\u001b[0m\u001b[31m\u2500\u256e\u001b[0m\n",
            "\u001b[31m\u2502\u001b[0m \u001b[2;33m/Users/zanqiliang/.pyenv/versions/ask-fsdl/lib/python3.10/site-packages/moda\u001b[0m \u001b[31m\u2502\u001b[0m\n",
            "\u001b[31m\u2502\u001b[0m \u001b[2;33ml/cli/\u001b[0m\u001b[1;33menvironment.py\u001b[0m:\u001b[94m51\u001b[0m in \u001b[92mcreate\u001b[0m                                            \u001b[31m\u2502\u001b[0m\n",
            "\u001b[31m\u2502\u001b[0m                                                                              \u001b[31m\u2502\u001b[0m\n",
            "\u001b[31m\u2502\u001b[0m   \u001b[2m50 \u001b[0m\u001b[94mdef\u001b[0m \u001b[92mcreate\u001b[0m(name: Annotated[\u001b[96mstr\u001b[0m, typer.Argument(help=\u001b[33m\"\u001b[0m\u001b[33mName of the new en\u001b[0m \u001b[31m\u2502\u001b[0m\n",
            "\u001b[31m\u2502\u001b[0m \u001b[31m\u2771 \u001b[0m51 \u001b[2m\u2502   \u001b[0menvironments.create_environment(name)                               \u001b[31m\u2502\u001b[0m\n",
            "\u001b[31m\u2502\u001b[0m   \u001b[2m52 \u001b[0m\u001b[2m\u2502   \u001b[0mtyper.echo(\u001b[33mf\u001b[0m\u001b[33m\"\u001b[0m\u001b[33mEnvironment created: \u001b[0m\u001b[33m{\u001b[0mname\u001b[33m}\u001b[0m\u001b[33m\"\u001b[0m)                          \u001b[31m\u2502\u001b[0m\n",
            "\u001b[31m\u2502\u001b[0m                                                                              \u001b[31m\u2502\u001b[0m\n",
            "\u001b[31m\u2502\u001b[0m \u001b[2;33m/Users/zanqiliang/.pyenv/versions/ask-fsdl/lib/python3.10/site-packages/sync\u001b[0m \u001b[31m\u2502\u001b[0m\n",
            "\u001b[31m\u2502\u001b[0m \u001b[2;33mhronicity/\u001b[0m\u001b[1;33mcombined_types.py\u001b[0m:\u001b[94m26\u001b[0m in \u001b[92m__call__\u001b[0m                                   \u001b[31m\u2502\u001b[0m\n",
            "\u001b[31m\u2502\u001b[0m                                                                              \u001b[31m\u2502\u001b[0m\n",
            "\u001b[31m\u2502\u001b[0m \u001b[2;33m/Users/zanqiliang/.pyenv/versions/ask-fsdl/lib/python3.10/site-packages/moda\u001b[0m \u001b[31m\u2502\u001b[0m\n",
            "\u001b[31m\u2502\u001b[0m \u001b[2;33ml/\u001b[0m\u001b[1;33menvironments.py\u001b[0m:\u001b[94m44\u001b[0m in \u001b[92mcreate_environment\u001b[0m                                   \u001b[31m\u2502\u001b[0m\n",
            "\u001b[31m\u2502\u001b[0m                                                                              \u001b[31m\u2502\u001b[0m\n",
            "\u001b[31m\u2502\u001b[0m   \u001b[2m43 \u001b[0m\u001b[2m\u2502   \u001b[0mstub = client.stub                                                  \u001b[31m\u2502\u001b[0m\n",
            "\u001b[31m\u2502\u001b[0m \u001b[31m\u2771 \u001b[0m44 \u001b[2m\u2502   \u001b[0m\u001b[94mawait\u001b[0m stub.EnvironmentCreate(api_pb2.EnvironmentCreateRequest(name= \u001b[31m\u2502\u001b[0m\n",
            "\u001b[31m\u2502\u001b[0m   \u001b[2m45 \u001b[0m                                                                        \u001b[31m\u2502\u001b[0m\n",
            "\u001b[31m\u2502\u001b[0m                                                                              \u001b[31m\u2502\u001b[0m\n",
            "\u001b[31m\u2502\u001b[0m \u001b[2;33m/Users/zanqiliang/.pyenv/versions/ask-fsdl/lib/python3.10/site-packages/grpc\u001b[0m \u001b[31m\u2502\u001b[0m\n",
            "\u001b[31m\u2502\u001b[0m \u001b[2;33mlib/\u001b[0m\u001b[1;33mclient.py\u001b[0m:\u001b[94m882\u001b[0m in \u001b[92m__call__\u001b[0m                                                \u001b[31m\u2502\u001b[0m\n",
            "\u001b[31m\u2502\u001b[0m                                                                              \u001b[31m\u2502\u001b[0m\n",
            "\u001b[31m\u2502\u001b[0m \u001b[2;33m/Users/zanqiliang/.pyenv/versions/ask-fsdl/lib/python3.10/site-packages/grpc\u001b[0m \u001b[31m\u2502\u001b[0m\n",
            "\u001b[31m\u2502\u001b[0m \u001b[2;33mlib/\u001b[0m\u001b[1;33mclient.py\u001b[0m:\u001b[94m425\u001b[0m in \u001b[92mrecv_message\u001b[0m                                            \u001b[31m\u2502\u001b[0m\n",
            "\u001b[31m\u2502\u001b[0m                                                                              \u001b[31m\u2502\u001b[0m\n",
            "\u001b[31m\u2502\u001b[0m \u001b[2;33m/Users/zanqiliang/.pyenv/versions/ask-fsdl/lib/python3.10/site-packages/grpc\u001b[0m \u001b[31m\u2502\u001b[0m\n",
            "\u001b[31m\u2502\u001b[0m \u001b[2;33mlib/\u001b[0m\u001b[1;33mclient.py\u001b[0m:\u001b[94m393\u001b[0m in \u001b[92mrecv_initial_metadata\u001b[0m                                   \u001b[31m\u2502\u001b[0m\n",
            "\u001b[31m\u2502\u001b[0m                                                                              \u001b[31m\u2502\u001b[0m\n",
            "\u001b[31m\u2502\u001b[0m \u001b[2;33m/Users/zanqiliang/.pyenv/versions/ask-fsdl/lib/python3.10/site-packages/grpc\u001b[0m \u001b[31m\u2502\u001b[0m\n",
            "\u001b[31m\u2502\u001b[0m \u001b[2;33mlib/\u001b[0m\u001b[1;33mclient.py\u001b[0m:\u001b[94m345\u001b[0m in \u001b[92m_raise_for_grpc_status\u001b[0m                                  \u001b[31m\u2502\u001b[0m\n",
            "\u001b[31m\u2570\u2500\u2500\u2500\u2500\u2500\u2500\u2500\u2500\u2500\u2500\u2500\u2500\u2500\u2500\u2500\u2500\u2500\u2500\u2500\u2500\u2500\u2500\u2500\u2500\u2500\u2500\u2500\u2500\u2500\u2500\u2500\u2500\u2500\u2500\u2500\u2500\u2500\u2500\u2500\u2500\u2500\u2500\u2500\u2500\u2500\u2500\u2500\u2500\u2500\u2500\u2500\u2500\u2500\u2500\u2500\u2500\u2500\u2500\u2500\u2500\u2500\u2500\u2500\u2500\u2500\u2500\u2500\u2500\u2500\u2500\u2500\u2500\u2500\u2500\u2500\u2500\u2500\u2500\u256f\u001b[0m\n",
            "\u001b[1;91mGRPCError: \u001b[0m\u001b[1m(\u001b[0m\u001b[1m<\u001b[0m\u001b[1;95mStatus.ALREADY_EXISTS:\u001b[0m\u001b[39m \u001b[0m\u001b[1;36m6\u001b[0m\u001b[1m>\u001b[0m, \u001b[32m'Can not create an environment with the \u001b[0m\n",
            "\u001b[32msame name or web label suffix as an existing one'\u001b[0m, \u001b[3;35mNone\u001b[0m\u001b[1m)\u001b[0m\n",
            "make: *** [modal-auth] Error 1\n",
            "\u001b[2K\u001b[32m\u2713\u001b[0m Initialized. \u001b[37mView app at \u001b[0m\u001b[4;37mhttps://modal.com/apps/ap-7TNTxDPyfndO3s527QgtYh\u001b[0m\n",
            "\u001b[2K\u001b[34m\u280b\u001b[0m Initializing...\n",
            "\u001b[2K\u001b[34m\u2838\u001b[0m Creating objects...objects...\n",
            "\u001b[37m\u251c\u2500\u2500 \u001b[0m\u001b[34m\u280b\u001b[0m Creating web...\n",
            "\u001b[37m\u251c\u2500\u2500 \u001b[0m\u001b[34m\u280b\u001b[0m Creating mount /Users/zanqiliang/ask-fsdl/vecstore.py, \n",
            "\u001b[37m\u2502   \u001b[0m/Users/zanqiliang/ask-fsdl/docstore.py, /Users/zanqiliang/ask-fsdl/utils.py,\n",
            "\u001b[37m\u2502   \u001b[0m/Users/zanqiliang/ask-fsdl/prompts.py: Uploaded 0/0 inspected files\n",
            "\u001b[37m\u251c\u2500\u2500 \u001b[0m\u001b[34m\u280b\u001b[0m Creating mount /Users/zanqiliang/ask-fsdl/app.py: Uploaded 0/0 inspected \n",
            "\u001b[37m\u2502   \u001b[0mfiles\n",
            "\u001b[37m\u251c\u2500\u2500 \u001b[0m\u001b[34m\u280b\u001b[0m Creating mount /Users/zanqiliang/ask-fsdl/utils.py: Uploaded 0/0 inspected\n",
            "\u001b[37m\u2502   \u001b[0mfiles\n",
            "\u001b[37m\u2514\u2500\u2500 \u001b[0m\u001b[34m\u280b\u001b[0m Creating mount /Users/zanqiliang/ask-fsdl/vecstore.py: Uploaded 0/0 \n",
            "\u001b[2K\u001b[1A\u001b[2K\u001b[1A\u001b[2K\u001b[1A\u001b[2K\u001b[1A\u001b[2K\u001b[1A\u001b[2K\u001b[1A\u001b[2K\u001b[1A\u001b[2K\u001b[1A\u001b[2K\u001b[1A\u001b[2K\u001b[1A\u001b[2K\u001b[34m\u2826\u001b[0m Creating objects...\n",
            "\u001b[37m\u251c\u2500\u2500 \u001b[0m\u001b[34m\u2838\u001b[0m Creating web...\n",
            "\u001b[37m\u251c\u2500\u2500 \u001b[0m\u001b[34m\u2838\u001b[0m Creating mount /Users/zanqiliang/ask-fsdl/vecstore.py, \n",
            "\u001b[37m\u2502   \u001b[0m/Users/zanqiliang/ask-fsdl/docstore.py, /Users/zanqiliang/ask-fsdl/utils.py,\n",
            "\u001b[37m\u2502   \u001b[0m/Users/zanqiliang/ask-fsdl/prompts.py: Uploaded 0/0 inspected files\n",
            "\u001b[37m\u251c\u2500\u2500 \u001b[0m\u001b[34m\u2838\u001b[0m Creating mount /Users/zanqiliang/ask-fsdl/app.py: Uploaded 0/0 inspected \n",
            "\u001b[37m\u2502   \u001b[0mfiles\n",
            "\u001b[37m\u251c\u2500\u2500 \u001b[0m\u001b[34m\u2838\u001b[0m Creating mount /Users/zanqiliang/ask-fsdl/utils.py: Uploaded 0/0 inspected\n",
            "\u001b[37m\u2502   \u001b[0mfiles\n",
            "\u001b[37m\u2514\u2500\u2500 \u001b[0m\u001b[34m\u2838\u001b[0m Creating mount /Users/zanqiliang/ask-fsdl/vecstore.py: Uploaded 0/0 \n",
            "\u001b[2K\u001b[1A\u001b[2K\u001b[1A\u001b[2K\u001b[1A\u001b[2K\u001b[1A\u001b[2K\u001b[1A\u001b[2K\u001b[1A\u001b[2K\u001b[1A\u001b[2K\u001b[1A\u001b[2K\u001b[1A\u001b[2K\u001b[1A\u001b[2K\u001b[34m\u280f\u001b[0m Creating objects...\n",
            "\u001b[37m\u251c\u2500\u2500 \u001b[0m\u001b[34m\u2826\u001b[0m Creating web...\n",
            "\u001b[37m\u251c\u2500\u2500 \u001b[0m\u001b[34m\u2826\u001b[0m Creating mount /Users/zanqiliang/ask-fsdl/vecstore.py, \n",
            "\u001b[37m\u2502   \u001b[0m/Users/zanqiliang/ask-fsdl/docstore.py, /Users/zanqiliang/ask-fsdl/utils.py,\n",
            "\u001b[37m\u2502   \u001b[0m/Users/zanqiliang/ask-fsdl/prompts.py: Uploaded 0/0 inspected files\n",
            "\u001b[37m\u251c\u2500\u2500 \u001b[0m\u001b[34m\u2826\u001b[0m Creating mount /Users/zanqiliang/ask-fsdl/app.py: Uploaded 0/0 inspected \n",
            "\u001b[37m\u2502   \u001b[0mfiles\n",
            "\u001b[37m\u251c\u2500\u2500 \u001b[0m\u001b[34m\u2826\u001b[0m Creating mount /Users/zanqiliang/ask-fsdl/utils.py: Uploaded 0/0 inspected\n",
            "\u001b[37m\u2502   \u001b[0mfiles\n",
            "\u001b[37m\u2514\u2500\u2500 \u001b[0m\u001b[34m\u2826\u001b[0m Creating mount /Users/zanqiliang/ask-fsdl/vecstore.py: Uploaded 0/0 \n",
            "\u001b[2K\u001b[1A\u001b[2K\u001b[1A\u001b[2K\u001b[1A\u001b[2K\u001b[1A\u001b[2K\u001b[1A\u001b[2K\u001b[1A\u001b[2K\u001b[1A\u001b[2K\u001b[1A\u001b[2K\u001b[1A\u001b[2K\u001b[1A\u001b[2K\u001b[34m\u2839\u001b[0m Creating objects...\n",
            "\u001b[37m\u251c\u2500\u2500 \u001b[0m\u001b[34m\u280f\u001b[0m Creating web...\n",
            "\u001b[37m\u251c\u2500\u2500 \u001b[0m\u001b[34m\u280f\u001b[0m Creating mount /Users/zanqiliang/ask-fsdl/vecstore.py, \n",
            "\u001b[37m\u2502   \u001b[0m/Users/zanqiliang/ask-fsdl/docstore.py, /Users/zanqiliang/ask-fsdl/utils.py,\n",
            "\u001b[37m\u2502   \u001b[0m/Users/zanqiliang/ask-fsdl/prompts.py: Building mount\n",
            "\u001b[37m\u251c\u2500\u2500 \u001b[0m\u001b[34m\u280f\u001b[0m Creating mount /Users/zanqiliang/ask-fsdl/app.py: Building mount\n",
            "\u001b[37m\u251c\u2500\u2500 \u001b[0m\u001b[34m\u280f\u001b[0m Creating mount /Users/zanqiliang/ask-fsdl/utils.py: Building mount\n",
            "\u001b[2K\u001b[1A\u001b[2K\u001b[1A\u001b[2K\u001b[1A\u001b[2K\u001b[1A\u001b[2K\u001b[1A\u001b[2K\u001b[1A\u001b[2K\u001b[1A\u001b[2K\u001b[34m\u2826\u001b[0m Creating objects...unt\n",
            "\u001b[37m\u251c\u2500\u2500 \u001b[0m\u001b[34m\u2839\u001b[0m Creating web...\n",
            "\u001b[37m\u251c\u2500\u2500 \u001b[0m\u001b[34m\u2839\u001b[0m Creating mount /Users/zanqiliang/ask-fsdl/vecstore.py, \n",
            "\u001b[37m\u2502   \u001b[0m/Users/zanqiliang/ask-fsdl/docstore.py, /Users/zanqiliang/ask-fsdl/utils.py,\n",
            "\u001b[37m\u2502   \u001b[0m/Users/zanqiliang/ask-fsdl/prompts.py: Building mount\n",
            "\u001b[37m\u251c\u2500\u2500 \u001b[0m\u001b[34m\u2839\u001b[0m Creating mount /Users/zanqiliang/ask-fsdl/app.py: Building mount\n",
            "\u001b[37m\u251c\u2500\u2500 \u001b[0m\u001b[34m\u2839\u001b[0m Creating mount /Users/zanqiliang/ask-fsdl/utils.py: Building mount\n",
            "\u001b[2K\u001b[1A\u001b[2K\u001b[1A\u001b[2K\u001b[1A\u001b[2K\u001b[1A\u001b[2K\u001b[1A\u001b[2K\u001b[1A\u001b[2K\u001b[1A\u001b[2K\u001b[34m\u280f\u001b[0m Creating objects...unt\n",
            "\u001b[37m\u251c\u2500\u2500 \u001b[0m\u001b[34m\u2826\u001b[0m Creating web...\n",
            "\u001b[37m\u251c\u2500\u2500 \u001b[0m\u001b[34m\u2826\u001b[0m Creating mount /Users/zanqiliang/ask-fsdl/vecstore.py, \n",
            "\u001b[37m\u2502   \u001b[0m/Users/zanqiliang/ask-fsdl/docstore.py, /Users/zanqiliang/ask-fsdl/utils.py,\n",
            "\u001b[37m\u2502   \u001b[0m/Users/zanqiliang/ask-fsdl/prompts.py: Building mount\n",
            "\u001b[37m\u251c\u2500\u2500 \u001b[0m\u001b[34m\u2826\u001b[0m Creating mount /Users/zanqiliang/ask-fsdl/app.py: Building mount\n",
            "\u001b[37m\u251c\u2500\u2500 \u001b[0m\u001b[34m\u2826\u001b[0m Creating mount /Users/zanqiliang/ask-fsdl/utils.py: Building mount\n",
            "\u001b[2K\u001b[1A\u001b[2K\u001b[1A\u001b[2K\u001b[1A\u001b[2K\u001b[1A\u001b[2K\u001b[1A\u001b[2K\u001b[1A\u001b[2K\u001b[1A\u001b[2K\u001b[34m\u2839\u001b[0m Creating objects...unt\n",
            "\u001b[37m\u251c\u2500\u2500 \u001b[0m\u001b[34m\u280f\u001b[0m Creating web...\n",
            "\u001b[37m\u251c\u2500\u2500 \u001b[0m\u001b[32m\ud83d\udd28\u001b[0m Created mount /Users/zanqiliang/ask-fsdl/vecstore.py, \n",
            "\u001b[37m\u2502   \u001b[0m/Users/zanqiliang/ask-fsdl/docstore.py, /Users/zanqiliang/ask-fsdl/utils.py,\n",
            "\u001b[37m\u2502   \u001b[0m/Users/zanqiliang/ask-fsdl/prompts.py\n",
            "\u001b[37m\u251c\u2500\u2500 \u001b[0m\u001b[32m\ud83d\udd28\u001b[0m Created mount /Users/zanqiliang/ask-fsdl/app.py\n",
            "\u001b[37m\u251c\u2500\u2500 \u001b[0m\u001b[32m\ud83d\udd28\u001b[0m Created mount /Users/zanqiliang/ask-fsdl/utils.py\n",
            "\u001b[2K\u001b[1A\u001b[2K\u001b[1A\u001b[2K\u001b[1A\u001b[2K\u001b[1A\u001b[2K\u001b[1A\u001b[2K\u001b[1A\u001b[2K\u001b[1A\u001b[2K\u001b[34m\u2834\u001b[0m Creating objects...\n",
            "\u001b[37m\u251c\u2500\u2500 \u001b[0m\u001b[34m\u2839\u001b[0m Creating web...\n",
            "\u001b[37m\u251c\u2500\u2500 \u001b[0m\u001b[32m\ud83d\udd28\u001b[0m Created mount /Users/zanqiliang/ask-fsdl/vecstore.py, \n",
            "\u001b[37m\u2502   \u001b[0m/Users/zanqiliang/ask-fsdl/docstore.py, /Users/zanqiliang/ask-fsdl/utils.py,\n",
            "\u001b[37m\u2502   \u001b[0m/Users/zanqiliang/ask-fsdl/prompts.py\n",
            "\u001b[37m\u251c\u2500\u2500 \u001b[0m\u001b[32m\ud83d\udd28\u001b[0m Created mount /Users/zanqiliang/ask-fsdl/app.py\n",
            "\u001b[37m\u251c\u2500\u2500 \u001b[0m\u001b[32m\ud83d\udd28\u001b[0m Created mount /Users/zanqiliang/ask-fsdl/utils.py\n",
            "\u001b[2K\u001b[1A\u001b[2K\u001b[1A\u001b[2K\u001b[1A\u001b[2K\u001b[1A\u001b[2K\u001b[1A\u001b[2K\u001b[1A\u001b[2K\u001b[1A\u001b[2K\u001b[34m\u2807\u001b[0m Creating objects...\n",
            "\u001b[37m\u251c\u2500\u2500 \u001b[0m\u001b[34m\u2834\u001b[0m Creating web...\n",
            "\u001b[37m\u251c\u2500\u2500 \u001b[0m\u001b[32m\ud83d\udd28\u001b[0m Created mount /Users/zanqiliang/ask-fsdl/vecstore.py, \n",
            "\u001b[37m\u2502   \u001b[0m/Users/zanqiliang/ask-fsdl/docstore.py, /Users/zanqiliang/ask-fsdl/utils.py,\n",
            "\u001b[37m\u2502   \u001b[0m/Users/zanqiliang/ask-fsdl/prompts.py\n",
            "\u001b[37m\u251c\u2500\u2500 \u001b[0m\u001b[32m\ud83d\udd28\u001b[0m Created mount /Users/zanqiliang/ask-fsdl/app.py\n",
            "\u001b[37m\u251c\u2500\u2500 \u001b[0m\u001b[32m\ud83d\udd28\u001b[0m Created mount /Users/zanqiliang/ask-fsdl/utils.py\n",
            "\u001b[2K\u001b[1A\u001b[2K\u001b[1A\u001b[2K\u001b[1A\u001b[2K\u001b[1A\u001b[2K\u001b[1A\u001b[2K\u001b[1A\u001b[2K\u001b[1A\u001b[2K\u001b[34m\u2819\u001b[0m Creating objects...\n",
            "\u001b[37m\u251c\u2500\u2500 \u001b[0m\u001b[34m\u2807\u001b[0m Creating web...\n",
            "\u001b[37m\u251c\u2500\u2500 \u001b[0m\u001b[32m\ud83d\udd28\u001b[0m Created mount /Users/zanqiliang/ask-fsdl/vecstore.py, \n",
            "\u001b[37m\u2502   \u001b[0m/Users/zanqiliang/ask-fsdl/docstore.py, /Users/zanqiliang/ask-fsdl/utils.py,\n",
            "\u001b[37m\u2502   \u001b[0m/Users/zanqiliang/ask-fsdl/prompts.py\n",
            "\u001b[37m\u251c\u2500\u2500 \u001b[0m\u001b[32m\ud83d\udd28\u001b[0m Created mount /Users/zanqiliang/ask-fsdl/app.py\n",
            "\u001b[37m\u251c\u2500\u2500 \u001b[0m\u001b[32m\ud83d\udd28\u001b[0m Created mount /Users/zanqiliang/ask-fsdl/utils.py\n",
            "\u001b[2K\u001b[1A\u001b[2K\u001b[1A\u001b[2K\u001b[1A\u001b[2K\u001b[1A\u001b[2K\u001b[1A\u001b[2K\u001b[1A\u001b[2K\u001b[1A\u001b[2K\u001b[34m\u2834\u001b[0m Creating objects...\n",
            "\u001b[37m\u251c\u2500\u2500 \u001b[0m\u001b[34m\u2839\u001b[0m Creating web...\n",
            "\u001b[37m\u251c\u2500\u2500 \u001b[0m\u001b[32m\ud83d\udd28\u001b[0m Created mount /Users/zanqiliang/ask-fsdl/vecstore.py, \n",
            "\u001b[37m\u2502   \u001b[0m/Users/zanqiliang/ask-fsdl/docstore.py, /Users/zanqiliang/ask-fsdl/utils.py,\n",
            "\u001b[37m\u2502   \u001b[0m/Users/zanqiliang/ask-fsdl/prompts.py\n",
            "\u001b[37m\u251c\u2500\u2500 \u001b[0m\u001b[32m\ud83d\udd28\u001b[0m Created mount /Users/zanqiliang/ask-fsdl/app.py\n",
            "\u001b[37m\u251c\u2500\u2500 \u001b[0m\u001b[32m\ud83d\udd28\u001b[0m Created mount /Users/zanqiliang/ask-fsdl/utils.py\n",
            "\u001b[2K\u001b[1A\u001b[2K\u001b[1A\u001b[2K\u001b[1A\u001b[2K\u001b[1A\u001b[2K\u001b[1A\u001b[2K\u001b[1A\u001b[2K\u001b[1A\u001b[2K\u001b[34m\u2807\u001b[0m Creating objects...\n",
            "\u001b[37m\u251c\u2500\u2500 \u001b[0m\u001b[34m\u2834\u001b[0m Creating web...\n",
            "\u001b[37m\u251c\u2500\u2500 \u001b[0m\u001b[32m\ud83d\udd28\u001b[0m Created mount /Users/zanqiliang/ask-fsdl/vecstore.py, \n",
            "\u001b[37m\u2502   \u001b[0m/Users/zanqiliang/ask-fsdl/docstore.py, /Users/zanqiliang/ask-fsdl/utils.py,\n",
            "\u001b[37m\u2502   \u001b[0m/Users/zanqiliang/ask-fsdl/prompts.py\n",
            "\u001b[37m\u251c\u2500\u2500 \u001b[0m\u001b[32m\ud83d\udd28\u001b[0m Created mount /Users/zanqiliang/ask-fsdl/app.py\n",
            "\u001b[37m\u251c\u2500\u2500 \u001b[0m\u001b[32m\ud83d\udd28\u001b[0m Created mount /Users/zanqiliang/ask-fsdl/utils.py\n",
            "\u001b[2K\u001b[1A\u001b[2K\u001b[1A\u001b[2K\u001b[1A\u001b[2K\u001b[1A\u001b[2K\u001b[1A\u001b[2K\u001b[1A\u001b[2K\u001b[1A\u001b[2K\u001b[34m\u2819\u001b[0m Creating objects...\n",
            "\u001b[37m\u251c\u2500\u2500 \u001b[0m\u001b[32m\ud83d\udd28\u001b[0m Created web => \u001b[4;35mhttps://zanqi-dev--askfsdl-backend-web-dev.modal.run\u001b[0m\n",
            "\u001b[37m\u251c\u2500\u2500 \u001b[0m\u001b[32m\ud83d\udd28\u001b[0m Created mount /Users/zanqiliang/ask-fsdl/vecstore.py, \n",
            "\u001b[37m\u2502   \u001b[0m/Users/zanqiliang/ask-fsdl/docstore.py, /Users/zanqiliang/ask-fsdl/utils.py,\n",
            "\u001b[37m\u2502   \u001b[0m/Users/zanqiliang/ask-fsdl/prompts.py\n",
            "\u001b[37m\u251c\u2500\u2500 \u001b[0m\u001b[32m\ud83d\udd28\u001b[0m Created mount /Users/zanqiliang/ask-fsdl/app.py\n",
            "\u001b[37m\u251c\u2500\u2500 \u001b[0m\u001b[32m\ud83d\udd28\u001b[0m Created mount /Users/zanqiliang/ask-fsdl/utils.py\n",
            "\u001b[37m\u251c\u2500\u2500 \u001b[0m\u001b[32m\ud83d\udd28\u001b[0m Created mount /Users/zanqiliang/ask-fsdl/vecstore.py\n",
            "\u001b[2K\u001b[1A\u001b[2K\u001b[1A\u001b[2K\u001b[1A\u001b[2K\u001b[1A\u001b[2K\u001b[1A\u001b[2K\u001b[1A\u001b[2K\u001b[1A\u001b[2K\u001b[1A\u001b[2K\u001b[34m\u283c\u001b[0m Creating objects...\n",
            "\u001b[37m\u251c\u2500\u2500 \u001b[0m\u001b[32m\ud83d\udd28\u001b[0m Created web => \u001b[4;35mhttps://zanqi-dev--askfsdl-backend-web-dev.modal.run\u001b[0m\n",
            "\u001b[37m\u251c\u2500\u2500 \u001b[0m\u001b[32m\ud83d\udd28\u001b[0m Created mount /Users/zanqiliang/ask-fsdl/vecstore.py, \n",
            "\u001b[37m\u2502   \u001b[0m/Users/zanqiliang/ask-fsdl/docstore.py, /Users/zanqiliang/ask-fsdl/utils.py,\n",
            "\u001b[37m\u2502   \u001b[0m/Users/zanqiliang/ask-fsdl/prompts.py\n",
            "\u001b[37m\u251c\u2500\u2500 \u001b[0m\u001b[32m\ud83d\udd28\u001b[0m Created mount /Users/zanqiliang/ask-fsdl/app.py\n",
            "\u001b[37m\u251c\u2500\u2500 \u001b[0m\u001b[32m\ud83d\udd28\u001b[0m Created mount /Users/zanqiliang/ask-fsdl/utils.py\n",
            "\u001b[37m\u251c\u2500\u2500 \u001b[0m\u001b[32m\ud83d\udd28\u001b[0m Created mount /Users/zanqiliang/ask-fsdl/vecstore.py\n",
            "\u001b[2K\u001b[1A\u001b[2K\u001b[1A\u001b[2K\u001b[1A\u001b[2K\u001b[1A\u001b[2K\u001b[1A\u001b[2K\u001b[1A\u001b[2K\u001b[1A\u001b[2K\u001b[1A\u001b[2K\u001b[34m\u2807\u001b[0m Creating objects...\n",
            "\u001b[37m\u251c\u2500\u2500 \u001b[0m\u001b[32m\ud83d\udd28\u001b[0m Created web => \u001b[4;35mhttps://zanqi-dev--askfsdl-backend-web-dev.modal.run\u001b[0m\n",
            "\u001b[37m\u251c\u2500\u2500 \u001b[0m\u001b[32m\ud83d\udd28\u001b[0m Created mount /Users/zanqiliang/ask-fsdl/vecstore.py, \n",
            "\u001b[37m\u2502   \u001b[0m/Users/zanqiliang/ask-fsdl/docstore.py, /Users/zanqiliang/ask-fsdl/utils.py,\n",
            "\u001b[37m\u2502   \u001b[0m/Users/zanqiliang/ask-fsdl/prompts.py\n",
            "\u001b[37m\u251c\u2500\u2500 \u001b[0m\u001b[32m\ud83d\udd28\u001b[0m Created mount /Users/zanqiliang/ask-fsdl/app.py\n",
            "\u001b[37m\u251c\u2500\u2500 \u001b[0m\u001b[32m\ud83d\udd28\u001b[0m Created mount /Users/zanqiliang/ask-fsdl/utils.py\n",
            "\u001b[37m\u251c\u2500\u2500 \u001b[0m\u001b[32m\ud83d\udd28\u001b[0m Created mount /Users/zanqiliang/ask-fsdl/vecstore.py\n",
            "\u001b[2K\u001b[1A\u001b[2K\u001b[1A\u001b[2K\u001b[1A\u001b[2K\u001b[1A\u001b[2K\u001b[1A\u001b[2K\u001b[1A\u001b[2K\u001b[1A\u001b[2K\u001b[1A\u001b[2K\u001b[34m\u2819\u001b[0m Creating objects...\n",
            "\u001b[37m\u251c\u2500\u2500 \u001b[0m\u001b[32m\ud83d\udd28\u001b[0m Created web => \u001b[4;35mhttps://zanqi-dev--askfsdl-backend-web-dev.modal.run\u001b[0m\n",
            "\u001b[37m\u251c\u2500\u2500 \u001b[0m\u001b[32m\ud83d\udd28\u001b[0m Created mount /Users/zanqiliang/ask-fsdl/vecstore.py, \n",
            "\u001b[37m\u2502   \u001b[0m/Users/zanqiliang/ask-fsdl/docstore.py, /Users/zanqiliang/ask-fsdl/utils.py,\n",
            "\u001b[37m\u2502   \u001b[0m/Users/zanqiliang/ask-fsdl/prompts.py\n",
            "\u001b[37m\u251c\u2500\u2500 \u001b[0m\u001b[32m\ud83d\udd28\u001b[0m Created mount /Users/zanqiliang/ask-fsdl/app.py\n",
            "\u001b[37m\u251c\u2500\u2500 \u001b[0m\u001b[32m\ud83d\udd28\u001b[0m Created mount /Users/zanqiliang/ask-fsdl/utils.py\n",
            "\u001b[37m\u251c\u2500\u2500 \u001b[0m\u001b[32m\ud83d\udd28\u001b[0m Created mount /Users/zanqiliang/ask-fsdl/vecstore.py\n",
            "\u001b[2K\u001b[1A\u001b[2K\u001b[1A\u001b[2K\u001b[1A\u001b[2K\u001b[1A\u001b[2K\u001b[1A\u001b[2K\u001b[1A\u001b[2K\u001b[1A\u001b[2K\u001b[1A\u001b[2K\u001b[34m\u283c\u001b[0m Creating objects...\n",
            "\u001b[37m\u251c\u2500\u2500 \u001b[0m\u001b[32m\ud83d\udd28\u001b[0m Created web => \u001b[4;35mhttps://zanqi-dev--askfsdl-backend-web-dev.modal.run\u001b[0m\n",
            "\u001b[37m\u251c\u2500\u2500 \u001b[0m\u001b[32m\ud83d\udd28\u001b[0m Created mount /Users/zanqiliang/ask-fsdl/vecstore.py, \n",
            "\u001b[37m\u2502   \u001b[0m/Users/zanqiliang/ask-fsdl/docstore.py, /Users/zanqiliang/ask-fsdl/utils.py,\n",
            "\u001b[37m\u2502   \u001b[0m/Users/zanqiliang/ask-fsdl/prompts.py\n",
            "\u001b[37m\u251c\u2500\u2500 \u001b[0m\u001b[32m\ud83d\udd28\u001b[0m Created mount /Users/zanqiliang/ask-fsdl/app.py\n",
            "\u001b[37m\u251c\u2500\u2500 \u001b[0m\u001b[32m\ud83d\udd28\u001b[0m Created mount /Users/zanqiliang/ask-fsdl/utils.py\n",
            "\u001b[37m\u251c\u2500\u2500 \u001b[0m\u001b[32m\ud83d\udd28\u001b[0m Created mount /Users/zanqiliang/ask-fsdl/vecstore.py\n",
            "\u001b[2K\u001b[1A\u001b[2K\u001b[1A\u001b[2K\u001b[1A\u001b[2K\u001b[1A\u001b[2K\u001b[1A\u001b[2K\u001b[1A\u001b[2K\u001b[1A\u001b[2K\u001b[1A\u001b[2K\u001b[34m\u2827\u001b[0m Creating objects...\n",
            "\u001b[37m\u251c\u2500\u2500 \u001b[0m\u001b[32m\ud83d\udd28\u001b[0m Created web => \u001b[4;35mhttps://zanqi-dev--askfsdl-backend-web-dev.modal.run\u001b[0m\n",
            "\u001b[37m\u251c\u2500\u2500 \u001b[0m\u001b[32m\ud83d\udd28\u001b[0m Created mount /Users/zanqiliang/ask-fsdl/vecstore.py, \n",
            "\u001b[37m\u2502   \u001b[0m/Users/zanqiliang/ask-fsdl/docstore.py, /Users/zanqiliang/ask-fsdl/utils.py,\n",
            "\u001b[37m\u2502   \u001b[0m/Users/zanqiliang/ask-fsdl/prompts.py\n",
            "\u001b[37m\u251c\u2500\u2500 \u001b[0m\u001b[32m\ud83d\udd28\u001b[0m Created mount /Users/zanqiliang/ask-fsdl/app.py\n",
            "\u001b[37m\u251c\u2500\u2500 \u001b[0m\u001b[32m\ud83d\udd28\u001b[0m Created mount /Users/zanqiliang/ask-fsdl/utils.py\n",
            "\u001b[37m\u251c\u2500\u2500 \u001b[0m\u001b[32m\ud83d\udd28\u001b[0m Created mount /Users/zanqiliang/ask-fsdl/vecstore.py\n",
            "\u001b[37m\u251c\u2500\u2500 \u001b[0m\u001b[32m\ud83d\udd28\u001b[0m Created qanda.\n",
            "\u001b[2K\u001b[1A\u001b[2K\u001b[1A\u001b[2K\u001b[1A\u001b[2K\u001b[1A\u001b[2K\u001b[1A\u001b[2K\u001b[1A\u001b[2K\u001b[1A\u001b[2K\u001b[1A\u001b[2K\u001b[1A\u001b[2K\u001b[34m\u280b\u001b[0m Creating objects...\n",
            "\u001b[37m\u251c\u2500\u2500 \u001b[0m\u001b[32m\ud83d\udd28\u001b[0m Created web => \u001b[4;35mhttps://zanqi-dev--askfsdl-backend-web-dev.modal.run\u001b[0m\n",
            "\u001b[37m\u251c\u2500\u2500 \u001b[0m\u001b[32m\ud83d\udd28\u001b[0m Created mount /Users/zanqiliang/ask-fsdl/vecstore.py, \n",
            "\u001b[37m\u2502   \u001b[0m/Users/zanqiliang/ask-fsdl/docstore.py, /Users/zanqiliang/ask-fsdl/utils.py,\n",
            "\u001b[37m\u2502   \u001b[0m/Users/zanqiliang/ask-fsdl/prompts.py\n",
            "\u001b[37m\u251c\u2500\u2500 \u001b[0m\u001b[32m\ud83d\udd28\u001b[0m Created mount /Users/zanqiliang/ask-fsdl/app.py\n",
            "\u001b[37m\u251c\u2500\u2500 \u001b[0m\u001b[32m\ud83d\udd28\u001b[0m Created mount /Users/zanqiliang/ask-fsdl/utils.py\n",
            "\u001b[37m\u251c\u2500\u2500 \u001b[0m\u001b[32m\ud83d\udd28\u001b[0m Created mount /Users/zanqiliang/ask-fsdl/vecstore.py\n",
            "\u001b[37m\u251c\u2500\u2500 \u001b[0m\u001b[32m\ud83d\udd28\u001b[0m Created qanda.\n",
            "\u001b[2K\u001b[1A\u001b[2K\u001b[1A\u001b[2K\u001b[1A\u001b[2K\u001b[1A\u001b[2K\u001b[1A\u001b[2K\u001b[1A\u001b[2K\u001b[1A\u001b[2K\u001b[1A\u001b[2K\u001b[1A\u001b[2K\u001b[34m\u283c\u001b[0m Creating objects...\n",
            "\u001b[37m\u251c\u2500\u2500 \u001b[0m\u001b[32m\ud83d\udd28\u001b[0m Created web => \u001b[4;35mhttps://zanqi-dev--askfsdl-backend-web-dev.modal.run\u001b[0m\n",
            "\u001b[37m\u251c\u2500\u2500 \u001b[0m\u001b[32m\ud83d\udd28\u001b[0m Created mount /Users/zanqiliang/ask-fsdl/vecstore.py, \n",
            "\u001b[37m\u2502   \u001b[0m/Users/zanqiliang/ask-fsdl/docstore.py, /Users/zanqiliang/ask-fsdl/utils.py,\n",
            "\u001b[37m\u2502   \u001b[0m/Users/zanqiliang/ask-fsdl/prompts.py\n",
            "\u001b[37m\u251c\u2500\u2500 \u001b[0m\u001b[32m\ud83d\udd28\u001b[0m Created mount /Users/zanqiliang/ask-fsdl/app.py\n",
            "\u001b[37m\u251c\u2500\u2500 \u001b[0m\u001b[32m\ud83d\udd28\u001b[0m Created mount /Users/zanqiliang/ask-fsdl/utils.py\n",
            "\u001b[37m\u251c\u2500\u2500 \u001b[0m\u001b[32m\ud83d\udd28\u001b[0m Created mount /Users/zanqiliang/ask-fsdl/vecstore.py\n",
            "\u001b[37m\u251c\u2500\u2500 \u001b[0m\u001b[32m\ud83d\udd28\u001b[0m Created qanda.\n",
            "\u001b[2K\u001b[1A\u001b[2K\u001b[1A\u001b[2K\u001b[1A\u001b[2K\u001b[1A\u001b[2K\u001b[1A\u001b[2K\u001b[1A\u001b[2K\u001b[1A\u001b[2K\u001b[1A\u001b[2K\u001b[1A\u001b[2K\u001b[34m\u2827\u001b[0m Creating objects...\n",
            "\u001b[37m\u251c\u2500\u2500 \u001b[0m\u001b[32m\ud83d\udd28\u001b[0m Created web => \u001b[4;35mhttps://zanqi-dev--askfsdl-backend-web-dev.modal.run\u001b[0m\n",
            "\u001b[37m\u251c\u2500\u2500 \u001b[0m\u001b[32m\ud83d\udd28\u001b[0m Created mount /Users/zanqiliang/ask-fsdl/vecstore.py, \n",
            "\u001b[37m\u2502   \u001b[0m/Users/zanqiliang/ask-fsdl/docstore.py, /Users/zanqiliang/ask-fsdl/utils.py,\n",
            "\u001b[37m\u2502   \u001b[0m/Users/zanqiliang/ask-fsdl/prompts.py\n",
            "\u001b[37m\u251c\u2500\u2500 \u001b[0m\u001b[32m\ud83d\udd28\u001b[0m Created mount /Users/zanqiliang/ask-fsdl/app.py\n",
            "\u001b[37m\u251c\u2500\u2500 \u001b[0m\u001b[32m\ud83d\udd28\u001b[0m Created mount /Users/zanqiliang/ask-fsdl/utils.py\n",
            "\u001b[37m\u251c\u2500\u2500 \u001b[0m\u001b[32m\ud83d\udd28\u001b[0m Created mount /Users/zanqiliang/ask-fsdl/vecstore.py\n",
            "\u001b[37m\u251c\u2500\u2500 \u001b[0m\u001b[32m\ud83d\udd28\u001b[0m Created qanda.\n",
            "\u001b[2K\u001b[1A\u001b[2K\u001b[1A\u001b[2K\u001b[1A\u001b[2K\u001b[1A\u001b[2K\u001b[1A\u001b[2K\u001b[1A\u001b[2K\u001b[1A\u001b[2K\u001b[1A\u001b[2K\u001b[1A\u001b[2K\u001b[34m\u280b\u001b[0m Creating objects...\n",
            "\u001b[37m\u251c\u2500\u2500 \u001b[0m\u001b[32m\ud83d\udd28\u001b[0m Created web => \u001b[4;35mhttps://zanqi-dev--askfsdl-backend-web-dev.modal.run\u001b[0m\n",
            "\u001b[37m\u251c\u2500\u2500 \u001b[0m\u001b[32m\ud83d\udd28\u001b[0m Created mount /Users/zanqiliang/ask-fsdl/vecstore.py, \n",
            "\u001b[37m\u2502   \u001b[0m/Users/zanqiliang/ask-fsdl/docstore.py, /Users/zanqiliang/ask-fsdl/utils.py,\n",
            "\u001b[37m\u2502   \u001b[0m/Users/zanqiliang/ask-fsdl/prompts.py\n",
            "\u001b[37m\u251c\u2500\u2500 \u001b[0m\u001b[32m\ud83d\udd28\u001b[0m Created mount /Users/zanqiliang/ask-fsdl/app.py\n",
            "\u001b[37m\u251c\u2500\u2500 \u001b[0m\u001b[32m\ud83d\udd28\u001b[0m Created mount /Users/zanqiliang/ask-fsdl/utils.py\n",
            "\u001b[37m\u251c\u2500\u2500 \u001b[0m\u001b[32m\ud83d\udd28\u001b[0m Created mount /Users/zanqiliang/ask-fsdl/vecstore.py\n",
            "\u001b[37m\u251c\u2500\u2500 \u001b[0m\u001b[32m\ud83d\udd28\u001b[0m Created qanda.\n",
            "\u001b[2K\u001b[1A\u001b[2K\u001b[1A\u001b[2K\u001b[1A\u001b[2K\u001b[1A\u001b[2K\u001b[1A\u001b[2K\u001b[1A\u001b[2K\u001b[1A\u001b[2K\u001b[1A\u001b[2K\u001b[1A\u001b[2K\u001b[34m\u2838\u001b[0m Creating objects...\n",
            "\u001b[37m\u251c\u2500\u2500 \u001b[0m\u001b[32m\ud83d\udd28\u001b[0m Created web => \u001b[4;35mhttps://zanqi-dev--askfsdl-backend-web-dev.modal.run\u001b[0m\n",
            "\u001b[37m\u251c\u2500\u2500 \u001b[0m\u001b[32m\ud83d\udd28\u001b[0m Created mount /Users/zanqiliang/ask-fsdl/vecstore.py, \n",
            "\u001b[37m\u2502   \u001b[0m/Users/zanqiliang/ask-fsdl/docstore.py, /Users/zanqiliang/ask-fsdl/utils.py,\n",
            "\u001b[37m\u2502   \u001b[0m/Users/zanqiliang/ask-fsdl/prompts.py\n",
            "\u001b[37m\u251c\u2500\u2500 \u001b[0m\u001b[32m\ud83d\udd28\u001b[0m Created mount /Users/zanqiliang/ask-fsdl/app.py\n",
            "\u001b[37m\u251c\u2500\u2500 \u001b[0m\u001b[32m\ud83d\udd28\u001b[0m Created mount /Users/zanqiliang/ask-fsdl/utils.py\n",
            "\u001b[37m\u251c\u2500\u2500 \u001b[0m\u001b[32m\ud83d\udd28\u001b[0m Created mount /Users/zanqiliang/ask-fsdl/vecstore.py\n",
            "\u001b[37m\u251c\u2500\u2500 \u001b[0m\u001b[32m\ud83d\udd28\u001b[0m Created qanda.\n",
            "\u001b[37m\u251c\u2500\u2500 \u001b[0m\u001b[32m\ud83d\udd28\u001b[0m Created create_vector_index.\n",
            "\u001b[2K\u001b[1A\u001b[2K\u001b[1A\u001b[2K\u001b[1A\u001b[2K\u001b[1A\u001b[2K\u001b[1A\u001b[2K\u001b[1A\u001b[2K\u001b[1A\u001b[2K\u001b[1A\u001b[2K\u001b[1A\u001b[2K\u001b[1A\u001b[2K\u001b[34m\u2827\u001b[0m Creating objects...\n",
            "\u001b[37m\u251c\u2500\u2500 \u001b[0m\u001b[32m\ud83d\udd28\u001b[0m Created web => \u001b[4;35mhttps://zanqi-dev--askfsdl-backend-web-dev.modal.run\u001b[0m\n",
            "\u001b[37m\u251c\u2500\u2500 \u001b[0m\u001b[32m\ud83d\udd28\u001b[0m Created mount /Users/zanqiliang/ask-fsdl/vecstore.py, \n",
            "\u001b[37m\u2502   \u001b[0m/Users/zanqiliang/ask-fsdl/docstore.py, /Users/zanqiliang/ask-fsdl/utils.py,\n",
            "\u001b[37m\u2502   \u001b[0m/Users/zanqiliang/ask-fsdl/prompts.py\n",
            "\u001b[37m\u251c\u2500\u2500 \u001b[0m\u001b[32m\ud83d\udd28\u001b[0m Created mount /Users/zanqiliang/ask-fsdl/app.py\n",
            "\u001b[37m\u251c\u2500\u2500 \u001b[0m\u001b[32m\ud83d\udd28\u001b[0m Created mount /Users/zanqiliang/ask-fsdl/utils.py\n",
            "\u001b[37m\u251c\u2500\u2500 \u001b[0m\u001b[32m\ud83d\udd28\u001b[0m Created mount /Users/zanqiliang/ask-fsdl/vecstore.py\n",
            "\u001b[37m\u251c\u2500\u2500 \u001b[0m\u001b[32m\ud83d\udd28\u001b[0m Created qanda.\n",
            "\u001b[37m\u251c\u2500\u2500 \u001b[0m\u001b[32m\ud83d\udd28\u001b[0m Created create_vector_index.\n",
            "\u001b[2K\u001b[1A\u001b[2K\u001b[1A\u001b[2K\u001b[1A\u001b[2K\u001b[1A\u001b[2K\u001b[1A\u001b[2K\u001b[1A\u001b[2K\u001b[1A\u001b[2K\u001b[1A\u001b[2K\u001b[1A\u001b[2K\u001b[1A\u001b[2K\u001b[34m\u280b\u001b[0m Creating objects...\n",
            "\u001b[37m\u251c\u2500\u2500 \u001b[0m\u001b[32m\ud83d\udd28\u001b[0m Created web => \u001b[4;35mhttps://zanqi-dev--askfsdl-backend-web-dev.modal.run\u001b[0m\n",
            "\u001b[37m\u251c\u2500\u2500 \u001b[0m\u001b[32m\ud83d\udd28\u001b[0m Created mount /Users/zanqiliang/ask-fsdl/vecstore.py, \n",
            "\u001b[37m\u2502   \u001b[0m/Users/zanqiliang/ask-fsdl/docstore.py, /Users/zanqiliang/ask-fsdl/utils.py,\n",
            "\u001b[37m\u2502   \u001b[0m/Users/zanqiliang/ask-fsdl/prompts.py\n",
            "\u001b[37m\u251c\u2500\u2500 \u001b[0m\u001b[32m\ud83d\udd28\u001b[0m Created mount /Users/zanqiliang/ask-fsdl/app.py\n",
            "\u001b[37m\u251c\u2500\u2500 \u001b[0m\u001b[32m\ud83d\udd28\u001b[0m Created mount /Users/zanqiliang/ask-fsdl/utils.py\n",
            "\u001b[37m\u251c\u2500\u2500 \u001b[0m\u001b[32m\ud83d\udd28\u001b[0m Created mount /Users/zanqiliang/ask-fsdl/vecstore.py\n",
            "\u001b[37m\u251c\u2500\u2500 \u001b[0m\u001b[32m\ud83d\udd28\u001b[0m Created qanda.\n",
            "\u001b[37m\u251c\u2500\u2500 \u001b[0m\u001b[32m\ud83d\udd28\u001b[0m Created create_vector_index.\n",
            "\u001b[2K\u001b[1A\u001b[2K\u001b[1A\u001b[2K\u001b[1A\u001b[2K\u001b[1A\u001b[2K\u001b[1A\u001b[2K\u001b[1A\u001b[2K\u001b[1A\u001b[2K\u001b[1A\u001b[2K\u001b[1A\u001b[2K\u001b[1A\u001b[2K\u001b[34m\u2838\u001b[0m Creating objects...\n",
            "\u001b[37m\u251c\u2500\u2500 \u001b[0m\u001b[32m\ud83d\udd28\u001b[0m Created web => \u001b[4;35mhttps://zanqi-dev--askfsdl-backend-web-dev.modal.run\u001b[0m\n",
            "\u001b[37m\u251c\u2500\u2500 \u001b[0m\u001b[32m\ud83d\udd28\u001b[0m Created mount /Users/zanqiliang/ask-fsdl/vecstore.py, \n",
            "\u001b[37m\u2502   \u001b[0m/Users/zanqiliang/ask-fsdl/docstore.py, /Users/zanqiliang/ask-fsdl/utils.py,\n",
            "\u001b[37m\u2502   \u001b[0m/Users/zanqiliang/ask-fsdl/prompts.py\n",
            "\u001b[37m\u251c\u2500\u2500 \u001b[0m\u001b[32m\ud83d\udd28\u001b[0m Created mount /Users/zanqiliang/ask-fsdl/app.py\n",
            "\u001b[37m\u251c\u2500\u2500 \u001b[0m\u001b[32m\ud83d\udd28\u001b[0m Created mount /Users/zanqiliang/ask-fsdl/utils.py\n",
            "\u001b[37m\u251c\u2500\u2500 \u001b[0m\u001b[32m\ud83d\udd28\u001b[0m Created mount /Users/zanqiliang/ask-fsdl/vecstore.py\n",
            "\u001b[37m\u251c\u2500\u2500 \u001b[0m\u001b[32m\ud83d\udd28\u001b[0m Created qanda.\n",
            "\u001b[37m\u251c\u2500\u2500 \u001b[0m\u001b[32m\ud83d\udd28\u001b[0m Created create_vector_index.\n",
            "\u001b[2K\u001b[1A\u001b[2K\u001b[1A\u001b[2K\u001b[1A\u001b[2K\u001b[1A\u001b[2K\u001b[1A\u001b[2K\u001b[1A\u001b[2K\u001b[1A\u001b[2K\u001b[1A\u001b[2K\u001b[1A\u001b[2K\u001b[1A\u001b[2K\u001b[34m\u2826\u001b[0m Creating objects...\n",
            "\u001b[37m\u251c\u2500\u2500 \u001b[0m\u001b[32m\ud83d\udd28\u001b[0m Created web => \u001b[4;35mhttps://zanqi-dev--askfsdl-backend-web-dev.modal.run\u001b[0m\n",
            "\u001b[37m\u251c\u2500\u2500 \u001b[0m\u001b[32m\ud83d\udd28\u001b[0m Created mount /Users/zanqiliang/ask-fsdl/vecstore.py, \n",
            "\u001b[37m\u2502   \u001b[0m/Users/zanqiliang/ask-fsdl/docstore.py, /Users/zanqiliang/ask-fsdl/utils.py,\n",
            "\u001b[37m\u2502   \u001b[0m/Users/zanqiliang/ask-fsdl/prompts.py\n",
            "\u001b[37m\u251c\u2500\u2500 \u001b[0m\u001b[32m\ud83d\udd28\u001b[0m Created mount /Users/zanqiliang/ask-fsdl/app.py\n",
            "\u001b[37m\u251c\u2500\u2500 \u001b[0m\u001b[32m\ud83d\udd28\u001b[0m Created mount /Users/zanqiliang/ask-fsdl/utils.py\n",
            "\u001b[37m\u251c\u2500\u2500 \u001b[0m\u001b[32m\ud83d\udd28\u001b[0m Created mount /Users/zanqiliang/ask-fsdl/vecstore.py\n",
            "\u001b[37m\u251c\u2500\u2500 \u001b[0m\u001b[32m\ud83d\udd28\u001b[0m Created qanda.\n",
            "\u001b[37m\u251c\u2500\u2500 \u001b[0m\u001b[32m\ud83d\udd28\u001b[0m Created create_vector_index.\n",
            "\u001b[37m\u251c\u2500\u2500 \u001b[0m\u001b[32m\ud83d\udd28\u001b[0m Created drop_docs.\n",
            "\u001b[2K\u001b[1A\u001b[2K\u001b[1A\u001b[2K\u001b[1A\u001b[2K\u001b[1A\u001b[2K\u001b[1A\u001b[2K\u001b[1A\u001b[2K\u001b[1A\u001b[2K\u001b[1A\u001b[2K\u001b[1A\u001b[2K\u001b[1A\u001b[2K\u001b[1A\u001b[2K\u001b[34m\u280f\u001b[0m Creating objects...\n",
            "\u001b[37m\u251c\u2500\u2500 \u001b[0m\u001b[32m\ud83d\udd28\u001b[0m Created web => \u001b[4;35mhttps://zanqi-dev--askfsdl-backend-web-dev.modal.run\u001b[0m\n",
            "\u001b[37m\u251c\u2500\u2500 \u001b[0m\u001b[32m\ud83d\udd28\u001b[0m Created mount /Users/zanqiliang/ask-fsdl/vecstore.py, \n",
            "\u001b[37m\u2502   \u001b[0m/Users/zanqiliang/ask-fsdl/docstore.py, /Users/zanqiliang/ask-fsdl/utils.py,\n",
            "\u001b[37m\u2502   \u001b[0m/Users/zanqiliang/ask-fsdl/prompts.py\n",
            "\u001b[37m\u251c\u2500\u2500 \u001b[0m\u001b[32m\ud83d\udd28\u001b[0m Created mount /Users/zanqiliang/ask-fsdl/app.py\n",
            "\u001b[37m\u251c\u2500\u2500 \u001b[0m\u001b[32m\ud83d\udd28\u001b[0m Created mount /Users/zanqiliang/ask-fsdl/utils.py\n",
            "\u001b[37m\u251c\u2500\u2500 \u001b[0m\u001b[32m\ud83d\udd28\u001b[0m Created mount /Users/zanqiliang/ask-fsdl/vecstore.py\n",
            "\u001b[37m\u251c\u2500\u2500 \u001b[0m\u001b[32m\ud83d\udd28\u001b[0m Created qanda.\n",
            "\u001b[37m\u251c\u2500\u2500 \u001b[0m\u001b[32m\ud83d\udd28\u001b[0m Created create_vector_index.\n",
            "\u001b[37m\u251c\u2500\u2500 \u001b[0m\u001b[32m\ud83d\udd28\u001b[0m Created drop_docs.\n",
            "\u001b[2K\u001b[1A\u001b[2K\u001b[1A\u001b[2K\u001b[1A\u001b[2K\u001b[1A\u001b[2K\u001b[1A\u001b[2K\u001b[1A\u001b[2K\u001b[1A\u001b[2K\u001b[1A\u001b[2K\u001b[1A\u001b[2K\u001b[1A\u001b[2K\u001b[1A\u001b[2K\u001b[34m\u2838\u001b[0m Creating objects...\n",
            "\u001b[37m\u251c\u2500\u2500 \u001b[0m\u001b[32m\ud83d\udd28\u001b[0m Created web => \u001b[4;35mhttps://zanqi-dev--askfsdl-backend-web-dev.modal.run\u001b[0m\n",
            "\u001b[37m\u251c\u2500\u2500 \u001b[0m\u001b[32m\ud83d\udd28\u001b[0m Created mount /Users/zanqiliang/ask-fsdl/vecstore.py, \n",
            "\u001b[37m\u2502   \u001b[0m/Users/zanqiliang/ask-fsdl/docstore.py, /Users/zanqiliang/ask-fsdl/utils.py,\n",
            "\u001b[37m\u2502   \u001b[0m/Users/zanqiliang/ask-fsdl/prompts.py\n",
            "\u001b[37m\u251c\u2500\u2500 \u001b[0m\u001b[32m\ud83d\udd28\u001b[0m Created mount /Users/zanqiliang/ask-fsdl/app.py\n",
            "\u001b[37m\u251c\u2500\u2500 \u001b[0m\u001b[32m\ud83d\udd28\u001b[0m Created mount /Users/zanqiliang/ask-fsdl/utils.py\n",
            "\u001b[37m\u251c\u2500\u2500 \u001b[0m\u001b[32m\ud83d\udd28\u001b[0m Created mount /Users/zanqiliang/ask-fsdl/vecstore.py\n",
            "\u001b[37m\u251c\u2500\u2500 \u001b[0m\u001b[32m\ud83d\udd28\u001b[0m Created qanda.\n",
            "\u001b[37m\u251c\u2500\u2500 \u001b[0m\u001b[32m\ud83d\udd28\u001b[0m Created create_vector_index.\n",
            "\u001b[37m\u251c\u2500\u2500 \u001b[0m\u001b[32m\ud83d\udd28\u001b[0m Created drop_docs.\n",
            "\u001b[2K\u001b[1A\u001b[2K\u001b[1A\u001b[2K\u001b[1A\u001b[2K\u001b[1A\u001b[2K\u001b[1A\u001b[2K\u001b[1A\u001b[2K\u001b[1A\u001b[2K\u001b[1A\u001b[2K\u001b[1A\u001b[2K\u001b[1A\u001b[2K\u001b[1A\u001b[2K\u001b[34m\u2826\u001b[0m Creating objects...\n",
            "\u001b[37m\u251c\u2500\u2500 \u001b[0m\u001b[32m\ud83d\udd28\u001b[0m Created web => \u001b[4;35mhttps://zanqi-dev--askfsdl-backend-web-dev.modal.run\u001b[0m\n",
            "\u001b[37m\u251c\u2500\u2500 \u001b[0m\u001b[32m\ud83d\udd28\u001b[0m Created mount /Users/zanqiliang/ask-fsdl/vecstore.py, \n",
            "\u001b[37m\u2502   \u001b[0m/Users/zanqiliang/ask-fsdl/docstore.py, /Users/zanqiliang/ask-fsdl/utils.py,\n",
            "\u001b[37m\u2502   \u001b[0m/Users/zanqiliang/ask-fsdl/prompts.py\n",
            "\u001b[37m\u251c\u2500\u2500 \u001b[0m\u001b[32m\ud83d\udd28\u001b[0m Created mount /Users/zanqiliang/ask-fsdl/app.py\n",
            "\u001b[37m\u251c\u2500\u2500 \u001b[0m\u001b[32m\ud83d\udd28\u001b[0m Created mount /Users/zanqiliang/ask-fsdl/utils.py\n",
            "\u001b[37m\u251c\u2500\u2500 \u001b[0m\u001b[32m\ud83d\udd28\u001b[0m Created mount /Users/zanqiliang/ask-fsdl/vecstore.py\n",
            "\u001b[37m\u251c\u2500\u2500 \u001b[0m\u001b[32m\ud83d\udd28\u001b[0m Created qanda.\n",
            "\u001b[37m\u251c\u2500\u2500 \u001b[0m\u001b[32m\ud83d\udd28\u001b[0m Created create_vector_index.\n",
            "\u001b[37m\u251c\u2500\u2500 \u001b[0m\u001b[32m\ud83d\udd28\u001b[0m Created drop_docs.\n",
            "\u001b[2K\u001b[1A\u001b[2K\u001b[1A\u001b[2K\u001b[1A\u001b[2K\u001b[1A\u001b[2K\u001b[1A\u001b[2K\u001b[1A\u001b[2K\u001b[1A\u001b[2K\u001b[1A\u001b[2K\u001b[1A\u001b[2K\u001b[1A\u001b[2K\u001b[1A\u001b[2K\u001b[34m\u280f\u001b[0m Creating objects...\n",
            "\u001b[37m\u251c\u2500\u2500 \u001b[0m\u001b[32m\ud83d\udd28\u001b[0m Created web => \u001b[4;35mhttps://zanqi-dev--askfsdl-backend-web-dev.modal.run\u001b[0m\n",
            "\u001b[37m\u251c\u2500\u2500 \u001b[0m\u001b[32m\ud83d\udd28\u001b[0m Created mount /Users/zanqiliang/ask-fsdl/vecstore.py, \n",
            "\u001b[37m\u2502   \u001b[0m/Users/zanqiliang/ask-fsdl/docstore.py, /Users/zanqiliang/ask-fsdl/utils.py,\n",
            "\u001b[37m\u2502   \u001b[0m/Users/zanqiliang/ask-fsdl/prompts.py\n",
            "\u001b[37m\u251c\u2500\u2500 \u001b[0m\u001b[32m\ud83d\udd28\u001b[0m Created mount /Users/zanqiliang/ask-fsdl/app.py\n",
            "\u001b[37m\u251c\u2500\u2500 \u001b[0m\u001b[32m\ud83d\udd28\u001b[0m Created mount /Users/zanqiliang/ask-fsdl/utils.py\n",
            "\u001b[37m\u251c\u2500\u2500 \u001b[0m\u001b[32m\ud83d\udd28\u001b[0m Created mount /Users/zanqiliang/ask-fsdl/vecstore.py\n",
            "\u001b[37m\u251c\u2500\u2500 \u001b[0m\u001b[32m\ud83d\udd28\u001b[0m Created qanda.\n",
            "\u001b[37m\u251c\u2500\u2500 \u001b[0m\u001b[32m\ud83d\udd28\u001b[0m Created create_vector_index.\n",
            "\u001b[37m\u251c\u2500\u2500 \u001b[0m\u001b[32m\ud83d\udd28\u001b[0m Created drop_docs.\n",
            "\u001b[2K\u001b[1A\u001b[2K\u001b[1A\u001b[2K\u001b[1A\u001b[2K\u001b[1A\u001b[2K\u001b[1A\u001b[2K\u001b[1A\u001b[2K\u001b[1A\u001b[2K\u001b[1A\u001b[2K\u001b[1A\u001b[2K\u001b[1A\u001b[2K\u001b[1A\u001b[2K\u001b[34m\u2839\u001b[0m Creating objects...\n",
            "\u001b[37m\u251c\u2500\u2500 \u001b[0m\u001b[32m\ud83d\udd28\u001b[0m Created web => \u001b[4;35mhttps://zanqi-dev--askfsdl-backend-web-dev.modal.run\u001b[0m\n",
            "\u001b[37m\u251c\u2500\u2500 \u001b[0m\u001b[32m\ud83d\udd28\u001b[0m Created mount /Users/zanqiliang/ask-fsdl/vecstore.py, \n",
            "\u001b[37m\u2502   \u001b[0m/Users/zanqiliang/ask-fsdl/docstore.py, /Users/zanqiliang/ask-fsdl/utils.py,\n",
            "\u001b[37m\u2502   \u001b[0m/Users/zanqiliang/ask-fsdl/prompts.py\n",
            "\u001b[37m\u251c\u2500\u2500 \u001b[0m\u001b[32m\ud83d\udd28\u001b[0m Created mount /Users/zanqiliang/ask-fsdl/app.py\n",
            "\u001b[37m\u251c\u2500\u2500 \u001b[0m\u001b[32m\ud83d\udd28\u001b[0m Created mount /Users/zanqiliang/ask-fsdl/utils.py\n",
            "\u001b[37m\u251c\u2500\u2500 \u001b[0m\u001b[32m\ud83d\udd28\u001b[0m Created mount /Users/zanqiliang/ask-fsdl/vecstore.py\n",
            "\u001b[37m\u251c\u2500\u2500 \u001b[0m\u001b[32m\ud83d\udd28\u001b[0m Created qanda.\n",
            "\u001b[37m\u251c\u2500\u2500 \u001b[0m\u001b[32m\ud83d\udd28\u001b[0m Created create_vector_index.\n",
            "\u001b[37m\u251c\u2500\u2500 \u001b[0m\u001b[32m\ud83d\udd28\u001b[0m Created drop_docs.\n",
            "\u001b[37m\u251c\u2500\u2500 \u001b[0m\u001b[32m\ud83d\udd28\u001b[0m Created cli.\n",
            "\u001b[2K\u001b[1A\u001b[2K\u001b[1A\u001b[2K\u001b[1A\u001b[2K\u001b[1A\u001b[2K\u001b[1A\u001b[2K\u001b[1A\u001b[2K\u001b[1A\u001b[2K\u001b[1A\u001b[2K\u001b[1A\u001b[2K\u001b[1A\u001b[2K\u001b[1A\u001b[2K\u001b[1A\u001b[2K\u001b[34m\u2826\u001b[0m Creating objects...\n",
            "\u001b[37m\u251c\u2500\u2500 \u001b[0m\u001b[32m\ud83d\udd28\u001b[0m Created web => \u001b[4;35mhttps://zanqi-dev--askfsdl-backend-web-dev.modal.run\u001b[0m\n",
            "\u001b[37m\u251c\u2500\u2500 \u001b[0m\u001b[32m\ud83d\udd28\u001b[0m Created mount /Users/zanqiliang/ask-fsdl/vecstore.py, \n",
            "\u001b[37m\u2502   \u001b[0m/Users/zanqiliang/ask-fsdl/docstore.py, /Users/zanqiliang/ask-fsdl/utils.py,\n",
            "\u001b[37m\u2502   \u001b[0m/Users/zanqiliang/ask-fsdl/prompts.py\n",
            "\u001b[37m\u251c\u2500\u2500 \u001b[0m\u001b[32m\ud83d\udd28\u001b[0m Created mount /Users/zanqiliang/ask-fsdl/app.py\n",
            "\u001b[37m\u251c\u2500\u2500 \u001b[0m\u001b[32m\ud83d\udd28\u001b[0m Created mount /Users/zanqiliang/ask-fsdl/utils.py\n",
            "\u001b[37m\u251c\u2500\u2500 \u001b[0m\u001b[32m\ud83d\udd28\u001b[0m Created mount /Users/zanqiliang/ask-fsdl/vecstore.py\n",
            "\u001b[37m\u251c\u2500\u2500 \u001b[0m\u001b[32m\ud83d\udd28\u001b[0m Created qanda.\n",
            "\u001b[37m\u251c\u2500\u2500 \u001b[0m\u001b[32m\ud83d\udd28\u001b[0m Created create_vector_index.\n",
            "\u001b[37m\u251c\u2500\u2500 \u001b[0m\u001b[32m\ud83d\udd28\u001b[0m Created drop_docs.\n",
            "\u001b[37m\u251c\u2500\u2500 \u001b[0m\u001b[32m\ud83d\udd28\u001b[0m Created cli.\n",
            "\u001b[2K\u001b[1A\u001b[2K\u001b[1A\u001b[2K\u001b[1A\u001b[2K\u001b[1A\u001b[2K\u001b[1A\u001b[2K\u001b[1A\u001b[2K\u001b[1A\u001b[2K\u001b[1A\u001b[2K\u001b[1A\u001b[2K\u001b[1A\u001b[2K\u001b[1A\u001b[2K\u001b[1A\u001b[2K\u001b[34m\u280f\u001b[0m Creating objects...\n",
            "\u001b[37m\u251c\u2500\u2500 \u001b[0m\u001b[32m\ud83d\udd28\u001b[0m Created web => \u001b[4;35mhttps://zanqi-dev--askfsdl-backend-web-dev.modal.run\u001b[0m\n",
            "\u001b[37m\u251c\u2500\u2500 \u001b[0m\u001b[32m\ud83d\udd28\u001b[0m Created mount /Users/zanqiliang/ask-fsdl/vecstore.py, \n",
            "\u001b[37m\u2502   \u001b[0m/Users/zanqiliang/ask-fsdl/docstore.py, /Users/zanqiliang/ask-fsdl/utils.py,\n",
            "\u001b[37m\u2502   \u001b[0m/Users/zanqiliang/ask-fsdl/prompts.py\n",
            "\u001b[37m\u251c\u2500\u2500 \u001b[0m\u001b[32m\ud83d\udd28\u001b[0m Created mount /Users/zanqiliang/ask-fsdl/app.py\n",
            "\u001b[37m\u251c\u2500\u2500 \u001b[0m\u001b[32m\ud83d\udd28\u001b[0m Created mount /Users/zanqiliang/ask-fsdl/utils.py\n",
            "\u001b[37m\u251c\u2500\u2500 \u001b[0m\u001b[32m\ud83d\udd28\u001b[0m Created mount /Users/zanqiliang/ask-fsdl/vecstore.py\n",
            "\u001b[37m\u251c\u2500\u2500 \u001b[0m\u001b[32m\ud83d\udd28\u001b[0m Created qanda.\n",
            "\u001b[37m\u251c\u2500\u2500 \u001b[0m\u001b[32m\ud83d\udd28\u001b[0m Created create_vector_index.\n",
            "\u001b[37m\u251c\u2500\u2500 \u001b[0m\u001b[32m\ud83d\udd28\u001b[0m Created drop_docs.\n",
            "\u001b[37m\u251c\u2500\u2500 \u001b[0m\u001b[32m\ud83d\udd28\u001b[0m Created cli.\n",
            "\u001b[2K\u001b[1A\u001b[2K\u001b[1A\u001b[2K\u001b[1A\u001b[2K\u001b[1A\u001b[2K\u001b[1A\u001b[2K\u001b[1A\u001b[2K\u001b[1A\u001b[2K\u001b[1A\u001b[2K\u001b[1A\u001b[2K\u001b[1A\u001b[2K\u001b[1A\u001b[2K\u001b[1A\u001b[2K\u001b[34m\u2839\u001b[0m Creating objects...\n",
            "\u001b[37m\u251c\u2500\u2500 \u001b[0m\u001b[32m\ud83d\udd28\u001b[0m Created web => \u001b[4;35mhttps://zanqi-dev--askfsdl-backend-web-dev.modal.run\u001b[0m\n",
            "\u001b[37m\u251c\u2500\u2500 \u001b[0m\u001b[32m\ud83d\udd28\u001b[0m Created mount /Users/zanqiliang/ask-fsdl/vecstore.py, \n",
            "\u001b[37m\u2502   \u001b[0m/Users/zanqiliang/ask-fsdl/docstore.py, /Users/zanqiliang/ask-fsdl/utils.py,\n",
            "\u001b[37m\u2502   \u001b[0m/Users/zanqiliang/ask-fsdl/prompts.py\n",
            "\u001b[37m\u251c\u2500\u2500 \u001b[0m\u001b[32m\ud83d\udd28\u001b[0m Created mount /Users/zanqiliang/ask-fsdl/app.py\n",
            "\u001b[37m\u251c\u2500\u2500 \u001b[0m\u001b[32m\ud83d\udd28\u001b[0m Created mount /Users/zanqiliang/ask-fsdl/utils.py\n",
            "\u001b[37m\u251c\u2500\u2500 \u001b[0m\u001b[32m\ud83d\udd28\u001b[0m Created mount /Users/zanqiliang/ask-fsdl/vecstore.py\n",
            "\u001b[37m\u251c\u2500\u2500 \u001b[0m\u001b[32m\ud83d\udd28\u001b[0m Created qanda.\n",
            "\u001b[37m\u251c\u2500\u2500 \u001b[0m\u001b[32m\ud83d\udd28\u001b[0m Created create_vector_index.\n",
            "\u001b[37m\u251c\u2500\u2500 \u001b[0m\u001b[32m\ud83d\udd28\u001b[0m Created drop_docs.\n",
            "\u001b[37m\u251c\u2500\u2500 \u001b[0m\u001b[32m\ud83d\udd28\u001b[0m Created cli.\n",
            "\u001b[2K\u001b[1A\u001b[2K\u001b[1A\u001b[2K\u001b[1A\u001b[2K\u001b[1A\u001b[2K\u001b[1A\u001b[2K\u001b[1A\u001b[2K\u001b[1A\u001b[2K\u001b[1A\u001b[2K\u001b[1A\u001b[2K\u001b[1A\u001b[2K\u001b[1A\u001b[2K\u001b[1A\u001b[2K\u001b[34m\u2834\u001b[0m Creating objects...\n",
            "\u001b[37m\u251c\u2500\u2500 \u001b[0m\u001b[32m\ud83d\udd28\u001b[0m Created web => \u001b[4;35mhttps://zanqi-dev--askfsdl-backend-web-dev.modal.run\u001b[0m\n",
            "\u001b[37m\u251c\u2500\u2500 \u001b[0m\u001b[32m\ud83d\udd28\u001b[0m Created mount /Users/zanqiliang/ask-fsdl/vecstore.py, \n",
            "\u001b[37m\u2502   \u001b[0m/Users/zanqiliang/ask-fsdl/docstore.py, /Users/zanqiliang/ask-fsdl/utils.py,\n",
            "\u001b[37m\u2502   \u001b[0m/Users/zanqiliang/ask-fsdl/prompts.py\n",
            "\u001b[37m\u251c\u2500\u2500 \u001b[0m\u001b[32m\ud83d\udd28\u001b[0m Created mount /Users/zanqiliang/ask-fsdl/app.py\n",
            "\u001b[37m\u251c\u2500\u2500 \u001b[0m\u001b[32m\ud83d\udd28\u001b[0m Created mount /Users/zanqiliang/ask-fsdl/utils.py\n",
            "\u001b[37m\u251c\u2500\u2500 \u001b[0m\u001b[32m\ud83d\udd28\u001b[0m Created mount /Users/zanqiliang/ask-fsdl/vecstore.py\n",
            "\u001b[37m\u251c\u2500\u2500 \u001b[0m\u001b[32m\ud83d\udd28\u001b[0m Created qanda.\n",
            "\u001b[37m\u251c\u2500\u2500 \u001b[0m\u001b[32m\ud83d\udd28\u001b[0m Created create_vector_index.\n",
            "\u001b[37m\u251c\u2500\u2500 \u001b[0m\u001b[32m\ud83d\udd28\u001b[0m Created drop_docs.\n",
            "\u001b[37m\u251c\u2500\u2500 \u001b[0m\u001b[32m\ud83d\udd28\u001b[0m Created cli.\n",
            "\u001b[2K\u001b[1A\u001b[2K\u001b[1A\u001b[2K\u001b[1A\u001b[2K\u001b[1A\u001b[2K\u001b[1A\u001b[2K\u001b[1A\u001b[2K\u001b[1A\u001b[2K\u001b[1A\u001b[2K\u001b[1A\u001b[2K\u001b[1A\u001b[2K\u001b[1A\u001b[2K\u001b[1A\u001b[2K\u001b[34m\u2826\u001b[0m Creating objects...\n",
            "\u001b[37m\u251c\u2500\u2500 \u001b[0m\u001b[32m\ud83d\udd28\u001b[0m Created web => \u001b[4;35mhttps://zanqi-dev--askfsdl-backend-web-dev.modal.run\u001b[0m\n",
            "\u001b[37m\u251c\u2500\u2500 \u001b[0m\u001b[32m\ud83d\udd28\u001b[0m Created mount /Users/zanqiliang/ask-fsdl/vecstore.py, \n",
            "\u001b[37m\u2502   \u001b[0m/Users/zanqiliang/ask-fsdl/docstore.py, /Users/zanqiliang/ask-fsdl/utils.py,\n",
            "\u001b[37m\u2502   \u001b[0m/Users/zanqiliang/ask-fsdl/prompts.py\n",
            "\u001b[37m\u251c\u2500\u2500 \u001b[0m\u001b[32m\ud83d\udd28\u001b[0m Created mount /Users/zanqiliang/ask-fsdl/app.py\n",
            "\u001b[37m\u251c\u2500\u2500 \u001b[0m\u001b[32m\ud83d\udd28\u001b[0m Created mount /Users/zanqiliang/ask-fsdl/utils.py\n",
            "\u001b[37m\u251c\u2500\u2500 \u001b[0m\u001b[32m\ud83d\udd28\u001b[0m Created mount /Users/zanqiliang/ask-fsdl/vecstore.py\n",
            "\u001b[37m\u251c\u2500\u2500 \u001b[0m\u001b[32m\ud83d\udd28\u001b[0m Created qanda.\n",
            "\u001b[37m\u251c\u2500\u2500 \u001b[0m\u001b[32m\ud83d\udd28\u001b[0m Created create_vector_index.\n",
            "\u001b[37m\u251c\u2500\u2500 \u001b[0m\u001b[32m\ud83d\udd28\u001b[0m Created drop_docs.\n",
            "\u001b[37m\u251c\u2500\u2500 \u001b[0m\u001b[32m\ud83d\udd28\u001b[0m Created cli.\n",
            "\u001b[37m\u2514\u2500\u2500 \u001b[0m\u001b[32m\ud83d\udd28\u001b[0m Created fastapi_app => \u001b[4;35mhttps://zanqi-dev--askfsdl-backend-dev.modal.run\u001b[0m\n",
            "\u001b[1A\u001b[2K\u001b[1A\u001b[2K\u001b[1A\u001b[2K\u001b[1A\u001b[2K\u001b[1A\u001b[2K\u001b[1A\u001b[2K\u001b[1A\u001b[2K\u001b[1A\u001b[2K\u001b[1A\u001b[2K\u001b[1A\u001b[2K\u001b[1A\u001b[2K\u001b[1A\u001b[2K\u001b[1A\u001b[2K\u001b[32m\u2713\u001b[0m Created objects.\n",
            "\u001b[37m\u251c\u2500\u2500 \u001b[0m\u001b[32m\ud83d\udd28\u001b[0m Created web => \u001b[4;35mhttps://zanqi-dev--askfsdl-backend-web-dev.modal.run\u001b[0m\n",
            "\u001b[37m\u251c\u2500\u2500 \u001b[0m\u001b[32m\ud83d\udd28\u001b[0m Created mount /Users/zanqiliang/ask-fsdl/vecstore.py, \n",
            "\u001b[37m\u2502   \u001b[0m/Users/zanqiliang/ask-fsdl/docstore.py, /Users/zanqiliang/ask-fsdl/utils.py,\n",
            "\u001b[37m\u2502   \u001b[0m/Users/zanqiliang/ask-fsdl/prompts.py\n",
            "\u001b[37m\u251c\u2500\u2500 \u001b[0m\u001b[32m\ud83d\udd28\u001b[0m Created mount /Users/zanqiliang/ask-fsdl/app.py\n",
            "\u001b[37m\u251c\u2500\u2500 \u001b[0m\u001b[32m\ud83d\udd28\u001b[0m Created mount /Users/zanqiliang/ask-fsdl/utils.py\n",
            "\u001b[37m\u251c\u2500\u2500 \u001b[0m\u001b[32m\ud83d\udd28\u001b[0m Created mount /Users/zanqiliang/ask-fsdl/vecstore.py\n",
            "\u001b[37m\u251c\u2500\u2500 \u001b[0m\u001b[32m\ud83d\udd28\u001b[0m Created qanda.\n",
            "\u001b[37m\u251c\u2500\u2500 \u001b[0m\u001b[32m\ud83d\udd28\u001b[0m Created create_vector_index.\n",
            "\u001b[37m\u251c\u2500\u2500 \u001b[0m\u001b[32m\ud83d\udd28\u001b[0m Created drop_docs.\n",
            "\u001b[37m\u251c\u2500\u2500 \u001b[0m\u001b[32m\ud83d\udd28\u001b[0m Created cli.\n",
            "\u001b[37m\u2514\u2500\u2500 \u001b[0m\u001b[32m\ud83d\udd28\u001b[0m Created fastapi_app => \u001b[4;35mhttps://zanqi-dev--askfsdl-backend-dev.modal.run\u001b[0m\n",
            "\u001b[2K\u001b[34m\u2838\u001b[0m \u001b[34mWorker assigned...\u001b[0m \u001b[37mView app at \u001b[0m\n",
            "\u001b[2K\u001b[34m\u280f\u001b[0m \u001b[34mLoading images (2 containers initializing)...\u001b[0m \u001b[37mView app at \u001b[0mps/ap-7TNTxDPyfndO3s527QgtYh\u001b[0m\n",
            "\u001b[2K\u001b[1A\u001b[2K\u001b[34m\u2839\u001b[0m \u001b[34mLoading images (2 containers initializing)...\u001b[0m \u001b[37mView app at \u001b[0m\n",
            "\u001b[2K\u001b[1A\u001b[2K\u001b[34m\u2834\u001b[0m \u001b[34mLoading images (2 containers initializing)...\u001b[0m \u001b[37mView app at \u001b[0m\n",
            "\u001b[2K\u001b[1A\u001b[2K\u001b[34m\u280f\u001b[0m \u001b[34mLoading images (2 containers initializing)...\u001b[0m \u001b[37mView app at \u001b[0m\n",
            "\u001b[2K\u001b[1A\u001b[2K\u001b[34m\u2839\u001b[0m \u001b[34mLoading images (3 containers initializing)...\u001b[0m \u001b[37mView app at \u001b[0m\n",
            "\u001b[2K\u001b[1A\u001b[2K\u001b[34m\u2834\u001b[0m \u001b[34mLoading images (3 containers initializing)...\u001b[0m \u001b[37mView app at \u001b[0m\n",
            "\u001b[2K\u001b[1A\u001b[2K\u001b[34m\u2807\u001b[0m \u001b[34mLoading images (3 containers initializing)...\u001b[0m \u001b[37mView app at \u001b[0m\n",
            "\u001b[2K\u001b[1A\u001b[2K\u001b[34m\u2819\u001b[0m \u001b[34mRunning (0/3 containers active)...\u001b[0m \u001b[37mView app at \u001b[0m\n",
            "\u001b[2K\u001b[1A\u001b[2K\u001b[34m\u283c\u001b[0m \u001b[34mRunning (0/3 containers active)...\u001b[0m \u001b[37mView app at \u001b[0m\n",
            "\u001b[2K\u001b[1A\u001b[2K\u001b[34m\u2807\u001b[0m \u001b[34mRunning (0/3 containers active)...\u001b[0m \u001b[37mView app at \u001b[0m\n",
            "\u001b[2K\u001b[1A\u001b[2K\u001b[34m\u2819\u001b[0m \u001b[34mRunning (0/3 containers active)...\u001b[0m \u001b[37mView app at \u001b[0m\n",
            "\u001b[2K\u001b[1A\u001b[2K\u001b[34m\u283c\u001b[0m \u001b[34mRunning (0/3 containers active)...\u001b[0m \u001b[37mView app at \u001b[0m\n",
            "\u001b[2K\u001b[1A\u001b[2K\u001b[34m\u2827\u001b[0m \u001b[34mRunning (0/3 containers active)...\u001b[0m \u001b[37mView app at \u001b[0m\n",
            "\u001b[2K\u001b[1A\u001b[2K\u001b[34m\u280b\u001b[0m \u001b[34mRunning (0/3 containers active)...\u001b[0m \u001b[37mView app at \u001b[0m\n",
            "\u001b[2K\u001b[1A\u001b[2K\u001b[34m\u283c\u001b[0m \u001b[34mRunning (0/3 containers active)...\u001b[0m \u001b[37mView app at \u001b[0m\n",
            "\u001b[2K\u001b[1A\u001b[2K\u001b[34m\u2827\u001b[0m \u001b[34mRunning (1/3 containers active)...\u001b[0m \u001b[37mView app at \u001b[0m\n",
            "\u001b[2K\u001b[1A\u001b[2K\u001b[34m\u280b\u001b[0m \u001b[34mRunning (1/3 containers active)...\u001b[0m \u001b[37mView app at \u001b[0m\n",
            "\u001b[2K\u001b[1A\u001b[2K\u001b[34m\u2819\u001b[0m \u001b[34mRunning (1/3 containers active)...\u001b[0m \u001b[37mView app at \u001b[0m\n",
            "\u001b[4;37mhttps://modal.com/apps/ap-7TNTxDPyfndO3s527QgtYh\u001b[0m\n",
            "\u001b[1A\u001b[2K\u001b[1A\u001b[2K\u001b[32m\u2713\u001b[0m App completed.\n"
          ]
        }
      ],
      "source": [
        "!make secrets  # you'll need credentials for Mongo and Modal to run this\n",
        "db, collection = \"fsdl-dev\", \"ask-fsdl\"  # we run this in a dev database\n",
        "\n",
        "# drop the collection if it exists, it's just dev\n",
        "!modal run app.py::drop_docs --db {db} --collection {collection}"
      ]
    },
    {
      "cell_type": "code",
      "execution_count": 2,
      "metadata": {},
      "outputs": [],
      "source": [
        "import json\n",
        "from pathlib import Path\n",
        "import pprint\n",
        "\n",
        "from etl import markdown, pdfs, shared, videos\n",
        "from etl.shared import display_modal_image\n",
        "\n",
        "pp = pprint.PrettyPrinter(indent=2)"
      ]
    },
    {
      "attachments": {},
      "cell_type": "markdown",
      "metadata": {},
      "source": [
        "## PDFs: arXiV Papers"
      ]
    },
    {
      "attachments": {},
      "cell_type": "markdown",
      "metadata": {},
      "source": [
        "```bash\n",
        "!modal run etl/pdfs.py --json-path data/llm-papers.json\n",
        "```"
      ]
    },
    {
      "cell_type": "code",
      "execution_count": 3,
      "metadata": {},
      "outputs": [
        {
          "data": {
            "text/html": [
              "<style>pre { line-height: 125%; }\n",
              "td.linenos .normal { color: inherit; background-color: transparent; padding-left: 5px; padding-right: 5px; }\n",
              "span.linenos { color: inherit; background-color: transparent; padding-left: 5px; padding-right: 5px; }\n",
              "td.linenos .special { color: #000000; background-color: #ffffc0; padding-left: 5px; padding-right: 5px; }\n",
              "span.linenos.special { color: #000000; background-color: #ffffc0; padding-left: 5px; padding-right: 5px; }\n",
              ".output_html .hll { background-color: #0000ff }\n",
              ".output_html { background: #000000; color: #dddddd }\n",
              ".output_html .c { color: #00ff00 } /* Comment */\n",
              ".output_html .err { color: #dddddd } /* Error */\n",
              ".output_html .esc { color: #dddddd } /* Escape */\n",
              ".output_html .g { color: #dddddd } /* Generic */\n",
              ".output_html .k { color: #ff0000 } /* Keyword */\n",
              ".output_html .l { color: #dddddd } /* Literal */\n",
              ".output_html .n { color: #dddddd } /* Name */\n",
              ".output_html .o { color: #dddddd } /* Operator */\n",
              ".output_html .x { color: #dddddd } /* Other */\n",
              ".output_html .p { color: #dddddd } /* Punctuation */\n",
              ".output_html .ch { color: #00ff00 } /* Comment.Hashbang */\n",
              ".output_html .cm { color: #00ff00 } /* Comment.Multiline */\n",
              ".output_html .cp { color: #e5e5e5 } /* Comment.Preproc */\n",
              ".output_html .cpf { color: #00ff00 } /* Comment.PreprocFile */\n",
              ".output_html .c1 { color: #00ff00 } /* Comment.Single */\n",
              ".output_html .cs { color: #00ff00 } /* Comment.Special */\n",
              ".output_html .gd { color: #dddddd } /* Generic.Deleted */\n",
              ".output_html .ge { color: #dddddd } /* Generic.Emph */\n",
              ".output_html .ges { color: #dddddd } /* Generic.EmphStrong */\n",
              ".output_html .gr { color: #dddddd } /* Generic.Error */\n",
              ".output_html .gh { color: #dddddd } /* Generic.Heading */\n",
              ".output_html .gi { color: #dddddd } /* Generic.Inserted */\n",
              ".output_html .go { color: #dddddd } /* Generic.Output */\n",
              ".output_html .gp { color: #dddddd } /* Generic.Prompt */\n",
              ".output_html .gs { color: #dddddd } /* Generic.Strong */\n",
              ".output_html .gu { color: #dddddd } /* Generic.Subheading */\n",
              ".output_html .gt { color: #dddddd } /* Generic.Traceback */\n",
              ".output_html .kc { color: #ff0000 } /* Keyword.Constant */\n",
              ".output_html .kd { color: #ff0000 } /* Keyword.Declaration */\n",
              ".output_html .kn { color: #ff0000 } /* Keyword.Namespace */\n",
              ".output_html .kp { color: #ff0000 } /* Keyword.Pseudo */\n",
              ".output_html .kr { color: #ff0000 } /* Keyword.Reserved */\n",
              ".output_html .kt { color: #ee82ee } /* Keyword.Type */\n",
              ".output_html .ld { color: #dddddd } /* Literal.Date */\n",
              ".output_html .m { color: #dddddd } /* Literal.Number */\n",
              ".output_html .s { color: #87ceeb } /* Literal.String */\n",
              ".output_html .na { color: #dddddd } /* Name.Attribute */\n",
              ".output_html .nb { color: #dddddd } /* Name.Builtin */\n",
              ".output_html .nc { color: #dddddd } /* Name.Class */\n",
              ".output_html .no { color: #7fffd4 } /* Name.Constant */\n",
              ".output_html .nd { color: #dddddd } /* Name.Decorator */\n",
              ".output_html .ni { color: #dddddd } /* Name.Entity */\n",
              ".output_html .ne { color: #dddddd } /* Name.Exception */\n",
              ".output_html .nf { color: #ffff00 } /* Name.Function */\n",
              ".output_html .nl { color: #dddddd } /* Name.Label */\n",
              ".output_html .nn { color: #dddddd } /* Name.Namespace */\n",
              ".output_html .nx { color: #dddddd } /* Name.Other */\n",
              ".output_html .py { color: #dddddd } /* Name.Property */\n",
              ".output_html .nt { color: #dddddd } /* Name.Tag */\n",
              ".output_html .nv { color: #eedd82 } /* Name.Variable */\n",
              ".output_html .ow { color: #dddddd } /* Operator.Word */\n",
              ".output_html .pm { color: #dddddd } /* Punctuation.Marker */\n",
              ".output_html .w { color: #dddddd } /* Text.Whitespace */\n",
              ".output_html .mb { color: #dddddd } /* Literal.Number.Bin */\n",
              ".output_html .mf { color: #dddddd } /* Literal.Number.Float */\n",
              ".output_html .mh { color: #dddddd } /* Literal.Number.Hex */\n",
              ".output_html .mi { color: #dddddd } /* Literal.Number.Integer */\n",
              ".output_html .mo { color: #dddddd } /* Literal.Number.Oct */\n",
              ".output_html .sa { color: #87ceeb } /* Literal.String.Affix */\n",
              ".output_html .sb { color: #87ceeb } /* Literal.String.Backtick */\n",
              ".output_html .sc { color: #87ceeb } /* Literal.String.Char */\n",
              ".output_html .dl { color: #87ceeb } /* Literal.String.Delimiter */\n",
              ".output_html .sd { color: #87ceeb } /* Literal.String.Doc */\n",
              ".output_html .s2 { color: #87ceeb } /* Literal.String.Double */\n",
              ".output_html .se { color: #87ceeb } /* Literal.String.Escape */\n",
              ".output_html .sh { color: #87ceeb } /* Literal.String.Heredoc */\n",
              ".output_html .si { color: #87ceeb } /* Literal.String.Interpol */\n",
              ".output_html .sx { color: #87ceeb } /* Literal.String.Other */\n",
              ".output_html .sr { color: #87ceeb } /* Literal.String.Regex */\n",
              ".output_html .s1 { color: #87ceeb } /* Literal.String.Single */\n",
              ".output_html .ss { color: #87ceeb } /* Literal.String.Symbol */\n",
              ".output_html .bp { color: #dddddd } /* Name.Builtin.Pseudo */\n",
              ".output_html .fm { color: #ffff00 } /* Name.Function.Magic */\n",
              ".output_html .vc { color: #eedd82 } /* Name.Variable.Class */\n",
              ".output_html .vg { color: #eedd82 } /* Name.Variable.Global */\n",
              ".output_html .vi { color: #eedd82 } /* Name.Variable.Instance */\n",
              ".output_html .vm { color: #eedd82 } /* Name.Variable.Magic */\n",
              ".output_html .il { color: #dddddd } /* Literal.Number.Integer.Long */</style><h1><code>modal.Image</code></h1><div class=\"_pygments_code\"><pre><span></span><span class=\"k\">FROM</span><span class=\"w\"> </span><span class=\"s\">base</span>\n",
              "<span class=\"k\">RUN</span><span class=\"w\"> </span>python<span class=\"w\"> </span>-m<span class=\"w\"> </span>pip<span class=\"w\"> </span>install<span class=\"w\"> </span><span class=\"s1\">&#39;langchain~=0.0.98&#39;</span><span class=\"w\"> </span><span class=\"s1\">&#39;pymongo[srv]==3.11&#39;</span><span class=\"w\"> </span>\n",
              "</pre></div>\n"
            ],
            "text/plain": [
              "<IPython.core.display.HTML object>"
            ]
          },
          "execution_count": 3,
          "metadata": {},
          "output_type": "execute_result"
        }
      ],
      "source": [
        "display_modal_image(shared.image)"
      ]
    },
    {
      "cell_type": "code",
      "execution_count": 4,
      "metadata": {},
      "outputs": [
        {
          "data": {
            "text/html": [
              "<style>pre { line-height: 125%; }\n",
              "td.linenos .normal { color: inherit; background-color: transparent; padding-left: 5px; padding-right: 5px; }\n",
              "span.linenos { color: inherit; background-color: transparent; padding-left: 5px; padding-right: 5px; }\n",
              "td.linenos .special { color: #000000; background-color: #ffffc0; padding-left: 5px; padding-right: 5px; }\n",
              "span.linenos.special { color: #000000; background-color: #ffffc0; padding-left: 5px; padding-right: 5px; }\n",
              ".output_html .hll { background-color: #0000ff }\n",
              ".output_html { background: #000000; color: #dddddd }\n",
              ".output_html .c { color: #00ff00 } /* Comment */\n",
              ".output_html .err { color: #dddddd } /* Error */\n",
              ".output_html .esc { color: #dddddd } /* Escape */\n",
              ".output_html .g { color: #dddddd } /* Generic */\n",
              ".output_html .k { color: #ff0000 } /* Keyword */\n",
              ".output_html .l { color: #dddddd } /* Literal */\n",
              ".output_html .n { color: #dddddd } /* Name */\n",
              ".output_html .o { color: #dddddd } /* Operator */\n",
              ".output_html .x { color: #dddddd } /* Other */\n",
              ".output_html .p { color: #dddddd } /* Punctuation */\n",
              ".output_html .ch { color: #00ff00 } /* Comment.Hashbang */\n",
              ".output_html .cm { color: #00ff00 } /* Comment.Multiline */\n",
              ".output_html .cp { color: #e5e5e5 } /* Comment.Preproc */\n",
              ".output_html .cpf { color: #00ff00 } /* Comment.PreprocFile */\n",
              ".output_html .c1 { color: #00ff00 } /* Comment.Single */\n",
              ".output_html .cs { color: #00ff00 } /* Comment.Special */\n",
              ".output_html .gd { color: #dddddd } /* Generic.Deleted */\n",
              ".output_html .ge { color: #dddddd } /* Generic.Emph */\n",
              ".output_html .ges { color: #dddddd } /* Generic.EmphStrong */\n",
              ".output_html .gr { color: #dddddd } /* Generic.Error */\n",
              ".output_html .gh { color: #dddddd } /* Generic.Heading */\n",
              ".output_html .gi { color: #dddddd } /* Generic.Inserted */\n",
              ".output_html .go { color: #dddddd } /* Generic.Output */\n",
              ".output_html .gp { color: #dddddd } /* Generic.Prompt */\n",
              ".output_html .gs { color: #dddddd } /* Generic.Strong */\n",
              ".output_html .gu { color: #dddddd } /* Generic.Subheading */\n",
              ".output_html .gt { color: #dddddd } /* Generic.Traceback */\n",
              ".output_html .kc { color: #ff0000 } /* Keyword.Constant */\n",
              ".output_html .kd { color: #ff0000 } /* Keyword.Declaration */\n",
              ".output_html .kn { color: #ff0000 } /* Keyword.Namespace */\n",
              ".output_html .kp { color: #ff0000 } /* Keyword.Pseudo */\n",
              ".output_html .kr { color: #ff0000 } /* Keyword.Reserved */\n",
              ".output_html .kt { color: #ee82ee } /* Keyword.Type */\n",
              ".output_html .ld { color: #dddddd } /* Literal.Date */\n",
              ".output_html .m { color: #dddddd } /* Literal.Number */\n",
              ".output_html .s { color: #87ceeb } /* Literal.String */\n",
              ".output_html .na { color: #dddddd } /* Name.Attribute */\n",
              ".output_html .nb { color: #dddddd } /* Name.Builtin */\n",
              ".output_html .nc { color: #dddddd } /* Name.Class */\n",
              ".output_html .no { color: #7fffd4 } /* Name.Constant */\n",
              ".output_html .nd { color: #dddddd } /* Name.Decorator */\n",
              ".output_html .ni { color: #dddddd } /* Name.Entity */\n",
              ".output_html .ne { color: #dddddd } /* Name.Exception */\n",
              ".output_html .nf { color: #ffff00 } /* Name.Function */\n",
              ".output_html .nl { color: #dddddd } /* Name.Label */\n",
              ".output_html .nn { color: #dddddd } /* Name.Namespace */\n",
              ".output_html .nx { color: #dddddd } /* Name.Other */\n",
              ".output_html .py { color: #dddddd } /* Name.Property */\n",
              ".output_html .nt { color: #dddddd } /* Name.Tag */\n",
              ".output_html .nv { color: #eedd82 } /* Name.Variable */\n",
              ".output_html .ow { color: #dddddd } /* Operator.Word */\n",
              ".output_html .pm { color: #dddddd } /* Punctuation.Marker */\n",
              ".output_html .w { color: #dddddd } /* Text.Whitespace */\n",
              ".output_html .mb { color: #dddddd } /* Literal.Number.Bin */\n",
              ".output_html .mf { color: #dddddd } /* Literal.Number.Float */\n",
              ".output_html .mh { color: #dddddd } /* Literal.Number.Hex */\n",
              ".output_html .mi { color: #dddddd } /* Literal.Number.Integer */\n",
              ".output_html .mo { color: #dddddd } /* Literal.Number.Oct */\n",
              ".output_html .sa { color: #87ceeb } /* Literal.String.Affix */\n",
              ".output_html .sb { color: #87ceeb } /* Literal.String.Backtick */\n",
              ".output_html .sc { color: #87ceeb } /* Literal.String.Char */\n",
              ".output_html .dl { color: #87ceeb } /* Literal.String.Delimiter */\n",
              ".output_html .sd { color: #87ceeb } /* Literal.String.Doc */\n",
              ".output_html .s2 { color: #87ceeb } /* Literal.String.Double */\n",
              ".output_html .se { color: #87ceeb } /* Literal.String.Escape */\n",
              ".output_html .sh { color: #87ceeb } /* Literal.String.Heredoc */\n",
              ".output_html .si { color: #87ceeb } /* Literal.String.Interpol */\n",
              ".output_html .sx { color: #87ceeb } /* Literal.String.Other */\n",
              ".output_html .sr { color: #87ceeb } /* Literal.String.Regex */\n",
              ".output_html .s1 { color: #87ceeb } /* Literal.String.Single */\n",
              ".output_html .ss { color: #87ceeb } /* Literal.String.Symbol */\n",
              ".output_html .bp { color: #dddddd } /* Name.Builtin.Pseudo */\n",
              ".output_html .fm { color: #ffff00 } /* Name.Function.Magic */\n",
              ".output_html .vc { color: #eedd82 } /* Name.Variable.Class */\n",
              ".output_html .vg { color: #eedd82 } /* Name.Variable.Global */\n",
              ".output_html .vi { color: #eedd82 } /* Name.Variable.Instance */\n",
              ".output_html .vm { color: #eedd82 } /* Name.Variable.Magic */\n",
              ".output_html .il { color: #dddddd } /* Literal.Number.Integer.Long */</style><h1><code>modal.Image</code></h1><div class=\"_pygments_code\"><pre><span></span><span class=\"k\">FROM</span><span class=\"w\"> </span><span class=\"s\">base</span>\n",
              "<span class=\"k\">RUN</span><span class=\"w\"> </span>python<span class=\"w\"> </span>-m<span class=\"w\"> </span>pip<span class=\"w\"> </span>install<span class=\"w\"> </span><span class=\"nv\">arxiv</span><span class=\"o\">==</span><span class=\"m\">1</span>.4.7<span class=\"w\"> </span><span class=\"nv\">pypdf</span><span class=\"o\">==</span><span class=\"m\">3</span>.8.1<span class=\"w\"> </span>\n",
              "</pre></div>\n"
            ],
            "text/plain": [
              "<IPython.core.display.HTML object>"
            ]
          },
          "execution_count": 4,
          "metadata": {},
          "output_type": "execute_result"
        }
      ],
      "source": [
        "display_modal_image(pdfs.image)"
      ]
    },
    {
      "cell_type": "code",
      "execution_count": 5,
      "metadata": {},
      "outputs": [
        {
          "data": {
            "text/plain": [
              "[{'tags': ['Multimodal', 'Vision', 'Internals'],\n",
              "  'title': 'On the Hidden Mystery of OCR in Large Multimodal Models',\n",
              "  'url': 'https://arxiv.org/abs/2305.07895'},\n",
              " {'tags': ['Evaluation'],\n",
              "  'title': 'Asking Crowdworkers to Write Entailment Examples: The Best of Bad Options',\n",
              "  'url': 'https://aclanthology.org/2020.aacl-main.68/'},\n",
              " {'tags': ['Prompting', 'Critical', 'Philosophy', 'Simulation'],\n",
              "  'title': 'Inducing anxiety in large language models increases exploration and bias',\n",
              "  'url': 'https://arxiv.org/abs/2304.11111v1'},\n",
              " {'tags': ['Ahead of Its Time'],\n",
              "  'title': 'PROGRAMS WITH COMMON SENSE',\n",
              "  'url': 'http://jmc.stanford.edu/articles/mcc59/mcc59.pdf'},\n",
              " {'tags': ['Ahead of Its Time', 'External Memory', 'Reasoning', 'Philosophy'],\n",
              "  'title': 'Heuristic Problem Solving By Computer',\n",
              "  'url': 'https://iiif.library.cmu.edu/file/Simon_box00065_fld04954_bdl0001_doc0001/Simon_box00065_fld04954_bdl0001_doc0001.pdf'}]"
            ]
          },
          "execution_count": 5,
          "metadata": {},
          "output_type": "execute_result"
        }
      ],
      "source": [
        "papers_path = Path(\"data\") / \"llm-papers.json\"\n",
        "\n",
        "with open(papers_path) as f:\n",
        "    pdf_infos = json.load(f)\n",
        "\n",
        "pdf_infos[:100:20]"
      ]
    },
    {
      "cell_type": "code",
      "execution_count": 6,
      "metadata": {},
      "outputs": [
        {
          "data": {
            "text/plain": [
              "[{'tags': ['Philosophy', 'Reasoning'],\n",
              "  'title': 'Bounded Rationality',\n",
              "  'url': 'https://iiif.library.cmu.edu/file/Simon_box00008_fld00585_bdl0001_doc0001/Simon_box00008_fld00585_bdl0001_doc0001.pdf'},\n",
              " {'tags': ['Ahead of Its Time', 'External Memory', 'Reasoning', 'Philosophy'],\n",
              "  'title': 'Heuristic Problem Solving By Computer',\n",
              "  'url': 'https://iiif.library.cmu.edu/file/Simon_box00065_fld04954_bdl0001_doc0001/Simon_box00065_fld04954_bdl0001_doc0001.pdf'}]"
            ]
          },
          "execution_count": 6,
          "metadata": {},
          "output_type": "execute_result"
        }
      ],
      "source": [
        "[p for p in pdf_infos if 'cmu' in p['url']]"
      ]
    },
    {
      "cell_type": "code",
      "execution_count": 13,
      "metadata": {},
      "outputs": [
        {
          "data": {
            "application/vnd.jupyter.widget-view+json": {
              "model_id": "a1fffab9036f4d2b8e61fcd5f260af0a",
              "version_major": 2,
              "version_minor": 0
            },
            "text/plain": [
              "Output()"
            ]
          },
          "metadata": {},
          "output_type": "display_data"
        },
        {
          "data": {
            "text/html": [
              "<pre style=\"white-space:pre;overflow-x:auto;line-height:normal;font-family:Menlo,'DejaVu Sans Mono',consolas,'Courier New',monospace\"><span style=\"color: #008000; text-decoration-color: #008000\">\u2713</span> Initialized. <span style=\"color: #b2b2b2; text-decoration-color: #b2b2b2\">View app at </span><span style=\"color: #b2b2b2; text-decoration-color: #b2b2b2; text-decoration: underline\">https://modal.com/apps/ap-Cu86mD58fPeDVpv4ux6xyl</span>\n",
              "</pre>\n"
            ],
            "text/plain": [
              "\u001b[32m\u2713\u001b[0m Initialized. \u001b[38;5;249mView app at \u001b[0m\u001b[4;38;5;249mhttps://modal.com/apps/ap-Cu86mD58fPeDVpv4ux6xyl\u001b[0m\n"
            ]
          },
          "metadata": {},
          "output_type": "display_data"
        },
        {
          "data": {
            "text/html": [
              "<pre style=\"white-space:pre;overflow-x:auto;line-height:normal;font-family:Menlo,'DejaVu Sans Mono',consolas,'Courier New',monospace\"></pre>\n"
            ],
            "text/plain": []
          },
          "metadata": {},
          "output_type": "display_data"
        },
        {
          "data": {
            "application/vnd.jupyter.widget-view+json": {
              "model_id": "c9bfe9ee62014e718eec2ef7eeade10b",
              "version_major": 2,
              "version_minor": 0
            },
            "text/plain": [
              "Output()"
            ]
          },
          "metadata": {},
          "output_type": "display_data"
        },
        {
          "data": {
            "text/html": [
              "<pre style=\"white-space:pre;overflow-x:auto;line-height:normal;font-family:Menlo,'DejaVu Sans Mono',consolas,'Courier New',monospace\"></pre>\n"
            ],
            "text/plain": []
          },
          "metadata": {},
          "output_type": "display_data"
        },
        {
          "data": {
            "text/html": [
              "<pre style=\"white-space:pre;overflow-x:auto;line-height:normal;font-family:Menlo,'DejaVu Sans Mono',consolas,'Courier New',monospace\"><span style=\"color: #008000; text-decoration-color: #008000\">\u2713</span> Created objects.\n",
              "<span style=\"color: #808080; text-decoration-color: #808080\">\u251c\u2500\u2500 </span><span style=\"color: #008000; text-decoration-color: #008000\">\ud83d\udd28</span> Created extract_pdf.\n",
              "<span style=\"color: #808080; text-decoration-color: #808080\">\u251c\u2500\u2500 </span><span style=\"color: #008000; text-decoration-color: #008000\">\ud83d\udd28</span> Created mount /Users/zanqiliang/ask-fsdl/docstore.py, /Users/zanqiliang/ask-fsdl/utils.py\n",
              "<span style=\"color: #808080; text-decoration-color: #808080\">\u251c\u2500\u2500 </span><span style=\"color: #008000; text-decoration-color: #008000\">\ud83d\udd28</span> Created mount /Users/zanqiliang/ask-fsdl/etl\n",
              "<span style=\"color: #808080; text-decoration-color: #808080\">\u251c\u2500\u2500 </span><span style=\"color: #008000; text-decoration-color: #008000\">\ud83d\udd28</span> Created fetch_papers.\n",
              "<span style=\"color: #808080; text-decoration-color: #808080\">\u2514\u2500\u2500 </span><span style=\"color: #008000; text-decoration-color: #008000\">\ud83d\udd28</span> Created get_pdf_url.\n",
              "</pre>\n"
            ],
            "text/plain": [
              "\u001b[32m\u2713\u001b[0m Created objects.\n",
              "\u001b[38;5;244m\u251c\u2500\u2500 \u001b[0m\u001b[32m\ud83d\udd28\u001b[0m Created extract_pdf.\n",
              "\u001b[38;5;244m\u251c\u2500\u2500 \u001b[0m\u001b[32m\ud83d\udd28\u001b[0m Created mount /Users/zanqiliang/ask-fsdl/docstore.py, /Users/zanqiliang/ask-fsdl/utils.py\n",
              "\u001b[38;5;244m\u251c\u2500\u2500 \u001b[0m\u001b[32m\ud83d\udd28\u001b[0m Created mount /Users/zanqiliang/ask-fsdl/etl\n",
              "\u001b[38;5;244m\u251c\u2500\u2500 \u001b[0m\u001b[32m\ud83d\udd28\u001b[0m Created fetch_papers.\n",
              "\u001b[38;5;244m\u2514\u2500\u2500 \u001b[0m\u001b[32m\ud83d\udd28\u001b[0m Created get_pdf_url.\n"
            ]
          },
          "metadata": {},
          "output_type": "display_data"
        },
        {
          "data": {
            "application/vnd.jupyter.widget-view+json": {
              "model_id": "b65585077f3647e8b0767e440b4db127",
              "version_major": 2,
              "version_minor": 0
            },
            "text/plain": [
              "Output()"
            ]
          },
          "metadata": {},
          "output_type": "display_data"
        },
        {
          "data": {
            "text/html": [
              "<pre style=\"white-space:pre;overflow-x:auto;line-height:normal;font-family:Menlo,'DejaVu Sans Mono',consolas,'Courier New',monospace\"><span style=\"color: #800000; text-decoration-color: #800000\">Traceback (most recent call last):\n",
              "  File \"/usr/local/lib/python3.10/site-packages/urllib3/connectionpool.py\", line 467, in _make_request\n",
              "    self._validate_conn(conn)\n",
              "  File \"/usr/local/lib/python3.10/site-packages/urllib3/connectionpool.py\", line 1092, in _validate_conn\n",
              "    conn.connect()\n",
              "  File \"/usr/local/lib/python3.10/site-packages/urllib3/connection.py\", line 642, in connect\n",
              "    sock_and_verified = _ssl_wrap_socket_and_match_hostname(\n",
              "  File \"/usr/local/lib/python3.10/site-packages/urllib3/connection.py\", line 783, in _ssl_wrap_socket_and_match_hostname\n",
              "    ssl_sock = ssl_wrap_socket(\n",
              "  File \"/usr/local/lib/python3.10/site-packages/urllib3/util/ssl_.py\", line 469, in ssl_wrap_socket\n",
              "    ssl_sock = _ssl_wrap_socket_impl(sock, context, tls_in_tls, server_hostname)\n",
              "  File \"/usr/local/lib/python3.10/site-packages/urllib3/util/ssl_.py\", line 513, in _ssl_wrap_socket_impl\n",
              "    return ssl_context.wrap_socket(sock, server_hostname=server_hostname)\n",
              "  File \"/usr/local/lib/python3.10/ssl.py\", line 513, in wrap_socket\n",
              "    return self.sslsocket_class._create(\n",
              "  File \"/usr/local/lib/python3.10/ssl.py\", line 1071, in _create\n",
              "    self.do_handshake()\n",
              "</span></pre>\n"
            ],
            "text/plain": [
              "\u001b[31mTraceback (most recent call last):\n",
              "  File \"/usr/local/lib/python3.10/site-packages/urllib3/connectionpool.py\", line 467, in _make_request\n",
              "    self._validate_conn(conn)\n",
              "  File \"/usr/local/lib/python3.10/site-packages/urllib3/connectionpool.py\", line 1092, in _validate_conn\n",
              "    conn.connect()\n",
              "  File \"/usr/local/lib/python3.10/site-packages/urllib3/connection.py\", line 642, in connect\n",
              "    sock_and_verified = _ssl_wrap_socket_and_match_hostname(\n",
              "  File \"/usr/local/lib/python3.10/site-packages/urllib3/connection.py\", line 783, in _ssl_wrap_socket_and_match_hostname\n",
              "    ssl_sock = ssl_wrap_socket(\n",
              "  File \"/usr/local/lib/python3.10/site-packages/urllib3/util/ssl_.py\", line 469, in ssl_wrap_socket\n",
              "    ssl_sock = _ssl_wrap_socket_impl(sock, context, tls_in_tls, server_hostname)\n",
              "  File \"/usr/local/lib/python3.10/site-packages/urllib3/util/ssl_.py\", line 513, in _ssl_wrap_socket_impl\n",
              "    return ssl_context.wrap_socket(sock, server_hostname=server_hostname)\n",
              "  File \"/usr/local/lib/python3.10/ssl.py\", line 513, in wrap_socket\n",
              "    return self.sslsocket_class._create(\n",
              "  File \"/usr/local/lib/python3.10/ssl.py\", line 1071, in _create\n",
              "    self.do_handshake()\n",
              "\u001b[0m"
            ]
          },
          "metadata": {},
          "output_type": "display_data"
        },
        {
          "data": {
            "text/html": [
              "<pre style=\"white-space:pre;overflow-x:auto;line-height:normal;font-family:Menlo,'DejaVu Sans Mono',consolas,'Courier New',monospace\"><span style=\"color: #800000; text-decoration-color: #800000\">  File \"/usr/local/lib/python3.10/ssl.py\", line 1342, in do_handshake\n",
              "    self._sslobj.do_handshake()\n",
              "ssl.SSLCertVerificationError: [SSL: CERTIFICATE_VERIFY_FAILED] certificate verify failed: unable to get local issuer certificate (_ssl.c:997)\n",
              "\n",
              "During handling of the above exception, another exception occurred:\n",
              "\n",
              "Traceback (most recent call last):\n",
              "  File \"/usr/local/lib/python3.10/site-packages/urllib3/connectionpool.py\", line 790, in urlopen\n",
              "    response = self._make_request(\n",
              "  File \"/usr/local/lib/python3.10/site-packages/urllib3/connectionpool.py\", line 491, in _make_request\n",
              "    raise new_e\n",
              "urllib3.exceptions.SSLError: [SSL: CERTIFICATE_VERIFY_FAILED] certificate verify failed: unable to get local issuer certificate (_ssl.c:997)\n",
              "\n",
              "The above exception was the direct cause of the following exception:\n",
              "\n",
              "Traceback (most recent call last):\n",
              "</span></pre>\n"
            ],
            "text/plain": [
              "\u001b[31m  File \"/usr/local/lib/python3.10/ssl.py\", line 1342, in do_handshake\n",
              "    self._sslobj.do_handshake()\n",
              "ssl.SSLCertVerificationError: [SSL: CERTIFICATE_VERIFY_FAILED] certificate verify failed: unable to get local issuer certificate (_ssl.c:997)\n",
              "\n",
              "During handling of the above exception, another exception occurred:\n",
              "\n",
              "Traceback (most recent call last):\n",
              "  File \"/usr/local/lib/python3.10/site-packages/urllib3/connectionpool.py\", line 790, in urlopen\n",
              "    response = self._make_request(\n",
              "  File \"/usr/local/lib/python3.10/site-packages/urllib3/connectionpool.py\", line 491, in _make_request\n",
              "    raise new_e\n",
              "urllib3.exceptions.SSLError: [SSL: CERTIFICATE_VERIFY_FAILED] certificate verify failed: unable to get local issuer certificate (_ssl.c:997)\n",
              "\n",
              "The above exception was the direct cause of the following exception:\n",
              "\n",
              "Traceback (most recent call last):\n",
              "\u001b[0m"
            ]
          },
          "metadata": {},
          "output_type": "display_data"
        },
        {
          "data": {
            "text/html": [
              "<pre style=\"white-space:pre;overflow-x:auto;line-height:normal;font-family:Menlo,'DejaVu Sans Mono',consolas,'Courier New',monospace\"><span style=\"color: #800000; text-decoration-color: #800000\">  File \"/usr/local/lib/python3.10/site-packages/requests/adapters.py\", line 486, in send\n",
              "    resp = conn.urlopen(\n",
              "  File \"/usr/local/lib/python3.10/site-packages/urllib3/connectionpool.py\", line 844, in urlopen\n",
              "    retries = retries.increment(\n",
              "  File \"/usr/local/lib/python3.10/site-packages/urllib3/util/retry.py\", line 515, in increment\n",
              "    raise MaxRetryError(_pool, url, reason) from reason  # type: ignore[arg-type]\n",
              "</span></pre>\n"
            ],
            "text/plain": [
              "\u001b[31m  File \"/usr/local/lib/python3.10/site-packages/requests/adapters.py\", line 486, in send\n",
              "    resp = conn.urlopen(\n",
              "  File \"/usr/local/lib/python3.10/site-packages/urllib3/connectionpool.py\", line 844, in urlopen\n",
              "    retries = retries.increment(\n",
              "  File \"/usr/local/lib/python3.10/site-packages/urllib3/util/retry.py\", line 515, in increment\n",
              "    raise MaxRetryError(_pool, url, reason) from reason  # type: ignore[arg-type]\n",
              "\u001b[0m"
            ]
          },
          "metadata": {},
          "output_type": "display_data"
        },
        {
          "data": {
            "text/html": [
              "<pre style=\"white-space:pre;overflow-x:auto;line-height:normal;font-family:Menlo,'DejaVu Sans Mono',consolas,'Courier New',monospace\"><span style=\"color: #800000; text-decoration-color: #800000\">urllib3.exceptions.MaxRetryError: HTTPSConnectionPool(host='iiif.library.cmu.edu', port=443): Max retries exceeded with url: /file/Simon_box00008_fld00585_bdl0001_doc0001/Simon_box00008_fld00585_bdl0001_doc0001.pdf (Caused by SSLError(SSLCertVerificationError(1, '[SSL: CERTIFICATE_VERIFY_FAILED] certificate verify failed: unable to get local issuer certificate (_ssl.c:997)')))\n",
              "\n",
              "During handling of the above exception, another exception occurred:\n",
              "\n",
              "Traceback (most recent call last):\n",
              "</span></pre>\n"
            ],
            "text/plain": [
              "\u001b[31murllib3.exceptions.MaxRetryError: HTTPSConnectionPool(host='iiif.library.cmu.edu', port=443): Max retries exceeded with url: /file/Simon_box00008_fld00585_bdl0001_doc0001/Simon_box00008_fld00585_bdl0001_doc0001.pdf (Caused by SSLError(SSLCertVerificationError(1, '[SSL: CERTIFICATE_VERIFY_FAILED] certificate verify failed: unable to get local issuer certificate (_ssl.c:997)')))\n",
              "\n",
              "During handling of the above exception, another exception occurred:\n",
              "\n",
              "Traceback (most recent call last):\n",
              "\u001b[0m"
            ]
          },
          "metadata": {},
          "output_type": "display_data"
        },
        {
          "data": {
            "text/html": [
              "<pre style=\"white-space:pre;overflow-x:auto;line-height:normal;font-family:Menlo,'DejaVu Sans Mono',consolas,'Courier New',monospace\"><span style=\"color: #800000; text-decoration-color: #800000\">  File \"/pkg/modal/_container_entrypoint.py\", line 351, in handle_input_exception\n",
              "    yield\n",
              "  File \"/pkg/modal/_container_entrypoint.py\", line 437, in run_inputs\n",
              "    res = imp_fun.fun(*args, **kwargs)\n",
              "  File \"/root/etl/pdfs.py\", line 82, in extract_pdf\n",
              "    loader = PyPDFLoader(pdf_url)\n",
              "  File \"/usr/local/lib/python3.10/site-packages/langchain/document_loaders/pdf.py\", line 150, in __init__\n",
              "    super().__init__(file_path)\n",
              "  File \"/usr/local/lib/python3.10/site-packages/langchain/document_loaders/pdf.py\", line 83, in __init__\n",
              "    r = requests.get(self.file_path)\n",
              "</span></pre>\n"
            ],
            "text/plain": [
              "\u001b[31m  File \"/pkg/modal/_container_entrypoint.py\", line 351, in handle_input_exception\n",
              "    yield\n",
              "  File \"/pkg/modal/_container_entrypoint.py\", line 437, in run_inputs\n",
              "    res = imp_fun.fun(*args, **kwargs)\n",
              "  File \"/root/etl/pdfs.py\", line 82, in extract_pdf\n",
              "    loader = PyPDFLoader(pdf_url)\n",
              "  File \"/usr/local/lib/python3.10/site-packages/langchain/document_loaders/pdf.py\", line 150, in __init__\n",
              "    super().__init__(file_path)\n",
              "  File \"/usr/local/lib/python3.10/site-packages/langchain/document_loaders/pdf.py\", line 83, in __init__\n",
              "    r = requests.get(self.file_path)\n",
              "\u001b[0m"
            ]
          },
          "metadata": {},
          "output_type": "display_data"
        },
        {
          "data": {
            "text/html": [
              "<pre style=\"white-space:pre;overflow-x:auto;line-height:normal;font-family:Menlo,'DejaVu Sans Mono',consolas,'Courier New',monospace\"><span style=\"color: #800000; text-decoration-color: #800000\">  File \"/usr/local/lib/python3.10/site-packages/requests/api.py\", line 73, in get\n",
              "    return request(\"get\", url, params=params, **kwargs)\n",
              "  File \"/usr/local/lib/python3.10/site-packages/requests/api.py\", line 59, in request\n",
              "    return session.request(method=method, url=url, **kwargs)\n",
              "  File \"/usr/local/lib/python3.10/site-packages/requests/sessions.py\", line 589, in request\n",
              "    resp = self.send(prep, **send_kwargs)\n",
              "  File \"/usr/local/lib/python3.10/site-packages/requests/sessions.py\", line 703, in send\n",
              "    r = adapter.send(request, **kwargs)\n",
              "</span></pre>\n"
            ],
            "text/plain": [
              "\u001b[31m  File \"/usr/local/lib/python3.10/site-packages/requests/api.py\", line 73, in get\n",
              "    return request(\"get\", url, params=params, **kwargs)\n",
              "  File \"/usr/local/lib/python3.10/site-packages/requests/api.py\", line 59, in request\n",
              "    return session.request(method=method, url=url, **kwargs)\n",
              "  File \"/usr/local/lib/python3.10/site-packages/requests/sessions.py\", line 589, in request\n",
              "    resp = self.send(prep, **send_kwargs)\n",
              "  File \"/usr/local/lib/python3.10/site-packages/requests/sessions.py\", line 703, in send\n",
              "    r = adapter.send(request, **kwargs)\n",
              "\u001b[0m"
            ]
          },
          "metadata": {},
          "output_type": "display_data"
        },
        {
          "data": {
            "text/html": [
              "<pre style=\"white-space:pre;overflow-x:auto;line-height:normal;font-family:Menlo,'DejaVu Sans Mono',consolas,'Courier New',monospace\"><span style=\"color: #800000; text-decoration-color: #800000\">  File \"/usr/local/lib/python3.10/site-packages/requests/adapters.py\", line 517, in send\n",
              "    raise SSLError(e, request=request)\n",
              "requests.exceptions.SSLError: HTTPSConnectionPool(host='iiif.library.cmu.edu', port=443): Max retries exceeded with url: /file/Simon_box00008_fld00585_bdl0001_doc0001/Simon_box00008_fld00585_bdl0001_doc0001.pdf (Caused by SSLError(SSLCertVerificationError(1, '[SSL: CERTIFICATE_VERIFY_FAILED] certificate verify failed: unable to get local issuer certificate (_ssl.c:997)')))\n",
              "</span></pre>\n"
            ],
            "text/plain": [
              "\u001b[31m  File \"/usr/local/lib/python3.10/site-packages/requests/adapters.py\", line 517, in send\n",
              "    raise SSLError(e, request=request)\n",
              "requests.exceptions.SSLError: HTTPSConnectionPool(host='iiif.library.cmu.edu', port=443): Max retries exceeded with url: /file/Simon_box00008_fld00585_bdl0001_doc0001/Simon_box00008_fld00585_bdl0001_doc0001.pdf (Caused by SSLError(SSLCertVerificationError(1, '[SSL: CERTIFICATE_VERIFY_FAILED] certificate verify failed: unable to get local issuer certificate (_ssl.c:997)')))\n",
              "\u001b[0m"
            ]
          },
          "metadata": {},
          "output_type": "display_data"
        },
        {
          "data": {
            "text/html": [
              "<pre style=\"white-space:pre;overflow-x:auto;line-height:normal;font-family:Menlo,'DejaVu Sans Mono',consolas,'Courier New',monospace\"><span style=\"color: #800000; text-decoration-color: #800000\">Traceback (most recent call last):\n",
              "  File \"/usr/local/lib/python3.10/site-packages/urllib3/connectionpool.py\", line 467, in _make_request\n",
              "    self._validate_conn(conn)\n",
              "  File \"/usr/local/lib/python3.10/site-packages/urllib3/connectionpool.py\", line 1092, in _validate_conn\n",
              "    conn.connect()\n",
              "  File \"/usr/local/lib/python3.10/site-packages/urllib3/connection.py\", line 642, in connect\n",
              "    sock_and_verified = _ssl_wrap_socket_and_match_hostname(\n",
              "  File \"/usr/local/lib/python3.10/site-packages/urllib3/connection.py\", line 783, in _ssl_wrap_socket_and_match_hostname\n",
              "    ssl_sock = ssl_wrap_socket(\n",
              "</span></pre>\n"
            ],
            "text/plain": [
              "\u001b[31mTraceback (most recent call last):\n",
              "  File \"/usr/local/lib/python3.10/site-packages/urllib3/connectionpool.py\", line 467, in _make_request\n",
              "    self._validate_conn(conn)\n",
              "  File \"/usr/local/lib/python3.10/site-packages/urllib3/connectionpool.py\", line 1092, in _validate_conn\n",
              "    conn.connect()\n",
              "  File \"/usr/local/lib/python3.10/site-packages/urllib3/connection.py\", line 642, in connect\n",
              "    sock_and_verified = _ssl_wrap_socket_and_match_hostname(\n",
              "  File \"/usr/local/lib/python3.10/site-packages/urllib3/connection.py\", line 783, in _ssl_wrap_socket_and_match_hostname\n",
              "    ssl_sock = ssl_wrap_socket(\n",
              "\u001b[0m"
            ]
          },
          "metadata": {},
          "output_type": "display_data"
        },
        {
          "data": {
            "text/html": [
              "<pre style=\"white-space:pre;overflow-x:auto;line-height:normal;font-family:Menlo,'DejaVu Sans Mono',consolas,'Courier New',monospace\"><span style=\"color: #800000; text-decoration-color: #800000\">  File \"/usr/local/lib/python3.10/site-packages/urllib3/util/ssl_.py\", line 469, in ssl_wrap_socket\n",
              "    ssl_sock = _ssl_wrap_socket_impl(sock, context, tls_in_tls, server_hostname)\n",
              "  File \"/usr/local/lib/python3.10/site-packages/urllib3/util/ssl_.py\", line 513, in _ssl_wrap_socket_impl\n",
              "    return ssl_context.wrap_socket(sock, server_hostname=server_hostname)\n",
              "  File \"/usr/local/lib/python3.10/ssl.py\", line 513, in wrap_socket\n",
              "    return self.sslsocket_class._create(\n",
              "  File \"/usr/local/lib/python3.10/ssl.py\", line 1071, in _create\n",
              "    self.do_handshake()\n",
              "  File \"/usr/local/lib/python3.10/ssl.py\", line 1342, in do_handshake\n",
              "    self._sslobj.do_handshake()\n",
              "ssl.SSLCertVerificationError: [SSL: CERTIFICATE_VERIFY_FAILED] certificate verify failed: unable to get local issuer certificate (_ssl.c:997)\n",
              "\n",
              "During handling of the above exception, another exception occurred:\n",
              "\n",
              "Traceback (most recent call last):\n",
              "  File \"/usr/local/lib/python3.10/site-packages/urllib3/connectionpool.py\", line 790, in urlopen\n",
              "    response = self._make_request(\n",
              "  File \"/usr/local/lib/python3.10/site-packages/urllib3/connectionpool.py\", line 491, in _make_request\n",
              "    raise new_e\n",
              "urllib3.exceptions.SSLError: [SSL: CERTIFICATE_VERIFY_FAILED] certificate verify failed: unable to get local issuer certificate (_ssl.c:997)\n",
              "\n",
              "The above exception was the direct cause of the following exception:\n",
              "\n",
              "Traceback (most recent call last):\n",
              "  File \"/usr/local/lib/python3.10/site-packages/requests/adapters.py\", line 486, in send\n",
              "    resp = conn.urlopen(\n",
              "  File \"/usr/local/lib/python3.10/site-packages/urllib3/connectionpool.py\", line 844, in urlopen\n",
              "    retries = retries.increment(\n",
              "  File \"/usr/local/lib/python3.10/site-packages/urllib3/util/retry.py\", line 515, in increment\n",
              "    raise MaxRetryError(_pool, url, reason) from reason  # type: ignore[arg-type]\n",
              "</span></pre>\n"
            ],
            "text/plain": [
              "\u001b[31m  File \"/usr/local/lib/python3.10/site-packages/urllib3/util/ssl_.py\", line 469, in ssl_wrap_socket\n",
              "    ssl_sock = _ssl_wrap_socket_impl(sock, context, tls_in_tls, server_hostname)\n",
              "  File \"/usr/local/lib/python3.10/site-packages/urllib3/util/ssl_.py\", line 513, in _ssl_wrap_socket_impl\n",
              "    return ssl_context.wrap_socket(sock, server_hostname=server_hostname)\n",
              "  File \"/usr/local/lib/python3.10/ssl.py\", line 513, in wrap_socket\n",
              "    return self.sslsocket_class._create(\n",
              "  File \"/usr/local/lib/python3.10/ssl.py\", line 1071, in _create\n",
              "    self.do_handshake()\n",
              "  File \"/usr/local/lib/python3.10/ssl.py\", line 1342, in do_handshake\n",
              "    self._sslobj.do_handshake()\n",
              "ssl.SSLCertVerificationError: [SSL: CERTIFICATE_VERIFY_FAILED] certificate verify failed: unable to get local issuer certificate (_ssl.c:997)\n",
              "\n",
              "During handling of the above exception, another exception occurred:\n",
              "\n",
              "Traceback (most recent call last):\n",
              "  File \"/usr/local/lib/python3.10/site-packages/urllib3/connectionpool.py\", line 790, in urlopen\n",
              "    response = self._make_request(\n",
              "  File \"/usr/local/lib/python3.10/site-packages/urllib3/connectionpool.py\", line 491, in _make_request\n",
              "    raise new_e\n",
              "urllib3.exceptions.SSLError: [SSL: CERTIFICATE_VERIFY_FAILED] certificate verify failed: unable to get local issuer certificate (_ssl.c:997)\n",
              "\n",
              "The above exception was the direct cause of the following exception:\n",
              "\n",
              "Traceback (most recent call last):\n",
              "  File \"/usr/local/lib/python3.10/site-packages/requests/adapters.py\", line 486, in send\n",
              "    resp = conn.urlopen(\n",
              "  File \"/usr/local/lib/python3.10/site-packages/urllib3/connectionpool.py\", line 844, in urlopen\n",
              "    retries = retries.increment(\n",
              "  File \"/usr/local/lib/python3.10/site-packages/urllib3/util/retry.py\", line 515, in increment\n",
              "    raise MaxRetryError(_pool, url, reason) from reason  # type: ignore[arg-type]\n",
              "\u001b[0m"
            ]
          },
          "metadata": {},
          "output_type": "display_data"
        },
        {
          "data": {
            "text/html": [
              "<pre style=\"white-space:pre;overflow-x:auto;line-height:normal;font-family:Menlo,'DejaVu Sans Mono',consolas,'Courier New',monospace\"><span style=\"color: #800000; text-decoration-color: #800000\">urllib3.exceptions.MaxRetryError: HTTPSConnectionPool(host='iiif.library.cmu.edu', port=443): Max retries exceeded with url: /file/Simon_box00065_fld04954_bdl0001_doc0001/Simon_box00065_fld04954_bdl0001_doc0001.pdf (Caused by SSLError(SSLCertVerificationError(1, '[SSL: CERTIFICATE_VERIFY_FAILED] certificate verify failed: unable to get local issuer certificate (_ssl.c:997)')))\n",
              "\n",
              "During handling of the above exception, another exception occurred:\n",
              "\n",
              "Traceback (most recent call last):\n",
              "</span></pre>\n"
            ],
            "text/plain": [
              "\u001b[31murllib3.exceptions.MaxRetryError: HTTPSConnectionPool(host='iiif.library.cmu.edu', port=443): Max retries exceeded with url: /file/Simon_box00065_fld04954_bdl0001_doc0001/Simon_box00065_fld04954_bdl0001_doc0001.pdf (Caused by SSLError(SSLCertVerificationError(1, '[SSL: CERTIFICATE_VERIFY_FAILED] certificate verify failed: unable to get local issuer certificate (_ssl.c:997)')))\n",
              "\n",
              "During handling of the above exception, another exception occurred:\n",
              "\n",
              "Traceback (most recent call last):\n",
              "\u001b[0m"
            ]
          },
          "metadata": {},
          "output_type": "display_data"
        },
        {
          "data": {
            "text/html": [
              "<pre style=\"white-space:pre;overflow-x:auto;line-height:normal;font-family:Menlo,'DejaVu Sans Mono',consolas,'Courier New',monospace\"><span style=\"color: #800000; text-decoration-color: #800000\">  File \"/pkg/modal/_container_entrypoint.py\", line 351, in handle_input_exception\n",
              "    yield\n",
              "  File \"/pkg/modal/_container_entrypoint.py\", line 437, in run_inputs\n",
              "    res = imp_fun.fun(*args, **kwargs)\n",
              "  File \"/root/etl/pdfs.py\", line 82, in extract_pdf\n",
              "    loader = PyPDFLoader(pdf_url)\n",
              "  File \"/usr/local/lib/python3.10/site-packages/langchain/document_loaders/pdf.py\", line 150, in __init__\n",
              "    super().__init__(file_path)\n",
              "  File \"/usr/local/lib/python3.10/site-packages/langchain/document_loaders/pdf.py\", line 83, in __init__\n",
              "    r = requests.get(self.file_path)\n",
              "  File \"/usr/local/lib/python3.10/site-packages/requests/api.py\", line 73, in get\n",
              "    return request(\"get\", url, params=params, **kwargs)\n",
              "  File \"/usr/local/lib/python3.10/site-packages/requests/api.py\", line 59, in request\n",
              "    return session.request(method=method, url=url, **kwargs)\n",
              "</span></pre>\n"
            ],
            "text/plain": [
              "\u001b[31m  File \"/pkg/modal/_container_entrypoint.py\", line 351, in handle_input_exception\n",
              "    yield\n",
              "  File \"/pkg/modal/_container_entrypoint.py\", line 437, in run_inputs\n",
              "    res = imp_fun.fun(*args, **kwargs)\n",
              "  File \"/root/etl/pdfs.py\", line 82, in extract_pdf\n",
              "    loader = PyPDFLoader(pdf_url)\n",
              "  File \"/usr/local/lib/python3.10/site-packages/langchain/document_loaders/pdf.py\", line 150, in __init__\n",
              "    super().__init__(file_path)\n",
              "  File \"/usr/local/lib/python3.10/site-packages/langchain/document_loaders/pdf.py\", line 83, in __init__\n",
              "    r = requests.get(self.file_path)\n",
              "  File \"/usr/local/lib/python3.10/site-packages/requests/api.py\", line 73, in get\n",
              "    return request(\"get\", url, params=params, **kwargs)\n",
              "  File \"/usr/local/lib/python3.10/site-packages/requests/api.py\", line 59, in request\n",
              "    return session.request(method=method, url=url, **kwargs)\n",
              "\u001b[0m"
            ]
          },
          "metadata": {},
          "output_type": "display_data"
        },
        {
          "data": {
            "text/html": [
              "<pre style=\"white-space:pre;overflow-x:auto;line-height:normal;font-family:Menlo,'DejaVu Sans Mono',consolas,'Courier New',monospace\"><span style=\"color: #800000; text-decoration-color: #800000\">  File \"/usr/local/lib/python3.10/site-packages/requests/sessions.py\", line 589, in request\n",
              "    resp = self.send(prep, **send_kwargs)\n",
              "  File \"/usr/local/lib/python3.10/site-packages/requests/sessions.py\", line 703, in send\n",
              "    r = adapter.send(request, **kwargs)\n",
              "  File \"/usr/local/lib/python3.10/site-packages/requests/adapters.py\", line 517, in send\n",
              "    raise SSLError(e, request=request)\n",
              "</span></pre>\n"
            ],
            "text/plain": [
              "\u001b[31m  File \"/usr/local/lib/python3.10/site-packages/requests/sessions.py\", line 589, in request\n",
              "    resp = self.send(prep, **send_kwargs)\n",
              "  File \"/usr/local/lib/python3.10/site-packages/requests/sessions.py\", line 703, in send\n",
              "    r = adapter.send(request, **kwargs)\n",
              "  File \"/usr/local/lib/python3.10/site-packages/requests/adapters.py\", line 517, in send\n",
              "    raise SSLError(e, request=request)\n",
              "\u001b[0m"
            ]
          },
          "metadata": {},
          "output_type": "display_data"
        },
        {
          "data": {
            "text/html": [
              "<pre style=\"white-space:pre;overflow-x:auto;line-height:normal;font-family:Menlo,'DejaVu Sans Mono',consolas,'Courier New',monospace\"><span style=\"color: #800000; text-decoration-color: #800000\">requests.exceptions.SSLError: HTTPSConnectionPool(host='iiif.library.cmu.edu', port=443): Max retries exceeded with url: /file/Simon_box00065_fld04954_bdl0001_doc0001/Simon_box00065_fld04954_bdl0001_doc0001.pdf (Caused by SSLError(SSLCertVerificationError(1, '[SSL: CERTIFICATE_VERIFY_FAILED] certificate verify failed: unable to get local issuer certificate (_ssl.c:997)')))\n",
              "</span></pre>\n"
            ],
            "text/plain": [
              "\u001b[31mrequests.exceptions.SSLError: HTTPSConnectionPool(host='iiif.library.cmu.edu', port=443): Max retries exceeded with url: /file/Simon_box00065_fld04954_bdl0001_doc0001/Simon_box00065_fld04954_bdl0001_doc0001.pdf (Caused by SSLError(SSLCertVerificationError(1, '[SSL: CERTIFICATE_VERIFY_FAILED] certificate verify failed: unable to get local issuer certificate (_ssl.c:997)')))\n",
              "\u001b[0m"
            ]
          },
          "metadata": {},
          "output_type": "display_data"
        },
        {
          "data": {
            "text/html": [
              "<pre style=\"white-space:pre;overflow-x:auto;line-height:normal;font-family:Menlo,'DejaVu Sans Mono',consolas,'Courier New',monospace\"><span style=\"color: #800000; text-decoration-color: #800000\">Traceback (most recent call last):\n",
              "  File \"/usr/local/lib/python3.10/site-packages/urllib3/connectionpool.py\", line 467, in _make_request\n",
              "    self._validate_conn(conn)\n",
              "  File \"/usr/local/lib/python3.10/site-packages/urllib3/connectionpool.py\", line 1092, in _validate_conn\n",
              "    conn.connect()\n",
              "  File \"/usr/local/lib/python3.10/site-packages/urllib3/connection.py\", line 642, in connect\n",
              "    sock_and_verified = _ssl_wrap_socket_and_match_hostname(\n",
              "  File \"/usr/local/lib/python3.10/site-packages/urllib3/connection.py\", line 783, in _ssl_wrap_socket_and_match_hostname\n",
              "    ssl_sock = ssl_wrap_socket(\n",
              "  File \"/usr/local/lib/python3.10/site-packages/urllib3/util/ssl_.py\", line 469, in ssl_wrap_socket\n",
              "    ssl_sock = _ssl_wrap_socket_impl(sock, context, tls_in_tls, server_hostname)\n",
              "  File \"/usr/local/lib/python3.10/site-packages/urllib3/util/ssl_.py\", line 513, in _ssl_wrap_socket_impl\n",
              "    return ssl_context.wrap_socket(sock, server_hostname=server_hostname)\n",
              "  File \"/usr/local/lib/python3.10/ssl.py\", line 513, in wrap_socket\n",
              "    return self.sslsocket_class._create(\n",
              "  File \"/usr/local/lib/python3.10/ssl.py\", line 1071, in _create\n",
              "    self.do_handshake()\n",
              "  File \"/usr/local/lib/python3.10/ssl.py\", line 1342, in do_handshake\n",
              "    self._sslobj.do_handshake()\n",
              "ssl.SSLCertVerificationError: [SSL: CERTIFICATE_VERIFY_FAILED] certificate verify failed: unable to get local issuer certificate (_ssl.c:997)\n",
              "\n",
              "During handling of the above exception, another exception occurred:\n",
              "\n",
              "Traceback (most recent call last):\n",
              "  File \"/usr/local/lib/python3.10/site-packages/urllib3/connectionpool.py\", line 790, in urlopen\n",
              "    response = self._make_request(\n",
              "  File \"/usr/local/lib/python3.10/site-packages/urllib3/connectionpool.py\", line 491, in _make_request\n",
              "    raise new_e\n",
              "urllib3.exceptions.SSLError: [SSL: CERTIFICATE_VERIFY_FAILED] certificate verify failed: unable to get local issuer certificate (_ssl.c:997)\n",
              "\n",
              "The above exception was the direct cause of the following exception:\n",
              "\n",
              "</span></pre>\n"
            ],
            "text/plain": [
              "\u001b[31mTraceback (most recent call last):\n",
              "  File \"/usr/local/lib/python3.10/site-packages/urllib3/connectionpool.py\", line 467, in _make_request\n",
              "    self._validate_conn(conn)\n",
              "  File \"/usr/local/lib/python3.10/site-packages/urllib3/connectionpool.py\", line 1092, in _validate_conn\n",
              "    conn.connect()\n",
              "  File \"/usr/local/lib/python3.10/site-packages/urllib3/connection.py\", line 642, in connect\n",
              "    sock_and_verified = _ssl_wrap_socket_and_match_hostname(\n",
              "  File \"/usr/local/lib/python3.10/site-packages/urllib3/connection.py\", line 783, in _ssl_wrap_socket_and_match_hostname\n",
              "    ssl_sock = ssl_wrap_socket(\n",
              "  File \"/usr/local/lib/python3.10/site-packages/urllib3/util/ssl_.py\", line 469, in ssl_wrap_socket\n",
              "    ssl_sock = _ssl_wrap_socket_impl(sock, context, tls_in_tls, server_hostname)\n",
              "  File \"/usr/local/lib/python3.10/site-packages/urllib3/util/ssl_.py\", line 513, in _ssl_wrap_socket_impl\n",
              "    return ssl_context.wrap_socket(sock, server_hostname=server_hostname)\n",
              "  File \"/usr/local/lib/python3.10/ssl.py\", line 513, in wrap_socket\n",
              "    return self.sslsocket_class._create(\n",
              "  File \"/usr/local/lib/python3.10/ssl.py\", line 1071, in _create\n",
              "    self.do_handshake()\n",
              "  File \"/usr/local/lib/python3.10/ssl.py\", line 1342, in do_handshake\n",
              "    self._sslobj.do_handshake()\n",
              "ssl.SSLCertVerificationError: [SSL: CERTIFICATE_VERIFY_FAILED] certificate verify failed: unable to get local issuer certificate (_ssl.c:997)\n",
              "\n",
              "During handling of the above exception, another exception occurred:\n",
              "\n",
              "Traceback (most recent call last):\n",
              "  File \"/usr/local/lib/python3.10/site-packages/urllib3/connectionpool.py\", line 790, in urlopen\n",
              "    response = self._make_request(\n",
              "  File \"/usr/local/lib/python3.10/site-packages/urllib3/connectionpool.py\", line 491, in _make_request\n",
              "    raise new_e\n",
              "urllib3.exceptions.SSLError: [SSL: CERTIFICATE_VERIFY_FAILED] certificate verify failed: unable to get local issuer certificate (_ssl.c:997)\n",
              "\n",
              "The above exception was the direct cause of the following exception:\n",
              "\n",
              "\u001b[0m"
            ]
          },
          "metadata": {},
          "output_type": "display_data"
        },
        {
          "data": {
            "text/html": [
              "<pre style=\"white-space:pre;overflow-x:auto;line-height:normal;font-family:Menlo,'DejaVu Sans Mono',consolas,'Courier New',monospace\"><span style=\"color: #800000; text-decoration-color: #800000\">Traceback (most recent call last):\n",
              "  File \"/usr/local/lib/python3.10/site-packages/urllib3/connectionpool.py\", line 467, in _make_request\n",
              "    self._validate_conn(conn)\n",
              "  File \"/usr/local/lib/python3.10/site-packages/urllib3/connectionpool.py\", line 1092, in _validate_conn\n",
              "    conn.connect()\n",
              "  File \"/usr/local/lib/python3.10/site-packages/urllib3/connection.py\", line 642, in connect\n",
              "    sock_and_verified = _ssl_wrap_socket_and_match_hostname(\n",
              "  File \"/usr/local/lib/python3.10/site-packages/urllib3/connection.py\", line 783, in _ssl_wrap_socket_and_match_hostname\n",
              "    ssl_sock = ssl_wrap_socket(\n",
              "  File \"/usr/local/lib/python3.10/site-packages/urllib3/util/ssl_.py\", line 469, in ssl_wrap_socket\n",
              "    ssl_sock = _ssl_wrap_socket_impl(sock, context, tls_in_tls, server_hostname)\n",
              "  File \"/usr/local/lib/python3.10/site-packages/urllib3/util/ssl_.py\", line 513, in _ssl_wrap_socket_impl\n",
              "    return ssl_context.wrap_socket(sock, server_hostname=server_hostname)\n",
              "  File \"/usr/local/lib/python3.10/ssl.py\", line 513, in wrap_socket\n",
              "    return self.sslsocket_class._create(\n",
              "  File \"/usr/local/lib/python3.10/ssl.py\", line 1071, in _create\n",
              "    self.do_handshake()\n",
              "  File \"/usr/local/lib/python3.10/ssl.py\", line 1342, in do_handshake\n",
              "    self._sslobj.do_handshake()\n",
              "ssl.SSLCertVerificationError: [SSL: CERTIFICATE_VERIFY_FAILED] certificate verify failed: unable to get local issuer certificate (_ssl.c:997)\n",
              "\n",
              "During handling of the above exception, another exception occurred:\n",
              "\n",
              "Traceback (most recent call last):\n",
              "  File \"/usr/local/lib/python3.10/site-packages/urllib3/connectionpool.py\", line 790, in urlopen\n",
              "    response = self._make_request(\n",
              "  File \"/usr/local/lib/python3.10/site-packages/urllib3/connectionpool.py\", line 491, in _make_request\n",
              "    raise new_e\n",
              "urllib3.exceptions.SSLError: [SSL: CERTIFICATE_VERIFY_FAILED] certificate verify failed: unable to get local issuer certificate (_ssl.c:997)\n",
              "\n",
              "The above exception was the direct cause of the following exception:\n",
              "\n",
              "Traceback (most recent call last):\n",
              "</span></pre>\n"
            ],
            "text/plain": [
              "\u001b[31mTraceback (most recent call last):\n",
              "  File \"/usr/local/lib/python3.10/site-packages/urllib3/connectionpool.py\", line 467, in _make_request\n",
              "    self._validate_conn(conn)\n",
              "  File \"/usr/local/lib/python3.10/site-packages/urllib3/connectionpool.py\", line 1092, in _validate_conn\n",
              "    conn.connect()\n",
              "  File \"/usr/local/lib/python3.10/site-packages/urllib3/connection.py\", line 642, in connect\n",
              "    sock_and_verified = _ssl_wrap_socket_and_match_hostname(\n",
              "  File \"/usr/local/lib/python3.10/site-packages/urllib3/connection.py\", line 783, in _ssl_wrap_socket_and_match_hostname\n",
              "    ssl_sock = ssl_wrap_socket(\n",
              "  File \"/usr/local/lib/python3.10/site-packages/urllib3/util/ssl_.py\", line 469, in ssl_wrap_socket\n",
              "    ssl_sock = _ssl_wrap_socket_impl(sock, context, tls_in_tls, server_hostname)\n",
              "  File \"/usr/local/lib/python3.10/site-packages/urllib3/util/ssl_.py\", line 513, in _ssl_wrap_socket_impl\n",
              "    return ssl_context.wrap_socket(sock, server_hostname=server_hostname)\n",
              "  File \"/usr/local/lib/python3.10/ssl.py\", line 513, in wrap_socket\n",
              "    return self.sslsocket_class._create(\n",
              "  File \"/usr/local/lib/python3.10/ssl.py\", line 1071, in _create\n",
              "    self.do_handshake()\n",
              "  File \"/usr/local/lib/python3.10/ssl.py\", line 1342, in do_handshake\n",
              "    self._sslobj.do_handshake()\n",
              "ssl.SSLCertVerificationError: [SSL: CERTIFICATE_VERIFY_FAILED] certificate verify failed: unable to get local issuer certificate (_ssl.c:997)\n",
              "\n",
              "During handling of the above exception, another exception occurred:\n",
              "\n",
              "Traceback (most recent call last):\n",
              "  File \"/usr/local/lib/python3.10/site-packages/urllib3/connectionpool.py\", line 790, in urlopen\n",
              "    response = self._make_request(\n",
              "  File \"/usr/local/lib/python3.10/site-packages/urllib3/connectionpool.py\", line 491, in _make_request\n",
              "    raise new_e\n",
              "urllib3.exceptions.SSLError: [SSL: CERTIFICATE_VERIFY_FAILED] certificate verify failed: unable to get local issuer certificate (_ssl.c:997)\n",
              "\n",
              "The above exception was the direct cause of the following exception:\n",
              "\n",
              "Traceback (most recent call last):\n",
              "\u001b[0m"
            ]
          },
          "metadata": {},
          "output_type": "display_data"
        },
        {
          "data": {
            "text/html": [
              "<pre style=\"white-space:pre;overflow-x:auto;line-height:normal;font-family:Menlo,'DejaVu Sans Mono',consolas,'Courier New',monospace\"><span style=\"color: #800000; text-decoration-color: #800000\">  File \"/usr/local/lib/python3.10/site-packages/requests/adapters.py\", line 486, in send\n",
              "    resp = conn.urlopen(\n",
              "  File \"/usr/local/lib/python3.10/site-packages/urllib3/connectionpool.py\", line 844, in urlopen\n",
              "    retries = retries.increment(\n",
              "  File \"/usr/local/lib/python3.10/site-packages/urllib3/util/retry.py\", line 515, in increment\n",
              "    raise MaxRetryError(_pool, url, reason) from reason  # type: ignore[arg-type]\n",
              "urllib3.exceptions.MaxRetryError: HTTPSConnectionPool(host='iiif.library.cmu.edu', port=443): Max retries exceeded with url: /file/Simon_box00008_fld00585_bdl0001_doc0001/Simon_box00008_fld00585_bdl0001_doc0001.pdf (Caused by SSLError(SSLCertVerificationError(1, '[SSL: CERTIFICATE_VERIFY_FAILED] certificate verify failed: unable to get local issuer certificate (_ssl.c:997)')))\n",
              "\n",
              "During handling of the above exception, another exception occurred:\n",
              "\n",
              "Traceback (most recent call last):\n",
              "  File \"/pkg/modal/_container_entrypoint.py\", line 351, in handle_input_exception\n",
              "    yield\n",
              "  File \"/pkg/modal/_container_entrypoint.py\", line 437, in run_inputs\n",
              "    res = imp_fun.fun(*args, **kwargs)\n",
              "  File \"/root/etl/pdfs.py\", line 82, in extract_pdf\n",
              "    loader = PyPDFLoader(pdf_url)\n",
              "  File \"/usr/local/lib/python3.10/site-packages/langchain/document_loaders/pdf.py\", line 150, in __init__\n",
              "    super().__init__(file_path)\n",
              "  File \"/usr/local/lib/python3.10/site-packages/langchain/document_loaders/pdf.py\", line 83, in __init__\n",
              "    r = requests.get(self.file_path)\n",
              "  File \"/usr/local/lib/python3.10/site-packages/requests/api.py\", line 73, in get\n",
              "    return request(\"get\", url, params=params, **kwargs)\n",
              "  File \"/usr/local/lib/python3.10/site-packages/requests/api.py\", line 59, in request\n",
              "    return session.request(method=method, url=url, **kwargs)\n",
              "  File \"/usr/local/lib/python3.10/site-packages/requests/sessions.py\", line 589, in request\n",
              "    resp = self.send(prep, **send_kwargs)\n",
              "  File \"/usr/local/lib/python3.10/site-packages/requests/sessions.py\", line 703, in send\n",
              "    r = adapter.send(request, **kwargs)\n",
              "</span></pre>\n"
            ],
            "text/plain": [
              "\u001b[31m  File \"/usr/local/lib/python3.10/site-packages/requests/adapters.py\", line 486, in send\n",
              "    resp = conn.urlopen(\n",
              "  File \"/usr/local/lib/python3.10/site-packages/urllib3/connectionpool.py\", line 844, in urlopen\n",
              "    retries = retries.increment(\n",
              "  File \"/usr/local/lib/python3.10/site-packages/urllib3/util/retry.py\", line 515, in increment\n",
              "    raise MaxRetryError(_pool, url, reason) from reason  # type: ignore[arg-type]\n",
              "urllib3.exceptions.MaxRetryError: HTTPSConnectionPool(host='iiif.library.cmu.edu', port=443): Max retries exceeded with url: /file/Simon_box00008_fld00585_bdl0001_doc0001/Simon_box00008_fld00585_bdl0001_doc0001.pdf (Caused by SSLError(SSLCertVerificationError(1, '[SSL: CERTIFICATE_VERIFY_FAILED] certificate verify failed: unable to get local issuer certificate (_ssl.c:997)')))\n",
              "\n",
              "During handling of the above exception, another exception occurred:\n",
              "\n",
              "Traceback (most recent call last):\n",
              "  File \"/pkg/modal/_container_entrypoint.py\", line 351, in handle_input_exception\n",
              "    yield\n",
              "  File \"/pkg/modal/_container_entrypoint.py\", line 437, in run_inputs\n",
              "    res = imp_fun.fun(*args, **kwargs)\n",
              "  File \"/root/etl/pdfs.py\", line 82, in extract_pdf\n",
              "    loader = PyPDFLoader(pdf_url)\n",
              "  File \"/usr/local/lib/python3.10/site-packages/langchain/document_loaders/pdf.py\", line 150, in __init__\n",
              "    super().__init__(file_path)\n",
              "  File \"/usr/local/lib/python3.10/site-packages/langchain/document_loaders/pdf.py\", line 83, in __init__\n",
              "    r = requests.get(self.file_path)\n",
              "  File \"/usr/local/lib/python3.10/site-packages/requests/api.py\", line 73, in get\n",
              "    return request(\"get\", url, params=params, **kwargs)\n",
              "  File \"/usr/local/lib/python3.10/site-packages/requests/api.py\", line 59, in request\n",
              "    return session.request(method=method, url=url, **kwargs)\n",
              "  File \"/usr/local/lib/python3.10/site-packages/requests/sessions.py\", line 589, in request\n",
              "    resp = self.send(prep, **send_kwargs)\n",
              "  File \"/usr/local/lib/python3.10/site-packages/requests/sessions.py\", line 703, in send\n",
              "    r = adapter.send(request, **kwargs)\n",
              "\u001b[0m"
            ]
          },
          "metadata": {},
          "output_type": "display_data"
        },
        {
          "data": {
            "text/html": [
              "<pre style=\"white-space:pre;overflow-x:auto;line-height:normal;font-family:Menlo,'DejaVu Sans Mono',consolas,'Courier New',monospace\"><span style=\"color: #800000; text-decoration-color: #800000\">  File \"/usr/local/lib/pythTraceback (most recent call last):\n",
              "  File \"/usr/local/lib/python3.10/site-packages/requests/adapters.py\", line 486, in send\n",
              "    resp = conn.urlopen(\n",
              "  File \"/usr/local/lib/python3.10/site-packages/urllib3/connectionpool.py\", line 844, in urlopen\n",
              "    retries = retries.increment(\n",
              "  File \"/usr/local/lib/python3.10/site-packages/urllib3/util/retry.py\", line 515, in increment\n",
              "    raise MaxRetryError(_pool, url, reason) from reason  # type: ignore[arg-type]\n",
              "urllib3.exceptions.MaxRetryError: HTTPSConnectionPool(host='iiif.library.cmu.edu', port=443): Max retries exceeded with url: /file/Simon_box00065_fld04954_bdl0001_doc0001/Simon_box00065_fld04954_bdl0001_doc0001.pdf (Caused by SSLError(SSLCertVerificationError(1, '[SSL: CERTIFICATE_VERIFY_FAILED] certificate verify failed: unable to get local issuer certificate (_ssl.c:997)')))\n",
              "\n",
              "During handling of the above exception, another exception occurred:\n",
              "\n",
              "Traceback (most recent call last):\n",
              "  File \"/pkg/modal/_container_entrypoint.py\", line 351, in handle_input_exception\n",
              "    yield\n",
              "  File \"/pkg/modal/_container_entrypoint.py\", line 437, in run_inputs\n",
              "    res = imp_fun.fun(*args, **kwargs)\n",
              "  File \"/root/etl/pdfs.py\", line 82, in extract_pdf\n",
              "    loader = PyPDFLoader(pdf_url)\n",
              "  File \"/usr/local/lib/python3.10/site-packages/langchain/document_loaders/pdf.py\", line 150, in __init__\n",
              "    super().__init__(file_path)\n",
              "  File \"/usr/local/lib/python3.10/site-packages/langchain/document_loaders/pdf.py\", line 83, in __init__\n",
              "    r = requests.get(self.file_path)\n",
              "  File \"/usr/local/lib/python3.10/site-packages/requests/api.py\", line 73, in get\n",
              "    return request(\"get\", url, params=params, **kwargs)\n",
              "  File \"/usr/local/lib/python3.10/site-packages/requests/api.py\", line 59, in request\n",
              "    return session.request(method=method, url=url, **kwargs)\n",
              "  File \"/usr/local/lib/python3.10/site-packages/requests/sessions.py\", line 589, in request\n",
              "    resp = self.send(prep, **send_kwargs)\n",
              "  File \"/usr/local/lib/python3.10/site-packages/requests/sessions.py\", line 703, in send\n",
              "</span></pre>\n"
            ],
            "text/plain": [
              "\u001b[31m  File \"/usr/local/lib/pythTraceback (most recent call last):\n",
              "  File \"/usr/local/lib/python3.10/site-packages/requests/adapters.py\", line 486, in send\n",
              "    resp = conn.urlopen(\n",
              "  File \"/usr/local/lib/python3.10/site-packages/urllib3/connectionpool.py\", line 844, in urlopen\n",
              "    retries = retries.increment(\n",
              "  File \"/usr/local/lib/python3.10/site-packages/urllib3/util/retry.py\", line 515, in increment\n",
              "    raise MaxRetryError(_pool, url, reason) from reason  # type: ignore[arg-type]\n",
              "urllib3.exceptions.MaxRetryError: HTTPSConnectionPool(host='iiif.library.cmu.edu', port=443): Max retries exceeded with url: /file/Simon_box00065_fld04954_bdl0001_doc0001/Simon_box00065_fld04954_bdl0001_doc0001.pdf (Caused by SSLError(SSLCertVerificationError(1, '[SSL: CERTIFICATE_VERIFY_FAILED] certificate verify failed: unable to get local issuer certificate (_ssl.c:997)')))\n",
              "\n",
              "During handling of the above exception, another exception occurred:\n",
              "\n",
              "Traceback (most recent call last):\n",
              "  File \"/pkg/modal/_container_entrypoint.py\", line 351, in handle_input_exception\n",
              "    yield\n",
              "  File \"/pkg/modal/_container_entrypoint.py\", line 437, in run_inputs\n",
              "    res = imp_fun.fun(*args, **kwargs)\n",
              "  File \"/root/etl/pdfs.py\", line 82, in extract_pdf\n",
              "    loader = PyPDFLoader(pdf_url)\n",
              "  File \"/usr/local/lib/python3.10/site-packages/langchain/document_loaders/pdf.py\", line 150, in __init__\n",
              "    super().__init__(file_path)\n",
              "  File \"/usr/local/lib/python3.10/site-packages/langchain/document_loaders/pdf.py\", line 83, in __init__\n",
              "    r = requests.get(self.file_path)\n",
              "  File \"/usr/local/lib/python3.10/site-packages/requests/api.py\", line 73, in get\n",
              "    return request(\"get\", url, params=params, **kwargs)\n",
              "  File \"/usr/local/lib/python3.10/site-packages/requests/api.py\", line 59, in request\n",
              "    return session.request(method=method, url=url, **kwargs)\n",
              "  File \"/usr/local/lib/python3.10/site-packages/requests/sessions.py\", line 589, in request\n",
              "    resp = self.send(prep, **send_kwargs)\n",
              "  File \"/usr/local/lib/python3.10/site-packages/requests/sessions.py\", line 703, in send\n",
              "\u001b[0m"
            ]
          },
          "metadata": {},
          "output_type": "display_data"
        },
        {
          "data": {
            "text/html": [
              "<pre style=\"white-space:pre;overflow-x:auto;line-height:normal;font-family:Menlo,'DejaVu Sans Mono',consolas,'Courier New',monospace\"><span style=\"color: #800000; text-decoration-color: #800000\">    r = adapter.send(request, **kwargs)\n",
              "  File \"/usr/local/lib/python3.10/site-packages/requests/adapters.py\", line 517, in send\n",
              "    raise SSLError(e, request=request)\n",
              "requests.exceptions.SSLError: HTTPSConnectionPool(host='iiif.library.cmu.edu', port=443): Max retries exceeded with url: /file/Simon_box00065_fld04954_bdl0001_doc0001/Simon_box00065_fld04954_bdl0001_doc0001.pdf (Caused by SSLError(SSLCertVerificationError(1, '[SSL: CERTIFICATE_VERIFY_FAILED] certificate verify failed: unable to get local issuer certificate (_ssl.c:997)')))\n",
              "</span></pre>\n"
            ],
            "text/plain": [
              "\u001b[31m    r = adapter.send(request, **kwargs)\n",
              "  File \"/usr/local/lib/python3.10/site-packages/requests/adapters.py\", line 517, in send\n",
              "    raise SSLError(e, request=request)\n",
              "requests.exceptions.SSLError: HTTPSConnectionPool(host='iiif.library.cmu.edu', port=443): Max retries exceeded with url: /file/Simon_box00065_fld04954_bdl0001_doc0001/Simon_box00065_fld04954_bdl0001_doc0001.pdf (Caused by SSLError(SSLCertVerificationError(1, '[SSL: CERTIFICATE_VERIFY_FAILED] certificate verify failed: unable to get local issuer certificate (_ssl.c:997)')))\n",
              "\u001b[0m"
            ]
          },
          "metadata": {},
          "output_type": "display_data"
        },
        {
          "data": {
            "text/html": [
              "<pre style=\"white-space:pre;overflow-x:auto;line-height:normal;font-family:Menlo,'DejaVu Sans Mono',consolas,'Courier New',monospace\"><span style=\"color: #800000; text-decoration-color: #800000\">on3.10/site-packages/requests/adapters.py\", line 517, in send\n",
              "    raise SSLError(e, request=request)\n",
              "requests.exceptions.SSLError: HTTPSConnectionPool(host='iiif.library.cmu.edu', port=443): Max retries exceeded with url: /file/Simon_box00008_fld00585_bdl0001_doc0001/Simon_box00008_fld00585_bdl0001_doc0001.pdf (Caused by SSLError(SSLCertVerificationError(1, '[SSL: CERTIFICATE_VERIFY_FAILED] certificate verify failed: unable to get local issuer certificate (_ssl.c:997)')))\n",
              "</span></pre>\n"
            ],
            "text/plain": [
              "\u001b[31mon3.10/site-packages/requests/adapters.py\", line 517, in send\n",
              "    raise SSLError(e, request=request)\n",
              "requests.exceptions.SSLError: HTTPSConnectionPool(host='iiif.library.cmu.edu', port=443): Max retries exceeded with url: /file/Simon_box00008_fld00585_bdl0001_doc0001/Simon_box00008_fld00585_bdl0001_doc0001.pdf (Caused by SSLError(SSLCertVerificationError(1, '[SSL: CERTIFICATE_VERIFY_FAILED] certificate verify failed: unable to get local issuer certificate (_ssl.c:997)')))\n",
              "\u001b[0m"
            ]
          },
          "metadata": {},
          "output_type": "display_data"
        },
        {
          "data": {
            "text/html": [
              "<pre style=\"white-space:pre;overflow-x:auto;line-height:normal;font-family:Menlo,'DejaVu Sans Mono',consolas,'Courier New',monospace\"><span style=\"color: #800000; text-decoration-color: #800000\">Traceback (most recent call last):\n",
              "  File \"/usr/local/lib/python3.10/site-packages/urllib3/connectionpool.py\", line 467, in _make_request\n",
              "    self._validate_conn(conn)\n",
              "  File \"/usr/local/lib/python3.10/site-packages/urllib3/connectionpool.py\", line 1092, in _validate_conn\n",
              "    conn.connect()\n",
              "  File \"/usr/local/lib/python3.10/site-packages/urllib3/connection.py\", line 642, in connect\n",
              "    sock_and_verified = _ssl_wrap_socket_and_match_hostname(\n",
              "  File \"/usr/local/lib/python3.10/site-packages/urllib3/connection.py\", line 783, in _ssl_wrap_socket_and_match_hostname\n",
              "    ssl_sock = ssl_wrap_socket(\n",
              "  File \"/usr/local/lib/python3.10/site-packages/urllib3/util/ssl_.py\", line 469, in ssl_wrap_socket\n",
              "    ssl_sock = _ssl_wrap_socket_impl(sock, context, tls_in_tls, server_hostname)\n",
              "  File \"/usr/local/lib/python3.10/site-packages/urllib3/util/ssl_.py\", line 513, in _ssl_wrap_socket_impl\n",
              "    return ssl_context.wrap_socket(sock, server_hostname=server_hostname)\n",
              "  File \"/usr/local/lib/python3.10/ssl.py\", line 513, in wrap_socket\n",
              "    return self.sslsocket_class._create(\n",
              "  File \"/usr/local/lib/python3.10/ssl.py\", line 1071, in _create\n",
              "    self.do_handshake()\n",
              "  File \"/usr/local/lib/python3.10/ssl.py\", line 1342, in do_handshake\n",
              "    self._sslobj.do_handshake()\n",
              "ssl.SSLCertVerificationError: [SSL: CERTIFICATE_VERIFY_FAILED] certificate verify failed: unable to get local issuer certificate (_ssl.c:997)\n",
              "\n",
              "During handling of the above exception, another exception occurred:\n",
              "\n",
              "Traceback (most recent call last):\n",
              "  File \"/usr/local/lib/python3.10/site-packages/urllib3/connectionpool.py\", line 790, in urlopen\n",
              "    response = self._make_request(\n",
              "  File \"/usr/local/lib/python3.10/site-packages/urllib3/connectionpool.py\", line 491, in _make_request\n",
              "    raise new_e\n",
              "urllib3.exceptions.SSLError: [SSL: CERTIFICATE_VERIFY_FAILED] certificate verify failed: unable to get local issuer certificate (_ssl.c:997)\n",
              "\n",
              "The above exception was the direct cause of the following exception:\n",
              "\n",
              "</span></pre>\n"
            ],
            "text/plain": [
              "\u001b[31mTraceback (most recent call last):\n",
              "  File \"/usr/local/lib/python3.10/site-packages/urllib3/connectionpool.py\", line 467, in _make_request\n",
              "    self._validate_conn(conn)\n",
              "  File \"/usr/local/lib/python3.10/site-packages/urllib3/connectionpool.py\", line 1092, in _validate_conn\n",
              "    conn.connect()\n",
              "  File \"/usr/local/lib/python3.10/site-packages/urllib3/connection.py\", line 642, in connect\n",
              "    sock_and_verified = _ssl_wrap_socket_and_match_hostname(\n",
              "  File \"/usr/local/lib/python3.10/site-packages/urllib3/connection.py\", line 783, in _ssl_wrap_socket_and_match_hostname\n",
              "    ssl_sock = ssl_wrap_socket(\n",
              "  File \"/usr/local/lib/python3.10/site-packages/urllib3/util/ssl_.py\", line 469, in ssl_wrap_socket\n",
              "    ssl_sock = _ssl_wrap_socket_impl(sock, context, tls_in_tls, server_hostname)\n",
              "  File \"/usr/local/lib/python3.10/site-packages/urllib3/util/ssl_.py\", line 513, in _ssl_wrap_socket_impl\n",
              "    return ssl_context.wrap_socket(sock, server_hostname=server_hostname)\n",
              "  File \"/usr/local/lib/python3.10/ssl.py\", line 513, in wrap_socket\n",
              "    return self.sslsocket_class._create(\n",
              "  File \"/usr/local/lib/python3.10/ssl.py\", line 1071, in _create\n",
              "    self.do_handshake()\n",
              "  File \"/usr/local/lib/python3.10/ssl.py\", line 1342, in do_handshake\n",
              "    self._sslobj.do_handshake()\n",
              "ssl.SSLCertVerificationError: [SSL: CERTIFICATE_VERIFY_FAILED] certificate verify failed: unable to get local issuer certificate (_ssl.c:997)\n",
              "\n",
              "During handling of the above exception, another exception occurred:\n",
              "\n",
              "Traceback (most recent call last):\n",
              "  File \"/usr/local/lib/python3.10/site-packages/urllib3/connectionpool.py\", line 790, in urlopen\n",
              "    response = self._make_request(\n",
              "  File \"/usr/local/lib/python3.10/site-packages/urllib3/connectionpool.py\", line 491, in _make_request\n",
              "    raise new_e\n",
              "urllib3.exceptions.SSLError: [SSL: CERTIFICATE_VERIFY_FAILED] certificate verify failed: unable to get local issuer certificate (_ssl.c:997)\n",
              "\n",
              "The above exception was the direct cause of the following exception:\n",
              "\n",
              "\u001b[0m"
            ]
          },
          "metadata": {},
          "output_type": "display_data"
        },
        {
          "data": {
            "text/html": [
              "<pre style=\"white-space:pre;overflow-x:auto;line-height:normal;font-family:Menlo,'DejaVu Sans Mono',consolas,'Courier New',monospace\"><span style=\"color: #800000; text-decoration-color: #800000\">Traceback (most recent call last):\n",
              "  File \"/usr/local/lib/python3.10/site-packages/requests/adapters.py\", line 486, in send\n",
              "    resp = conn.urlopen(\n",
              "  File \"/usr/local/lib/python3.10/site-packages/urllib3/connectionpool.py\", line 844, in urlopen\n",
              "    retries = retries.increment(\n",
              "  File \"/usr/local/lib/python3.10/site-packages/urllib3/util/retry.py\", line 515, in increment\n",
              "    raise MaxRetryError(_pool, url, reason) from reason  # type: ignore[arg-type]\n",
              "urllib3.exceptions.MaxRetryError: HTTPSConnectionPool(host='iiif.library.cmu.edu', port=443): Max retries exceeded with url: /file/Simon_box00065_fld04954_bdl0001_doc0001/Simon_box00065_fld04954_bdl0001_doc0001.pdf (Caused by SSLError(SSLCertVerificationError(1, '[SSL: CERTIFICATE_VERIFY_FAILED] certificate verify failed: unable to get local issuer certificate (_ssl.c:997)')))\n",
              "\n",
              "During handling of the above exception, another exception occurred:\n",
              "\n",
              "Traceback (most recent call last):\n",
              "</span></pre>\n"
            ],
            "text/plain": [
              "\u001b[31mTraceback (most recent call last):\n",
              "  File \"/usr/local/lib/python3.10/site-packages/requests/adapters.py\", line 486, in send\n",
              "    resp = conn.urlopen(\n",
              "  File \"/usr/local/lib/python3.10/site-packages/urllib3/connectionpool.py\", line 844, in urlopen\n",
              "    retries = retries.increment(\n",
              "  File \"/usr/local/lib/python3.10/site-packages/urllib3/util/retry.py\", line 515, in increment\n",
              "    raise MaxRetryError(_pool, url, reason) from reason  # type: ignore[arg-type]\n",
              "urllib3.exceptions.MaxRetryError: HTTPSConnectionPool(host='iiif.library.cmu.edu', port=443): Max retries exceeded with url: /file/Simon_box00065_fld04954_bdl0001_doc0001/Simon_box00065_fld04954_bdl0001_doc0001.pdf (Caused by SSLError(SSLCertVerificationError(1, '[SSL: CERTIFICATE_VERIFY_FAILED] certificate verify failed: unable to get local issuer certificate (_ssl.c:997)')))\n",
              "\n",
              "During handling of the above exception, another exception occurred:\n",
              "\n",
              "Traceback (most recent call last):\n",
              "\u001b[0m"
            ]
          },
          "metadata": {},
          "output_type": "display_data"
        },
        {
          "data": {
            "text/html": [
              "<pre style=\"white-space:pre;overflow-x:auto;line-height:normal;font-family:Menlo,'DejaVu Sans Mono',consolas,'Courier New',monospace\"><span style=\"color: #800000; text-decoration-color: #800000\">  File \"/pkg/modal/_container_entrypoint.py\", line 351, in handle_input_exception\n",
              "    yield\n",
              "  File \"/pkg/modal/_container_entrypoint.py\", line 437, in run_inputs\n",
              "    res = imp_fun.fun(*args, **kwargs)\n",
              "</span></pre>\n"
            ],
            "text/plain": [
              "\u001b[31m  File \"/pkg/modal/_container_entrypoint.py\", line 351, in handle_input_exception\n",
              "    yield\n",
              "  File \"/pkg/modal/_container_entrypoint.py\", line 437, in run_inputs\n",
              "    res = imp_fun.fun(*args, **kwargs)\n",
              "\u001b[0m"
            ]
          },
          "metadata": {},
          "output_type": "display_data"
        },
        {
          "data": {
            "text/html": [
              "<pre style=\"white-space:pre;overflow-x:auto;line-height:normal;font-family:Menlo,'DejaVu Sans Mono',consolas,'Courier New',monospace\"><span style=\"color: #800000; text-decoration-color: #800000\">  File \"/root/etl/pdfs.py\", line 82, in extract_pdf\n",
              "    loader = PyPDFLoader(pdf_url)\n",
              "  File \"/usr/local/lib/python3.10/site-packages/langchain/document_loaders/pdf.py\", line 150, in __init__\n",
              "    super().__init__(file_path)\n",
              "</span></pre>\n"
            ],
            "text/plain": [
              "\u001b[31m  File \"/root/etl/pdfs.py\", line 82, in extract_pdf\n",
              "    loader = PyPDFLoader(pdf_url)\n",
              "  File \"/usr/local/lib/python3.10/site-packages/langchain/document_loaders/pdf.py\", line 150, in __init__\n",
              "    super().__init__(file_path)\n",
              "\u001b[0m"
            ]
          },
          "metadata": {},
          "output_type": "display_data"
        },
        {
          "data": {
            "text/html": [
              "<pre style=\"white-space:pre;overflow-x:auto;line-height:normal;font-family:Menlo,'DejaVu Sans Mono',consolas,'Courier New',monospace\"><span style=\"color: #800000; text-decoration-color: #800000\">  File \"/usr/local/lib/python3.10/site-packages/langchain/document_loaders/pdf.py\", line 83, in __init__\n",
              "    r = requests.get(self.file_path)\n",
              "  File \"/usr/local/lib/python3.10/site-packages/requests/api.py\", line 73, in get\n",
              "    return request(\"get\", url, params=params, **kwargs)\n",
              "  File \"/usr/local/lib/python3.10/site-packages/requests/api.py\", line 59, in request\n",
              "    return session.request(method=method, url=url, **kwargs)\n",
              "</span></pre>\n"
            ],
            "text/plain": [
              "\u001b[31m  File \"/usr/local/lib/python3.10/site-packages/langchain/document_loaders/pdf.py\", line 83, in __init__\n",
              "    r = requests.get(self.file_path)\n",
              "  File \"/usr/local/lib/python3.10/site-packages/requests/api.py\", line 73, in get\n",
              "    return request(\"get\", url, params=params, **kwargs)\n",
              "  File \"/usr/local/lib/python3.10/site-packages/requests/api.py\", line 59, in request\n",
              "    return session.request(method=method, url=url, **kwargs)\n",
              "\u001b[0m"
            ]
          },
          "metadata": {},
          "output_type": "display_data"
        },
        {
          "data": {
            "text/html": [
              "<pre style=\"white-space:pre;overflow-x:auto;line-height:normal;font-family:Menlo,'DejaVu Sans Mono',consolas,'Courier New',monospace\"><span style=\"color: #800000; text-decoration-color: #800000\">  File \"/usr/local/lib/python3.10/site-packages/requests/sessions.py\", line 589, in request\n",
              "    resp = self.send(prep, **send_kwargs)\n",
              "  File \"/usr/local/lib/python3.10/site-packages/requests/sessions.py\", line 703, in send\n",
              "    r = adapter.send(request, **kwargs)\n",
              "  File \"/usr/local/lib/python3.10/site-packages/requests/adapters.py\", line 517, in send\n",
              "    raise SSLError(e, request=request)\n",
              "</span></pre>\n"
            ],
            "text/plain": [
              "\u001b[31m  File \"/usr/local/lib/python3.10/site-packages/requests/sessions.py\", line 589, in request\n",
              "    resp = self.send(prep, **send_kwargs)\n",
              "  File \"/usr/local/lib/python3.10/site-packages/requests/sessions.py\", line 703, in send\n",
              "    r = adapter.send(request, **kwargs)\n",
              "  File \"/usr/local/lib/python3.10/site-packages/requests/adapters.py\", line 517, in send\n",
              "    raise SSLError(e, request=request)\n",
              "\u001b[0m"
            ]
          },
          "metadata": {},
          "output_type": "display_data"
        },
        {
          "data": {
            "text/html": [
              "<pre style=\"white-space:pre;overflow-x:auto;line-height:normal;font-family:Menlo,'DejaVu Sans Mono',consolas,'Courier New',monospace\"><span style=\"color: #800000; text-decoration-color: #800000\">requests.exceptions.SSLError: HTTPSConnectionPool(host='iiif.library.cmu.edu', port=443): Max retries exceeded with url: /file/Simon_box00065_fld04954_bdl0001_doc0001/Simon_box00065_fld04954_bdl0001_doc0001.pdf (Caused by SSLError(SSLCertVerificationError(1, '[SSL: CERTIFICATE_VERIFY_FAILED] certificate verify failed: unable to get local issuer certificate (_ssl.c:997)')))\n",
              "</span></pre>\n"
            ],
            "text/plain": [
              "\u001b[31mrequests.exceptions.SSLError: HTTPSConnectionPool(host='iiif.library.cmu.edu', port=443): Max retries exceeded with url: /file/Simon_box00065_fld04954_bdl0001_doc0001/Simon_box00065_fld04954_bdl0001_doc0001.pdf (Caused by SSLError(SSLCertVerificationError(1, '[SSL: CERTIFICATE_VERIFY_FAILED] certificate verify failed: unable to get local issuer certificate (_ssl.c:997)')))\n",
              "\u001b[0m"
            ]
          },
          "metadata": {},
          "output_type": "display_data"
        },
        {
          "data": {
            "text/html": [
              "<pre style=\"white-space:pre;overflow-x:auto;line-height:normal;font-family:Menlo,'DejaVu Sans Mono',consolas,'Courier New',monospace\"><span style=\"color: #800000; text-decoration-color: #800000\">Traceback (most recent call last):\n",
              "  File \"/usr/local/lib/python3.10/site-packages/urllib3/connectionpool.py\", line 467, in _make_request\n",
              "    self._validate_conn(conn)\n",
              "  File \"/usr/local/lib/python3.10/site-packages/urllib3/connectionpool.py\", line 1092, in _validate_conn\n",
              "    conn.connect()\n",
              "  File \"/usr/local/lib/python3.10/site-packages/urllib3/connection.py\", line 642, in connect\n",
              "    sock_and_verified = _ssl_wrap_socket_and_match_hostname(\n",
              "  File \"/usr/local/lib/python3.10/site-packages/urllib3/connection.py\", line 783, in _ssl_wrap_socket_and_match_hostname\n",
              "    ssl_sock = ssl_wrap_socket(\n",
              "  File \"/usr/local/lib/python3.10/site-packages/urllib3/util/ssl_.py\", line 469, in ssl_wrap_socket\n",
              "    ssl_sock = _ssl_wrap_socket_impl(sock, context, tls_in_tls, server_hostname)\n",
              "  File \"/usr/local/lib/python3.10/site-packages/urllib3/util/ssl_.py\", line 513, in _ssl_wrap_socket_impl\n",
              "    return ssl_context.wrap_socket(sock, server_hostname=server_hostname)\n",
              "  File \"/usr/local/lib/python3.10/ssl.py\", line 513, in wrap_socket\n",
              "    return self.sslsocket_class._create(\n",
              "  File \"/usr/local/lib/python3.10/ssl.py\", line 1071, in _create\n",
              "    self.do_handshake()\n",
              "  File \"/usr/local/lib/python3.10/ssl.py\", line 1342, in do_handshake\n",
              "    self._sslobj.do_handshake()\n",
              "ssl.SSLCertVerificationError: [SSL: CERTIFICATE_VERIFY_FAILED] certificate verify failed: unable to get local issuer certificate (_ssl.c:997)\n",
              "\n",
              "During handling of the above exception, another exception occurred:\n",
              "\n",
              "Traceback (most recent call last):\n",
              "  File \"/usr/local/lib/python3.10/site-packages/urllib3/connectionpool.py\", line 790, in urlopen\n",
              "    response = self._make_request(\n",
              "  File \"/usr/local/lib/python3.10/site-packages/urllib3/connectionpool.py\", line 491, in _make_request\n",
              "    raise new_e\n",
              "urllib3.exceptions.SSLError: [SSL: CERTIFICATE_VERIFY_FAILED] certificate verify failed: unable to get local issuer certificate (_ssl.c:997)\n",
              "\n",
              "The above exception was the direct cause of the following exception:\n",
              "\n",
              "</span></pre>\n"
            ],
            "text/plain": [
              "\u001b[31mTraceback (most recent call last):\n",
              "  File \"/usr/local/lib/python3.10/site-packages/urllib3/connectionpool.py\", line 467, in _make_request\n",
              "    self._validate_conn(conn)\n",
              "  File \"/usr/local/lib/python3.10/site-packages/urllib3/connectionpool.py\", line 1092, in _validate_conn\n",
              "    conn.connect()\n",
              "  File \"/usr/local/lib/python3.10/site-packages/urllib3/connection.py\", line 642, in connect\n",
              "    sock_and_verified = _ssl_wrap_socket_and_match_hostname(\n",
              "  File \"/usr/local/lib/python3.10/site-packages/urllib3/connection.py\", line 783, in _ssl_wrap_socket_and_match_hostname\n",
              "    ssl_sock = ssl_wrap_socket(\n",
              "  File \"/usr/local/lib/python3.10/site-packages/urllib3/util/ssl_.py\", line 469, in ssl_wrap_socket\n",
              "    ssl_sock = _ssl_wrap_socket_impl(sock, context, tls_in_tls, server_hostname)\n",
              "  File \"/usr/local/lib/python3.10/site-packages/urllib3/util/ssl_.py\", line 513, in _ssl_wrap_socket_impl\n",
              "    return ssl_context.wrap_socket(sock, server_hostname=server_hostname)\n",
              "  File \"/usr/local/lib/python3.10/ssl.py\", line 513, in wrap_socket\n",
              "    return self.sslsocket_class._create(\n",
              "  File \"/usr/local/lib/python3.10/ssl.py\", line 1071, in _create\n",
              "    self.do_handshake()\n",
              "  File \"/usr/local/lib/python3.10/ssl.py\", line 1342, in do_handshake\n",
              "    self._sslobj.do_handshake()\n",
              "ssl.SSLCertVerificationError: [SSL: CERTIFICATE_VERIFY_FAILED] certificate verify failed: unable to get local issuer certificate (_ssl.c:997)\n",
              "\n",
              "During handling of the above exception, another exception occurred:\n",
              "\n",
              "Traceback (most recent call last):\n",
              "  File \"/usr/local/lib/python3.10/site-packages/urllib3/connectionpool.py\", line 790, in urlopen\n",
              "    response = self._make_request(\n",
              "  File \"/usr/local/lib/python3.10/site-packages/urllib3/connectionpool.py\", line 491, in _make_request\n",
              "    raise new_e\n",
              "urllib3.exceptions.SSLError: [SSL: CERTIFICATE_VERIFY_FAILED] certificate verify failed: unable to get local issuer certificate (_ssl.c:997)\n",
              "\n",
              "The above exception was the direct cause of the following exception:\n",
              "\n",
              "\u001b[0m"
            ]
          },
          "metadata": {},
          "output_type": "display_data"
        },
        {
          "data": {
            "text/html": [
              "<pre style=\"white-space:pre;overflow-x:auto;line-height:normal;font-family:Menlo,'DejaVu Sans Mono',consolas,'Courier New',monospace\"><span style=\"color: #800000; text-decoration-color: #800000\">Traceback (most recent call last):\n",
              "  File \"/usr/local/lib/python3.10/site-packages/requests/adapters.py\", line 486, in send\n",
              "    resp = conn.urlopen(\n",
              "  File \"/usr/local/lib/python3.10/site-packages/urllib3/connectionpool.py\", line 844, in urlopen\n",
              "    retries = retries.increment(\n",
              "  File \"/usr/local/lib/python3.10/site-packages/urllib3/util/retry.py\", line 515, in increment\n",
              "    raise MaxRetryError(_pool, url, reason) from reason  # type: ignore[arg-type]\n",
              "urllib3.exceptions.MaxRetryError: HTTPSConnectionPool(host='iiif.library.cmu.edu', port=443): Max retries exceeded with url: /file/Simon_box00008_fld00585_bdl0001_doc0001/Simon_box00008_fld00585_bdl0001_doc0001.pdf (Caused by SSLError(SSLCertVerificationError(1, '[SSL: CERTIFICATE_VERIFY_FAILED] certificate verify failed: unable to get local issuer certificate (_ssl.c:997)')))\n",
              "\n",
              "During handling of the above exception, another exception occurred:\n",
              "\n",
              "Traceback (most recent call last):\n",
              "</span></pre>\n"
            ],
            "text/plain": [
              "\u001b[31mTraceback (most recent call last):\n",
              "  File \"/usr/local/lib/python3.10/site-packages/requests/adapters.py\", line 486, in send\n",
              "    resp = conn.urlopen(\n",
              "  File \"/usr/local/lib/python3.10/site-packages/urllib3/connectionpool.py\", line 844, in urlopen\n",
              "    retries = retries.increment(\n",
              "  File \"/usr/local/lib/python3.10/site-packages/urllib3/util/retry.py\", line 515, in increment\n",
              "    raise MaxRetryError(_pool, url, reason) from reason  # type: ignore[arg-type]\n",
              "urllib3.exceptions.MaxRetryError: HTTPSConnectionPool(host='iiif.library.cmu.edu', port=443): Max retries exceeded with url: /file/Simon_box00008_fld00585_bdl0001_doc0001/Simon_box00008_fld00585_bdl0001_doc0001.pdf (Caused by SSLError(SSLCertVerificationError(1, '[SSL: CERTIFICATE_VERIFY_FAILED] certificate verify failed: unable to get local issuer certificate (_ssl.c:997)')))\n",
              "\n",
              "During handling of the above exception, another exception occurred:\n",
              "\n",
              "Traceback (most recent call last):\n",
              "\u001b[0m"
            ]
          },
          "metadata": {},
          "output_type": "display_data"
        },
        {
          "data": {
            "text/html": [
              "<pre style=\"white-space:pre;overflow-x:auto;line-height:normal;font-family:Menlo,'DejaVu Sans Mono',consolas,'Courier New',monospace\"><span style=\"color: #800000; text-decoration-color: #800000\">  File \"/pkg/modal/_container_entrypoint.py\", line 351, in handle_input_exception\n",
              "    yield\n",
              "  File \"/pkg/modal/_container_entrypoint.py\", line 437, in run_inputs\n",
              "    res = imp_fun.fun(*args, **kwargs)\n",
              "  File \"/root/etl/pdfs.py\", line 82, in extract_pdf\n",
              "    loader = PyPDFLoader(pdf_url)\n",
              "  File \"/usr/local/lib/python3.10/site-packages/langchain/document_loaders/pdf.py\", line 150, in __init__\n",
              "    super().__init__(file_path)\n",
              "</span></pre>\n"
            ],
            "text/plain": [
              "\u001b[31m  File \"/pkg/modal/_container_entrypoint.py\", line 351, in handle_input_exception\n",
              "    yield\n",
              "  File \"/pkg/modal/_container_entrypoint.py\", line 437, in run_inputs\n",
              "    res = imp_fun.fun(*args, **kwargs)\n",
              "  File \"/root/etl/pdfs.py\", line 82, in extract_pdf\n",
              "    loader = PyPDFLoader(pdf_url)\n",
              "  File \"/usr/local/lib/python3.10/site-packages/langchain/document_loaders/pdf.py\", line 150, in __init__\n",
              "    super().__init__(file_path)\n",
              "\u001b[0m"
            ]
          },
          "metadata": {},
          "output_type": "display_data"
        },
        {
          "data": {
            "text/html": [
              "<pre style=\"white-space:pre;overflow-x:auto;line-height:normal;font-family:Menlo,'DejaVu Sans Mono',consolas,'Courier New',monospace\"><span style=\"color: #800000; text-decoration-color: #800000\">  File \"/usr/local/lib/python3.10/site-packages/langchain/document_loaders/pdf.py\", line 83, in __init__\n",
              "    r = requests.get(self.file_path)\n",
              "  File \"/usr/local/lib/python3.10/site-packages/requests/api.py\", line 73, in get\n",
              "    return request(\"get\", url, params=params, **kwargs)\n",
              "</span></pre>\n"
            ],
            "text/plain": [
              "\u001b[31m  File \"/usr/local/lib/python3.10/site-packages/langchain/document_loaders/pdf.py\", line 83, in __init__\n",
              "    r = requests.get(self.file_path)\n",
              "  File \"/usr/local/lib/python3.10/site-packages/requests/api.py\", line 73, in get\n",
              "    return request(\"get\", url, params=params, **kwargs)\n",
              "\u001b[0m"
            ]
          },
          "metadata": {},
          "output_type": "display_data"
        },
        {
          "data": {
            "text/html": [
              "<pre style=\"white-space:pre;overflow-x:auto;line-height:normal;font-family:Menlo,'DejaVu Sans Mono',consolas,'Courier New',monospace\"><span style=\"color: #800000; text-decoration-color: #800000\">  File \"/usr/local/lib/python3.10/site-packages/requests/api.py\", line 59, in request\n",
              "    return session.request(method=method, url=url, **kwargs)\n",
              "  File \"/usr/local/lib/python3.10/site-packages/requests/sessions.py\", line 589, in request\n",
              "    resp = self.send(prep, **send_kwargs)\n",
              "</span></pre>\n"
            ],
            "text/plain": [
              "\u001b[31m  File \"/usr/local/lib/python3.10/site-packages/requests/api.py\", line 59, in request\n",
              "    return session.request(method=method, url=url, **kwargs)\n",
              "  File \"/usr/local/lib/python3.10/site-packages/requests/sessions.py\", line 589, in request\n",
              "    resp = self.send(prep, **send_kwargs)\n",
              "\u001b[0m"
            ]
          },
          "metadata": {},
          "output_type": "display_data"
        },
        {
          "data": {
            "text/html": [
              "<pre style=\"white-space:pre;overflow-x:auto;line-height:normal;font-family:Menlo,'DejaVu Sans Mono',consolas,'Courier New',monospace\"><span style=\"color: #800000; text-decoration-color: #800000\">  File \"/usr/local/lib/python3.10/site-packages/requests/sessions.py\", line 703, in send\n",
              "    r = adapter.send(request, **kwargs)\n",
              "  File \"/usr/local/lib/python3.10/site-packages/requests/adapters.py\", line 517, in send\n",
              "    raise SSLError(e, request=request)\n",
              "</span></pre>\n"
            ],
            "text/plain": [
              "\u001b[31m  File \"/usr/local/lib/python3.10/site-packages/requests/sessions.py\", line 703, in send\n",
              "    r = adapter.send(request, **kwargs)\n",
              "  File \"/usr/local/lib/python3.10/site-packages/requests/adapters.py\", line 517, in send\n",
              "    raise SSLError(e, request=request)\n",
              "\u001b[0m"
            ]
          },
          "metadata": {},
          "output_type": "display_data"
        },
        {
          "data": {
            "text/html": [
              "<pre style=\"white-space:pre;overflow-x:auto;line-height:normal;font-family:Menlo,'DejaVu Sans Mono',consolas,'Courier New',monospace\"><span style=\"color: #800000; text-decoration-color: #800000\">requests.exceptions.SSLError: HTTPSConnectionPool(host='iiif.library.cmu.edu', port=443): Max retries exceeded with url: /file/Simon_box00008_fld00585_bdl0001_doc0001/Simon_box00008_fld00585_bdl0001_doc0001.pdf (Caused by SSLError(SSLCertVerificationError(1, '[SSL: CERTIFICATE_VERIFY_FAILED] certificate verify failed: unable to get local issuer certificate (_ssl.c:997)')))\n",
              "</span></pre>\n"
            ],
            "text/plain": [
              "\u001b[31mrequests.exceptions.SSLError: HTTPSConnectionPool(host='iiif.library.cmu.edu', port=443): Max retries exceeded with url: /file/Simon_box00008_fld00585_bdl0001_doc0001/Simon_box00008_fld00585_bdl0001_doc0001.pdf (Caused by SSLError(SSLCertVerificationError(1, '[SSL: CERTIFICATE_VERIFY_FAILED] certificate verify failed: unable to get local issuer certificate (_ssl.c:997)')))\n",
              "\u001b[0m"
            ]
          },
          "metadata": {},
          "output_type": "display_data"
        },
        {
          "data": {
            "text/html": [
              "<pre style=\"white-space:pre;overflow-x:auto;line-height:normal;font-family:Menlo,'DejaVu Sans Mono',consolas,'Courier New',monospace\"><span style=\"color: #800000; text-decoration-color: #800000\">Traceback (most recent call last):\n",
              "  File \"/usr/local/lib/python3.10/site-packages/urllib3/connectionpool.py\", line 467, in _make_request\n",
              "    self._validate_conn(conn)\n",
              "  File \"/usr/local/lib/python3.10/site-packages/urllib3/connectionpool.py\", line 1092, in _validate_conn\n",
              "    conn.connect()\n",
              "  File \"/usr/local/lib/python3.10/site-packages/urllib3/connection.py\", line 642, in connect\n",
              "    sock_and_verified = _ssl_wrap_socket_and_match_hostname(\n",
              "  File \"/usr/local/lib/python3.10/site-packages/urllib3/connection.py\", line 783, in _ssl_wrap_socket_and_match_hostname\n",
              "    ssl_sock = ssl_wrap_socket(\n",
              "  File \"/usr/local/lib/python3.10/site-packages/urllib3/util/ssl_.py\", line 469, in ssl_wrap_socket\n",
              "    ssl_sock = _ssl_wrap_socket_impl(sock, context, tls_in_tls, server_hostname)\n",
              "  File \"/usr/local/lib/python3.10/site-packages/urllib3/util/ssl_.py\", line 513, in _ssl_wrap_socket_impl\n",
              "    return ssl_context.wrap_socket(sock, server_hostname=server_hostname)\n",
              "  File \"/usr/local/lib/python3.10/ssl.py\", line 513, in wrap_socket\n",
              "    return self.sslsocket_class._create(\n",
              "  File \"/usr/local/lib/python3.10/ssl.py\", line 1071, in _create\n",
              "    self.do_handshake()\n",
              "  File \"/usr/local/lib/python3.10/ssl.py\", line 1342, in do_handshake\n",
              "    self._sslobj.do_handshake()\n",
              "</span></pre>\n"
            ],
            "text/plain": [
              "\u001b[31mTraceback (most recent call last):\n",
              "  File \"/usr/local/lib/python3.10/site-packages/urllib3/connectionpool.py\", line 467, in _make_request\n",
              "    self._validate_conn(conn)\n",
              "  File \"/usr/local/lib/python3.10/site-packages/urllib3/connectionpool.py\", line 1092, in _validate_conn\n",
              "    conn.connect()\n",
              "  File \"/usr/local/lib/python3.10/site-packages/urllib3/connection.py\", line 642, in connect\n",
              "    sock_and_verified = _ssl_wrap_socket_and_match_hostname(\n",
              "  File \"/usr/local/lib/python3.10/site-packages/urllib3/connection.py\", line 783, in _ssl_wrap_socket_and_match_hostname\n",
              "    ssl_sock = ssl_wrap_socket(\n",
              "  File \"/usr/local/lib/python3.10/site-packages/urllib3/util/ssl_.py\", line 469, in ssl_wrap_socket\n",
              "    ssl_sock = _ssl_wrap_socket_impl(sock, context, tls_in_tls, server_hostname)\n",
              "  File \"/usr/local/lib/python3.10/site-packages/urllib3/util/ssl_.py\", line 513, in _ssl_wrap_socket_impl\n",
              "    return ssl_context.wrap_socket(sock, server_hostname=server_hostname)\n",
              "  File \"/usr/local/lib/python3.10/ssl.py\", line 513, in wrap_socket\n",
              "    return self.sslsocket_class._create(\n",
              "  File \"/usr/local/lib/python3.10/ssl.py\", line 1071, in _create\n",
              "    self.do_handshake()\n",
              "  File \"/usr/local/lib/python3.10/ssl.py\", line 1342, in do_handshake\n",
              "    self._sslobj.do_handshake()\n",
              "\u001b[0m"
            ]
          },
          "metadata": {},
          "output_type": "display_data"
        },
        {
          "data": {
            "text/html": [
              "<pre style=\"white-space:pre;overflow-x:auto;line-height:normal;font-family:Menlo,'DejaVu Sans Mono',consolas,'Courier New',monospace\"><span style=\"color: #800000; text-decoration-color: #800000\">ssl.SSLCertVerificationError: [SSL: CERTIFICATE_VERIFY_FAILED] certificate verify failed: unable to get local issuer certificate (_ssl.c:997)\n",
              "\n",
              "During handling of the above exception, another exception occurred:\n",
              "\n",
              "Traceback (most recent call last):\n",
              "  File \"/usr/local/lib/python3.10/site-packages/urllib3/connectionpool.py\", line 790, in urlopen\n",
              "    response = self._make_request(\n",
              "  File \"/usr/local/lib/python3.10/site-packages/urllib3/connectionpool.py\", line 491, in _make_request\n",
              "    raise new_e\n",
              "urllib3.exceptions.SSLError: [SSL: CERTIFICATE_VERIFY_FAILED] certificate verify failed: unable to get local issuer certificate (_ssl.c:997)\n",
              "\n",
              "The above exception was the direct cause of the following exception:\n",
              "\n",
              "Traceback (most recent call last):\n",
              "</span></pre>\n"
            ],
            "text/plain": [
              "\u001b[31mssl.SSLCertVerificationError: [SSL: CERTIFICATE_VERIFY_FAILED] certificate verify failed: unable to get local issuer certificate (_ssl.c:997)\n",
              "\n",
              "During handling of the above exception, another exception occurred:\n",
              "\n",
              "Traceback (most recent call last):\n",
              "  File \"/usr/local/lib/python3.10/site-packages/urllib3/connectionpool.py\", line 790, in urlopen\n",
              "    response = self._make_request(\n",
              "  File \"/usr/local/lib/python3.10/site-packages/urllib3/connectionpool.py\", line 491, in _make_request\n",
              "    raise new_e\n",
              "urllib3.exceptions.SSLError: [SSL: CERTIFICATE_VERIFY_FAILED] certificate verify failed: unable to get local issuer certificate (_ssl.c:997)\n",
              "\n",
              "The above exception was the direct cause of the following exception:\n",
              "\n",
              "Traceback (most recent call last):\n",
              "\u001b[0m"
            ]
          },
          "metadata": {},
          "output_type": "display_data"
        },
        {
          "data": {
            "text/html": [
              "<pre style=\"white-space:pre;overflow-x:auto;line-height:normal;font-family:Menlo,'DejaVu Sans Mono',consolas,'Courier New',monospace\"><span style=\"color: #800000; text-decoration-color: #800000\">  File \"/usr/local/lib/python3.10/site-packages/requests/adapters.py\", line 486, in send\n",
              "    resp = conn.urlopen(\n",
              "  File \"/usr/local/lib/python3.10/site-packages/urllib3/connectionpool.py\", line 844, in urlopen\n",
              "    retries = retries.increment(\n",
              "  File \"/usr/local/lib/python3.10/site-packages/urllib3/util/retry.py\", line 515, in increment\n",
              "    raise MaxRetryError(_pool, url, reason) from reason  # type: ignore[arg-type]\n",
              "</span></pre>\n"
            ],
            "text/plain": [
              "\u001b[31m  File \"/usr/local/lib/python3.10/site-packages/requests/adapters.py\", line 486, in send\n",
              "    resp = conn.urlopen(\n",
              "  File \"/usr/local/lib/python3.10/site-packages/urllib3/connectionpool.py\", line 844, in urlopen\n",
              "    retries = retries.increment(\n",
              "  File \"/usr/local/lib/python3.10/site-packages/urllib3/util/retry.py\", line 515, in increment\n",
              "    raise MaxRetryError(_pool, url, reason) from reason  # type: ignore[arg-type]\n",
              "\u001b[0m"
            ]
          },
          "metadata": {},
          "output_type": "display_data"
        },
        {
          "data": {
            "text/html": [
              "<pre style=\"white-space:pre;overflow-x:auto;line-height:normal;font-family:Menlo,'DejaVu Sans Mono',consolas,'Courier New',monospace\"><span style=\"color: #800000; text-decoration-color: #800000\">urllib3.exceptions.MaxRetryError: HTTPSConnectionPool(host='iiif.library.cmu.edu', port=443): Max retries exceeded with url: /file/Simon_box00065_fld04954_bdl0001_doc0001/Simon_box00065_fld04954_bdl0001_doc0001.pdf (Caused by SSLError(SSLCertVerificationError(1, '[SSL: CERTIFICATE_VERIFY_FAILED] certificate verify failed: unable to get local issuer certificate (_ssl.c:997)')))\n",
              "</span></pre>\n"
            ],
            "text/plain": [
              "\u001b[31murllib3.exceptions.MaxRetryError: HTTPSConnectionPool(host='iiif.library.cmu.edu', port=443): Max retries exceeded with url: /file/Simon_box00065_fld04954_bdl0001_doc0001/Simon_box00065_fld04954_bdl0001_doc0001.pdf (Caused by SSLError(SSLCertVerificationError(1, '[SSL: CERTIFICATE_VERIFY_FAILED] certificate verify failed: unable to get local issuer certificate (_ssl.c:997)')))\n",
              "\u001b[0m"
            ]
          },
          "metadata": {},
          "output_type": "display_data"
        },
        {
          "data": {
            "text/html": [
              "<pre style=\"white-space:pre;overflow-x:auto;line-height:normal;font-family:Menlo,'DejaVu Sans Mono',consolas,'Courier New',monospace\"><span style=\"color: #800000; text-decoration-color: #800000\">\n",
              "During handling of the above exception, another exception occurred:\n",
              "\n",
              "Traceback (most recent call last):\n",
              "</span></pre>\n"
            ],
            "text/plain": [
              "\u001b[31m\n",
              "During handling of the above exception, another exception occurred:\n",
              "\n",
              "Traceback (most recent call last):\n",
              "\u001b[0m"
            ]
          },
          "metadata": {},
          "output_type": "display_data"
        },
        {
          "data": {
            "text/html": [
              "<pre style=\"white-space:pre;overflow-x:auto;line-height:normal;font-family:Menlo,'DejaVu Sans Mono',consolas,'Courier New',monospace\"><span style=\"color: #800000; text-decoration-color: #800000\">  File \"/pkg/modal/_container_entrypoint.py\", line 351, in handle_input_exception\n",
              "    yield\n",
              "  File \"/pkg/modal/_container_entrypoint.py\", line 437, in run_inputs\n",
              "    res = imp_fun.fun(*args, **kwargs)\n",
              "  File \"/root/etl/pdfs.py\", line 82, in extract_pdf\n",
              "    loader = PyPDFLoader(pdf_url)\n",
              "  File \"/usr/local/lib/python3.10/site-packages/langchain/document_loaders/pdf.py\", line 150, in __init__\n",
              "    super().__init__(file_path)\n",
              "</span></pre>\n"
            ],
            "text/plain": [
              "\u001b[31m  File \"/pkg/modal/_container_entrypoint.py\", line 351, in handle_input_exception\n",
              "    yield\n",
              "  File \"/pkg/modal/_container_entrypoint.py\", line 437, in run_inputs\n",
              "    res = imp_fun.fun(*args, **kwargs)\n",
              "  File \"/root/etl/pdfs.py\", line 82, in extract_pdf\n",
              "    loader = PyPDFLoader(pdf_url)\n",
              "  File \"/usr/local/lib/python3.10/site-packages/langchain/document_loaders/pdf.py\", line 150, in __init__\n",
              "    super().__init__(file_path)\n",
              "\u001b[0m"
            ]
          },
          "metadata": {},
          "output_type": "display_data"
        },
        {
          "data": {
            "text/html": [
              "<pre style=\"white-space:pre;overflow-x:auto;line-height:normal;font-family:Menlo,'DejaVu Sans Mono',consolas,'Courier New',monospace\"><span style=\"color: #800000; text-decoration-color: #800000\">  File \"/usr/local/lib/python3.10/site-packages/langchain/document_loaders/pdf.py\", line 83, in __init__\n",
              "    r = requests.get(self.file_path)\n",
              "  File \"/usr/local/lib/python3.10/site-packages/requests/api.py\", line 73, in get\n",
              "    return request(\"get\", url, params=params, **kwargs)\n",
              "  File \"/usr/local/lib/python3.10/site-packages/requests/api.py\", line 59, in request\n",
              "    return session.request(method=method, url=url, **kwargs)\n",
              "</span></pre>\n"
            ],
            "text/plain": [
              "\u001b[31m  File \"/usr/local/lib/python3.10/site-packages/langchain/document_loaders/pdf.py\", line 83, in __init__\n",
              "    r = requests.get(self.file_path)\n",
              "  File \"/usr/local/lib/python3.10/site-packages/requests/api.py\", line 73, in get\n",
              "    return request(\"get\", url, params=params, **kwargs)\n",
              "  File \"/usr/local/lib/python3.10/site-packages/requests/api.py\", line 59, in request\n",
              "    return session.request(method=method, url=url, **kwargs)\n",
              "\u001b[0m"
            ]
          },
          "metadata": {},
          "output_type": "display_data"
        },
        {
          "data": {
            "text/html": [
              "<pre style=\"white-space:pre;overflow-x:auto;line-height:normal;font-family:Menlo,'DejaVu Sans Mono',consolas,'Courier New',monospace\"><span style=\"color: #800000; text-decoration-color: #800000\">  File \"/usr/local/lib/python3.10/site-packages/requests/sessions.py\", line 589, in request\n",
              "    resp = self.send(prep, **send_kwargs)\n",
              "  File \"/usr/local/lib/python3.10/site-packages/requests/sessions.py\", line 703, in send\n",
              "    r = adapter.send(request, **kwargs)\n",
              "  File \"/usr/local/lib/python3.10/site-packages/requests/adapters.py\", line 517, in send\n",
              "    raise SSLError(e, request=request)\n",
              "</span></pre>\n"
            ],
            "text/plain": [
              "\u001b[31m  File \"/usr/local/lib/python3.10/site-packages/requests/sessions.py\", line 589, in request\n",
              "    resp = self.send(prep, **send_kwargs)\n",
              "  File \"/usr/local/lib/python3.10/site-packages/requests/sessions.py\", line 703, in send\n",
              "    r = adapter.send(request, **kwargs)\n",
              "  File \"/usr/local/lib/python3.10/site-packages/requests/adapters.py\", line 517, in send\n",
              "    raise SSLError(e, request=request)\n",
              "\u001b[0m"
            ]
          },
          "metadata": {},
          "output_type": "display_data"
        },
        {
          "data": {
            "text/html": [
              "<pre style=\"white-space:pre;overflow-x:auto;line-height:normal;font-family:Menlo,'DejaVu Sans Mono',consolas,'Courier New',monospace\"><span style=\"color: #800000; text-decoration-color: #800000\">requests.exceptions.SSLError: HTTPSConnectionPool(host='iiif.library.cmu.edu', port=443): Max retries exceeded with url: /file/Simon_box00065_fld04954_bdl0001_doc0001/Simon_box00065_fld04954_bdl0001_doc0001.pdf (Caused by SSLError(SSLCertVerificationError(1, '[SSL: CERTIFICATE_VERIFY_FAILED] certificate verify failed: unable to get local issuer certificate (_ssl.c:997)')))\n",
              "</span></pre>\n"
            ],
            "text/plain": [
              "\u001b[31mrequests.exceptions.SSLError: HTTPSConnectionPool(host='iiif.library.cmu.edu', port=443): Max retries exceeded with url: /file/Simon_box00065_fld04954_bdl0001_doc0001/Simon_box00065_fld04954_bdl0001_doc0001.pdf (Caused by SSLError(SSLCertVerificationError(1, '[SSL: CERTIFICATE_VERIFY_FAILED] certificate verify failed: unable to get local issuer certificate (_ssl.c:997)')))\n",
              "\u001b[0m"
            ]
          },
          "metadata": {},
          "output_type": "display_data"
        },
        {
          "data": {
            "text/html": [
              "<pre style=\"white-space:pre;overflow-x:auto;line-height:normal;font-family:Menlo,'DejaVu Sans Mono',consolas,'Courier New',monospace\"><span style=\"color: #800000; text-decoration-color: #800000\">Traceback (most recent call last):\n",
              "  File \"/usr/local/lib/python3.10/site-packages/urllib3/connectionpool.py\", line 467, in _make_request\n",
              "    self._validate_conn(conn)\n",
              "  File \"/usr/local/lib/python3.10/site-packages/urllib3/connectionpool.py\", line 1092, in _validate_conn\n",
              "    conn.connect()\n",
              "  File \"/usr/local/lib/python3.10/site-packages/urllib3/connection.py\", line 642, in connect\n",
              "    sock_and_verified = _ssl_wrap_socket_and_match_hostname(\n",
              "  File \"/usr/local/lib/python3.10/site-packages/urllib3/connection.py\", line 783, in _ssl_wrap_socket_and_match_hostname\n",
              "    ssl_sock = ssl_wrap_socket(\n",
              "  File \"/usr/local/lib/python3.10/site-packages/urllib3/util/ssl_.py\", line 469, in ssl_wrap_socket\n",
              "    ssl_sock = _ssl_wrap_socket_impl(sock, context, tls_in_tls, server_hostname)\n",
              "  File \"/usr/local/lib/python3.10/site-packages/urllib3/util/ssl_.py\", line 513, in _ssl_wrap_socket_impl\n",
              "    return ssl_context.wrap_socket(sock, server_hostname=server_hostname)\n",
              "  File \"/usr/local/lib/python3.10/ssl.py\", line 513, in wrap_socket\n",
              "    return self.sslsocket_class._create(\n",
              "  File \"/usr/local/lib/python3.10/ssl.py\", line 1071, in _create\n",
              "    self.do_handshake()\n",
              "  File \"/usr/local/lib/python3.10/ssl.py\", line 1342, in do_handshake\n",
              "    self._sslobj.do_handshake()\n",
              "ssl.SSLCertVerificationError: [SSL: CERTIFICATE_VERIFY_FAILED] certificate verify failed: unable to get local issuer certificate (_ssl.c:997)\n",
              "\n",
              "During handling of the above exception, another exception occurred:\n",
              "\n",
              "Traceback (most recent call last):\n",
              "  File \"/usr/local/lib/python3.10/site-packages/urllib3/connectionpool.py\", line 790, in urlopen\n",
              "    response = self._make_request(\n",
              "  File \"/usr/local/lib/python3.10/site-packages/urllib3/connectionpool.py\", line 491, in _make_request\n",
              "    raise new_e\n",
              "urllib3.exceptions.SSLError: [SSL: CERTIFICATE_VERIFY_FAILED] certificate verify failed: unable to get local issuer certificate (_ssl.c:997)\n",
              "\n",
              "The above exception was the direct cause of the following exception:\n",
              "\n",
              "</span></pre>\n"
            ],
            "text/plain": [
              "\u001b[31mTraceback (most recent call last):\n",
              "  File \"/usr/local/lib/python3.10/site-packages/urllib3/connectionpool.py\", line 467, in _make_request\n",
              "    self._validate_conn(conn)\n",
              "  File \"/usr/local/lib/python3.10/site-packages/urllib3/connectionpool.py\", line 1092, in _validate_conn\n",
              "    conn.connect()\n",
              "  File \"/usr/local/lib/python3.10/site-packages/urllib3/connection.py\", line 642, in connect\n",
              "    sock_and_verified = _ssl_wrap_socket_and_match_hostname(\n",
              "  File \"/usr/local/lib/python3.10/site-packages/urllib3/connection.py\", line 783, in _ssl_wrap_socket_and_match_hostname\n",
              "    ssl_sock = ssl_wrap_socket(\n",
              "  File \"/usr/local/lib/python3.10/site-packages/urllib3/util/ssl_.py\", line 469, in ssl_wrap_socket\n",
              "    ssl_sock = _ssl_wrap_socket_impl(sock, context, tls_in_tls, server_hostname)\n",
              "  File \"/usr/local/lib/python3.10/site-packages/urllib3/util/ssl_.py\", line 513, in _ssl_wrap_socket_impl\n",
              "    return ssl_context.wrap_socket(sock, server_hostname=server_hostname)\n",
              "  File \"/usr/local/lib/python3.10/ssl.py\", line 513, in wrap_socket\n",
              "    return self.sslsocket_class._create(\n",
              "  File \"/usr/local/lib/python3.10/ssl.py\", line 1071, in _create\n",
              "    self.do_handshake()\n",
              "  File \"/usr/local/lib/python3.10/ssl.py\", line 1342, in do_handshake\n",
              "    self._sslobj.do_handshake()\n",
              "ssl.SSLCertVerificationError: [SSL: CERTIFICATE_VERIFY_FAILED] certificate verify failed: unable to get local issuer certificate (_ssl.c:997)\n",
              "\n",
              "During handling of the above exception, another exception occurred:\n",
              "\n",
              "Traceback (most recent call last):\n",
              "  File \"/usr/local/lib/python3.10/site-packages/urllib3/connectionpool.py\", line 790, in urlopen\n",
              "    response = self._make_request(\n",
              "  File \"/usr/local/lib/python3.10/site-packages/urllib3/connectionpool.py\", line 491, in _make_request\n",
              "    raise new_e\n",
              "urllib3.exceptions.SSLError: [SSL: CERTIFICATE_VERIFY_FAILED] certificate verify failed: unable to get local issuer certificate (_ssl.c:997)\n",
              "\n",
              "The above exception was the direct cause of the following exception:\n",
              "\n",
              "\u001b[0m"
            ]
          },
          "metadata": {},
          "output_type": "display_data"
        },
        {
          "data": {
            "text/html": [
              "<pre style=\"white-space:pre;overflow-x:auto;line-height:normal;font-family:Menlo,'DejaVu Sans Mono',consolas,'Courier New',monospace\"><span style=\"color: #800000; text-decoration-color: #800000\">Traceback (most recent call last):\n",
              "  File \"/usr/local/lib/python3.10/site-packages/requests/adapters.py\", line 486, in send\n",
              "    resp = conn.urlopen(\n",
              "  File \"/usr/local/lib/python3.10/site-packages/urllib3/connectionpool.py\", line 844, in urlopen\n",
              "    retries = retries.increment(\n",
              "  File \"/usr/local/lib/python3.10/site-packages/urllib3/util/retry.py\", line 515, in increment\n",
              "    raise MaxRetryError(_pool, url, reason) from reason  # type: ignore[arg-type]\n",
              "urllib3.exceptions.MaxRetryError: HTTPSConnectionPool(host='iiif.library.cmu.edu', port=443): Max retries exceeded with url: /file/Simon_box00008_fld00585_bdl0001_doc0001/Simon_box00008_fld00585_bdl0001_doc0001.pdf (Caused by SSLError(SSLCertVerificationError(1, '[SSL: CERTIFICATE_VERIFY_FAILED] certificate verify failed: unable to get local issuer certificate (_ssl.c:997)')))\n",
              "\n",
              "During handling of the above exception, another exception occurred:\n",
              "\n",
              "Traceback (most recent call last):\n",
              "</span></pre>\n"
            ],
            "text/plain": [
              "\u001b[31mTraceback (most recent call last):\n",
              "  File \"/usr/local/lib/python3.10/site-packages/requests/adapters.py\", line 486, in send\n",
              "    resp = conn.urlopen(\n",
              "  File \"/usr/local/lib/python3.10/site-packages/urllib3/connectionpool.py\", line 844, in urlopen\n",
              "    retries = retries.increment(\n",
              "  File \"/usr/local/lib/python3.10/site-packages/urllib3/util/retry.py\", line 515, in increment\n",
              "    raise MaxRetryError(_pool, url, reason) from reason  # type: ignore[arg-type]\n",
              "urllib3.exceptions.MaxRetryError: HTTPSConnectionPool(host='iiif.library.cmu.edu', port=443): Max retries exceeded with url: /file/Simon_box00008_fld00585_bdl0001_doc0001/Simon_box00008_fld00585_bdl0001_doc0001.pdf (Caused by SSLError(SSLCertVerificationError(1, '[SSL: CERTIFICATE_VERIFY_FAILED] certificate verify failed: unable to get local issuer certificate (_ssl.c:997)')))\n",
              "\n",
              "During handling of the above exception, another exception occurred:\n",
              "\n",
              "Traceback (most recent call last):\n",
              "\u001b[0m"
            ]
          },
          "metadata": {},
          "output_type": "display_data"
        },
        {
          "data": {
            "text/html": [
              "<pre style=\"white-space:pre;overflow-x:auto;line-height:normal;font-family:Menlo,'DejaVu Sans Mono',consolas,'Courier New',monospace\"><span style=\"color: #800000; text-decoration-color: #800000\">  File \"/pkg/modal/_container_entrypoint.py\", line 351, in handle_input_exception\n",
              "    yield\n",
              "  File \"/pkg/modal/_container_entrypoint.py\", line 437, in run_inputs\n",
              "    res = imp_fun.fun(*args, **kwargs)\n",
              "  File \"/root/etl/pdfs.py\", line 82, in extract_pdf\n",
              "    loader = PyPDFLoader(pdf_url)\n",
              "  File \"/usr/local/lib/python3.10/site-packages/langchain/document_loaders/pdf.py\", line 150, in __init__\n",
              "    super().__init__(file_path)\n",
              "  File \"/usr/local/lib/python3.10/site-packages/langchain/document_loaders/pdf.py\", line 83, in __init__\n",
              "    r = requests.get(self.file_path)\n",
              "  File \"/usr/local/lib/python3.10/site-packages/requests/api.py\", line 73, in get\n",
              "    return request(\"get\", url, params=params, **kwargs)\n",
              "  File \"/usr/local/lib/python3.10/site-packages/requests/api.py\", line 59, in request\n",
              "    return session.request(method=method, url=url, **kwargs)\n",
              "  File \"/usr/local/lib/python3.10/site-packages/requests/sessions.py\", line 589, in request\n",
              "    resp = self.send(prep, **send_kwargs)\n",
              "  File \"/usr/local/lib/python3.10/site-packages/requests/sessions.py\", line 703, in send\n",
              "    r = adapter.send(request, **kwargs)\n",
              "  File \"/usr/local/lib/python3.10/site-packages/requests/adapters.py\", line 517, in send\n",
              "    raise SSLError(e, request=request)\n",
              "requests.exceptions.SSLError: HTTPSConnectionPool(host='iiif.library.cmu.edu', port=443): Max retries exceeded with url: /file/Simon_box00008_fld00585_bdl0001_doc0001/Simon_box00008_fld00585_bdl0001_doc0001.pdf (Caused by SSLError(SSLCertVerificationError(1, '[SSL: CERTIFICATE_VERIFY_FAILED] certificate verify failed: unable to get local issuer certificate (_ssl.c:997)')))\n",
              "</span></pre>\n"
            ],
            "text/plain": [
              "\u001b[31m  File \"/pkg/modal/_container_entrypoint.py\", line 351, in handle_input_exception\n",
              "    yield\n",
              "  File \"/pkg/modal/_container_entrypoint.py\", line 437, in run_inputs\n",
              "    res = imp_fun.fun(*args, **kwargs)\n",
              "  File \"/root/etl/pdfs.py\", line 82, in extract_pdf\n",
              "    loader = PyPDFLoader(pdf_url)\n",
              "  File \"/usr/local/lib/python3.10/site-packages/langchain/document_loaders/pdf.py\", line 150, in __init__\n",
              "    super().__init__(file_path)\n",
              "  File \"/usr/local/lib/python3.10/site-packages/langchain/document_loaders/pdf.py\", line 83, in __init__\n",
              "    r = requests.get(self.file_path)\n",
              "  File \"/usr/local/lib/python3.10/site-packages/requests/api.py\", line 73, in get\n",
              "    return request(\"get\", url, params=params, **kwargs)\n",
              "  File \"/usr/local/lib/python3.10/site-packages/requests/api.py\", line 59, in request\n",
              "    return session.request(method=method, url=url, **kwargs)\n",
              "  File \"/usr/local/lib/python3.10/site-packages/requests/sessions.py\", line 589, in request\n",
              "    resp = self.send(prep, **send_kwargs)\n",
              "  File \"/usr/local/lib/python3.10/site-packages/requests/sessions.py\", line 703, in send\n",
              "    r = adapter.send(request, **kwargs)\n",
              "  File \"/usr/local/lib/python3.10/site-packages/requests/adapters.py\", line 517, in send\n",
              "    raise SSLError(e, request=request)\n",
              "requests.exceptions.SSLError: HTTPSConnectionPool(host='iiif.library.cmu.edu', port=443): Max retries exceeded with url: /file/Simon_box00008_fld00585_bdl0001_doc0001/Simon_box00008_fld00585_bdl0001_doc0001.pdf (Caused by SSLError(SSLCertVerificationError(1, '[SSL: CERTIFICATE_VERIFY_FAILED] certificate verify failed: unable to get local issuer certificate (_ssl.c:997)')))\n",
              "\u001b[0m"
            ]
          },
          "metadata": {},
          "output_type": "display_data"
        },
        {
          "data": {
            "text/html": [
              "<pre style=\"white-space:pre;overflow-x:auto;line-height:normal;font-family:Menlo,'DejaVu Sans Mono',consolas,'Courier New',monospace\"></pre>\n"
            ],
            "text/plain": []
          },
          "metadata": {},
          "output_type": "display_data"
        },
        {
          "data": {
            "text/html": [
              "<pre style=\"white-space:pre;overflow-x:auto;line-height:normal;font-family:Menlo,'DejaVu Sans Mono',consolas,'Courier New',monospace\"><span style=\"color: #008000; text-decoration-color: #008000\">\u2713</span> App completed.\n",
              "</pre>\n"
            ],
            "text/plain": [
              "\u001b[32m\u2713\u001b[0m App completed.\n"
            ]
          },
          "metadata": {},
          "output_type": "display_data"
        }
      ],
      "source": [
        "with pdfs.stub.run():\n",
        "    # first, we enrich the paper data by finding direct PDF URLs where we can\n",
        "    paper_data = pdfs.get_pdf_url.map(\n",
        "        # pdf_infos[::25], #subsampling to run faster\n",
        "        pdf_infos,\n",
        "        return_exceptions=True,\n",
        "    )\n",
        "    extracts = pdfs.extract_pdf.map(paper_data, return_exceptions=True)\n",
        "    # extracts = [sublist for sublist in extracts]\n",
        "    # then we turn the PDFs into JSON documents\n",
        "    documents = shared.unchunk(  # each pdf creates a list of documents, one per page, so we flatten\n",
        "        # after we run the extract_pdf function on Modal to get those pages\n",
        "        extracts\n",
        "    )"
      ]
    },
    {
      "cell_type": "code",
      "execution_count": 15,
      "metadata": {},
      "outputs": [
        {
          "name": "stdout",
          "output_type": "stream",
          "text": [
            "{ 'arxiv_id': '2305.07895',\n",
            "  'date': datetime.datetime(2023, 6, 19, 3, 36, 8, tzinfo=datetime.timezone.utc),\n",
            "  'full-title': 'On the Hidden Mystery of OCR in Large Multimodal Models - p0',\n",
            "  'ignore': False,\n",
            "  'is_endmatter': False,\n",
            "  'page': 0,\n",
            "  'sha256': '0f8257ead372b2b93b7b1a257e70f6ed36f37a231b45a17852bb50672cc5bfef',\n",
            "  'source': 'https://arxiv.org/abs/2305.07895',\n",
            "  'title': 'On the Hidden Mystery of OCR in Large Multimodal Models'}\n"
          ]
        }
      ],
      "source": [
        "pp.pprint(documents[0][\"metadata\"])"
      ]
    },
    {
      "cell_type": "code",
      "execution_count": 20,
      "metadata": {},
      "outputs": [
        {
          "data": {
            "text/html": [
              "\n",
              "        <iframe\n",
              "            width=\"800\"\n",
              "            height=\"400\"\n",
              "            src=\"https://arxiv.org/abs/2305.07895\"\n",
              "            frameborder=\"0\"\n",
              "            allowfullscreen\n",
              "            \n",
              "        ></iframe>\n",
              "        "
            ],
            "text/plain": [
              "<IPython.lib.display.IFrame at 0x10f0dbaf0>"
            ]
          },
          "execution_count": 20,
          "metadata": {},
          "output_type": "execute_result"
        }
      ],
      "source": [
        "from IPython.display import IFrame\n",
        "\n",
        "IFrame(src=documents[0][\"metadata\"][\"source\"], width=800, height=400)"
      ]
    },
    {
      "cell_type": "code",
      "execution_count": null,
      "metadata": {},
      "outputs": [],
      "source": [
        "with shared.stub.run():\n",
        "    # we split our document list into 10 pieces, so that we don't open too many connections\n",
        "    chunked_documents = shared.chunk_into(documents, 10)\n",
        "    list(shared.add_to_document_db.map(chunked_documents, kwargs={\"db\": db, \"collection\": collection}))"
      ]
    },
    {
      "cell_type": "code",
      "execution_count": null,
      "metadata": {},
      "outputs": [],
      "source": [
        "with shared.stub.run():\n",
        "  import docstore\n",
        "   # pull only arxiv papers\n",
        "  query = { \"metadata.source\": { \"$regex\": \"arxiv\\.org\", \"$options\": \"i\" } }\n",
        "  # project out the text field, it can get large\n",
        "  projection = {\"text\": 0}\n",
        "  # get just one result to show it worked\n",
        "  result = docstore.query_one(query, projection, db=db, collection=collection)\n",
        "\n",
        "pp.pprint(result)"
      ]
    },
    {
      "attachments": {},
      "cell_type": "markdown",
      "metadata": {},
      "source": [
        "## Markdown Files: Lectures"
      ]
    },
    {
      "attachments": {},
      "cell_type": "markdown",
      "metadata": {},
      "source": [
        "```bash\n",
        "!modal run etl/markdown.py --json-path data/lectures-2022.json\n",
        "```"
      ]
    },
    {
      "cell_type": "code",
      "execution_count": null,
      "metadata": {},
      "outputs": [],
      "source": [
        "display_modal_image(markdown.image)"
      ]
    },
    {
      "cell_type": "code",
      "execution_count": null,
      "metadata": {},
      "outputs": [],
      "source": [
        "markdown_path = Path(\"data\") / \"lectures-2022.json\"\n",
        "\n",
        "with open(markdown_path) as f:\n",
        "  markdown_corpus = json.load(f)\n",
        "\n",
        "website_url, md_url = (\n",
        "  markdown_corpus[\"website_url_base\"],\n",
        "  markdown_corpus[\"md_url_base\"],\n",
        ")\n",
        "\n",
        "lectures = markdown_corpus[\"lectures\"]\n",
        "\n",
        "lectures[0]"
      ]
    },
    {
      "cell_type": "code",
      "execution_count": null,
      "metadata": {},
      "outputs": [],
      "source": [
        "with markdown.stub.run():\n",
        "    documents = (\n",
        "        shared.unchunk(  # each lecture creates multiple documents, one per section so we flatten\n",
        "            markdown.to_documents.map(\n",
        "                lectures,\n",
        "                kwargs={\"website_url\": website_url, \"md_url\": md_url},\n",
        "                return_exceptions=True,\n",
        "            )\n",
        "        )\n",
        "    )"
      ]
    },
    {
      "cell_type": "code",
      "execution_count": null,
      "metadata": {},
      "outputs": [],
      "source": [
        "pp.pprint(documents[1][\"metadata\"])"
      ]
    },
    {
      "cell_type": "code",
      "execution_count": null,
      "metadata": {},
      "outputs": [],
      "source": [
        "from IPython.display import IFrame\n",
        "\n",
        "IFrame(src=documents[1][\"metadata\"][\"source\"], width=800, height=400)"
      ]
    },
    {
      "cell_type": "code",
      "execution_count": null,
      "metadata": {},
      "outputs": [],
      "source": [
        "with shared.stub.run():\n",
        "    chunked_documents = shared.chunk_into(documents, 10)\n",
        "    list(shared.add_to_document_db.map(chunked_documents, kwargs={\"db\": db, \"collection\": collection}))"
      ]
    },
    {
      "cell_type": "code",
      "execution_count": null,
      "metadata": {},
      "outputs": [],
      "source": [
        "with shared.stub.run():\n",
        "  import docstore\n",
        "  # pull only lectures\n",
        "  query = { \"metadata.source\": { \"$regex\": \"lecture\", \"$options\": \"i\" } }\n",
        "  # project out the text field, it can get large\n",
        "  projection = {\"text\": 0}\n",
        "  # get just one result to show it worked\n",
        "  result = docstore.query_one(query, projection, db=db, collection=collection)\n",
        "\n",
        "pp.pprint(result)"
      ]
    },
    {
      "attachments": {},
      "cell_type": "markdown",
      "metadata": {},
      "source": [
        "## Videos: YouTube Transcripts"
      ]
    },
    {
      "cell_type": "code",
      "execution_count": null,
      "metadata": {},
      "outputs": [],
      "source": [
        "display_modal_image(videos.image)"
      ]
    },
    {
      "cell_type": "code",
      "execution_count": null,
      "metadata": {},
      "outputs": [],
      "source": [
        "videos_path = Path(\"data\") / \"videos.json\"\n",
        "\n",
        "with open(videos_path) as f:\n",
        "    video_infos = json.load(f)\n",
        "\n",
        "video_ids = [video[\"id\"] for video in video_infos]\n",
        "\n",
        "video_infos[0]"
      ]
    },
    {
      "cell_type": "code",
      "execution_count": null,
      "metadata": {},
      "outputs": [],
      "source": [
        "with videos.stub.run():\n",
        "    documents = (\n",
        "        shared.unchunk(  # each lecture creates multiple documents, one per chapter, so we flatten\n",
        "            videos.extract_subtitles.map(\n",
        "                video_infos[-3:],  # subsampling to run faster\n",
        "                return_exceptions=True,\n",
        "            )\n",
        "        )\n",
        "    )"
      ]
    },
    {
      "cell_type": "code",
      "execution_count": null,
      "metadata": {},
      "outputs": [],
      "source": [
        "pp.pprint(documents[1][\"metadata\"])"
      ]
    },
    {
      "cell_type": "code",
      "execution_count": null,
      "metadata": {},
      "outputs": [],
      "source": [
        "from IPython.display import YouTubeVideo\n",
        "\n",
        "id_str, time_str = documents[1][\"metadata\"][\"source\"].split(\"?v=\")[-1].split(\"&t=\")\n",
        "YouTubeVideo(id_str, start=int(time_str.strip(\"s\")), width=800, height=400)"
      ]
    },
    {
      "cell_type": "code",
      "execution_count": null,
      "metadata": {},
      "outputs": [],
      "source": [
        "with shared.stub.run():\n",
        "    chunked_documents = shared.chunk_into(documents, 10)\n",
        "    list(shared.add_to_document_db.map(chunked_documents, kwargs={\"db\": db, \"collection\": collection}))"
      ]
    },
    {
      "cell_type": "code",
      "execution_count": null,
      "metadata": {},
      "outputs": [],
      "source": [
        "with shared.stub.run():\n",
        "  import docstore\n",
        "  # pull only lectures\n",
        "  query = { \"metadata.source\": { \"$regex\": \"youtube\", \"$options\": \"i\" } }\n",
        "  # project out the text field, it can get large\n",
        "  projection = {\"text\": 0}\n",
        "  # get just one result to show it worked\n",
        "  result = docstore.query_one(query, projection, db=db, collection=collection)\n",
        "\n",
        "pp.pprint(result)"
      ]
    }
  ],
  "metadata": {
    "kernelspec": {
      "display_name": "ask-fsdl",
      "language": "python",
      "name": "python3"
    },
    "language_info": {
      "codemirror_mode": {
        "name": "ipython",
        "version": 3
      },
      "file_extension": ".py",
      "mimetype": "text/x-python",
      "name": "python",
      "nbconvert_exporter": "python",
      "pygments_lexer": "ipython3",
      "version": "3.10.9"
    },
    "orig_nbformat": 4
  },
  "nbformat": 4,
  "nbformat_minor": 2
}
